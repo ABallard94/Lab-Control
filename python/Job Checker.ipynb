{
 "cells": [
  {
   "cell_type": "code",
   "execution_count": 8,
   "metadata": {
    "collapsed": true
   },
   "outputs": [],
   "source": [
    "import time\n",
    "import numpy as np\n",
    "from datetime import datetime\n",
    "from calendar import timegm\n",
    "from pymongo import MongoClient, ASCENDING, DESCENDING, ReturnDocument\n",
    "from pprint import pprint"
   ]
  },
  {
   "cell_type": "code",
   "execution_count": 4,
   "metadata": {
    "collapsed": false
   },
   "outputs": [],
   "source": [
    "def dbConnect():\n",
    "    client = MongoClient('mongodb://localhost/')\n",
    "    jobcollection = client.jobs.adr2jobs\n",
    "    return jobcollection\n",
    "jobcollection = dbConnect()"
   ]
  },
  {
   "cell_type": "code",
   "execution_count": 63,
   "metadata": {
    "collapsed": false,
    "scrolled": true
   },
   "outputs": [
    {
     "name": "stdout",
     "output_type": "stream",
     "text": [
      "{u'__v': 0,\n",
      " u'_id': ObjectId('5602b64b57a9d9155071ba08'),\n",
      " u'dateString': u'Wed Sep 23 2015',\n",
      " u'finishTime': datetime.datetime(2015, 9, 23, 14, 6),\n",
      " u'percentDone': 0,\n",
      " u'scheduledOn': datetime.datetime(2015, 9, 23, 14, 25, 13, 977000),\n",
      " u'startTime': datetime.datetime(2015, 9, 23, 13, 6),\n",
      " u'timeString': u'09:06:00 GMT-0400 (Eastern Daylight Time)',\n",
      " u'type': u'Magup'}\n",
      "{u'__v': 0,\n",
      " u'_id': ObjectId('5602b64b57a9d9155071ba09'),\n",
      " u'completed': False,\n",
      " u'dateString': u'Wed Sep 23 2015',\n",
      " u'finishTime': datetime.datetime(2015, 9, 23, 14, 26),\n",
      " u'percentDone': 0,\n",
      " u'scheduledOn': datetime.datetime(2015, 9, 23, 14, 25, 13, 977000),\n",
      " u'startTime': datetime.datetime(2015, 9, 23, 14, 6),\n",
      " u'timeString': u'10:06:00 GMT-0400 (Eastern Daylight Time)',\n",
      " u'type': u'Soak'}\n",
      "{u'__v': 0,\n",
      " u'_id': ObjectId('5602b64b57a9d9155071ba0a'),\n",
      " u'completed': False,\n",
      " u'dateString': u'Wed Sep 23 2015',\n",
      " u'finishTime': datetime.datetime(2015, 9, 23, 15, 26),\n",
      " u'percentDone': 0,\n",
      " u'scheduledOn': datetime.datetime(2015, 9, 23, 14, 25, 13, 977000),\n",
      " u'startTime': datetime.datetime(2015, 9, 23, 14, 26),\n",
      " u'timeString': u'10:26:00 GMT-0400 (Eastern Daylight Time)',\n",
      " u'type': u'Magdown'}\n"
     ]
    }
   ],
   "source": [
    "for job in jobcollection.find({}).sort('startTime', ASCENDING):\n",
    "    pprint(job)"
   ]
  },
  {
   "cell_type": "code",
   "execution_count": 77,
   "metadata": {
    "collapsed": false
   },
   "outputs": [
    {
     "data": {
      "text/plain": [
       "86399"
      ]
     },
     "execution_count": 77,
     "metadata": {},
     "output_type": "execute_result"
    }
   ],
   "source": [
    "(job['startTime'] - datetime.utcnow()).seconds"
   ]
  },
  {
   "cell_type": "code",
   "execution_count": 52,
   "metadata": {
    "collapsed": false
   },
   "outputs": [
    {
     "data": {
      "text/plain": [
       "datetime.datetime(2015, 9, 23, 14, 19)"
      ]
     },
     "execution_count": 52,
     "metadata": {},
     "output_type": "execute_result"
    }
   ],
   "source": [
    "job['startTime']"
   ]
  },
  {
   "cell_type": "code",
   "execution_count": 65,
   "metadata": {
    "collapsed": false
   },
   "outputs": [
    {
     "data": {
      "text/plain": [
       "1439"
      ]
     },
     "execution_count": 65,
     "metadata": {},
     "output_type": "execute_result"
    }
   ],
   "source": [
    "(datetime.utcnow() - job['startTime']).seconds/60"
   ]
  },
  {
   "cell_type": "code",
   "execution_count": 85,
   "metadata": {
    "collapsed": false
   },
   "outputs": [],
   "source": [
    "currentJob = None"
   ]
  },
  {
   "cell_type": "code",
   "execution_count": null,
   "metadata": {
    "collapsed": false
   },
   "outputs": [
    {
     "name": "stdout",
     "output_type": "stream",
     "text": [
      "Next Job at 11:37:00 GMT-0400 (Eastern Daylight Time)\n",
      "Starting Scheduled Magup\n",
      "Next Job at 12:37:00 GMT-0400 (Eastern Daylight Time)\n",
      "Next Job at 12:37:00 GMT-0400 (Eastern Daylight Time)\n",
      "Next Job at 12:37:00 GMT-0400 (Eastern Daylight Time)\n",
      "Next Job at 12:37:00 GMT-0400 (Eastern Daylight Time)\n",
      "Next Job at 12:37:00 GMT-0400 (Eastern Daylight Time)\n",
      "Next Job at 12:37:00 GMT-0400 (Eastern Daylight Time)\n",
      "Next Job at 12:37:00 GMT-0400 (Eastern Daylight Time)\n",
      "Next Job at 12:37:00 GMT-0400 (Eastern Daylight Time)\n",
      "Next Job at 12:37:00 GMT-0400 (Eastern Daylight Time)\n",
      "Next Job at 12:37:00 GMT-0400 (Eastern Daylight Time)\n",
      "Next Job at 11:36:00 GMT-0400 (Eastern Daylight Time)"
     ]
    }
   ],
   "source": [
    "while True:   \n",
    "    nextJob = None\n",
    "    for job in jobcollection.find({'inProgress': False}).limit(1).sort('startTime', ASCENDING):\n",
    "        nextJob = job\n",
    "    if (nextJob):\n",
    "        print(\"Next Job at \" + nextJob['timeString'])\n",
    "    \n",
    "    if (nextJob and (nextJob['startTime'] - datetime.utcnow()).seconds < 5):\n",
    "        # Mark previous current job as completed\n",
    "        if (currentJob and currentJob['inProgress']):\n",
    "            jobcollection.find_one_and_update({'_id': currentJob['_id']}, {'$set': {'inProgress': False, 'completed': True}})\n",
    "        \n",
    "        # Next Job becomes current job\n",
    "        currentJob = nextJob\n",
    "        print(\"Starting Scheduled \" + currentJob['type'])\n",
    "        jobcollection.find_one_and_update({'_id': currentJob['_id']}, {'$set': {'inProgress': True}})\n",
    "#         info = infocollection.find_one_and_\n",
    "    time.sleep(5)"
   ]
  },
  {
   "cell_type": "code",
   "execution_count": null,
   "metadata": {
    "collapsed": true
   },
   "outputs": [],
   "source": []
  }
 ],
 "metadata": {
  "kernelspec": {
   "display_name": "Python 2",
   "language": "python",
   "name": "python2"
  },
  "language_info": {
   "codemirror_mode": {
    "name": "ipython",
    "version": 2
   },
   "file_extension": ".py",
   "mimetype": "text/x-python",
   "name": "python",
   "nbconvert_exporter": "python",
   "pygments_lexer": "ipython2",
   "version": "2.7.10"
  }
 },
 "nbformat": 4,
 "nbformat_minor": 0
}
