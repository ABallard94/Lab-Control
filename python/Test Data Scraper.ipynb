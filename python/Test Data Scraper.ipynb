{
 "cells": [
  {
   "cell_type": "code",
   "execution_count": 1,
   "metadata": {
    "collapsed": true
   },
   "outputs": [],
   "source": [
    "import time\n",
    "import numpy as np\n",
    "from datetime import datetime\n",
    "from calendar import timegm\n",
    "from pymongo import MongoClient, ASCENDING, DESCENDING\n",
    "import pyvisa\n",
    "import serial"
   ]
  },
  {
   "cell_type": "code",
   "execution_count": 6,
   "metadata": {
    "collapsed": true
   },
   "outputs": [],
   "source": [
    "def dbConnect():\n",
    "    client = MongoClient('mongodb://localhost/')\n",
    "    db = client.data\n",
    "    adr1collection = db.adr1datas\n",
    "    adr2collection = db.adr2datas\n",
    "    dr1collection= db.dr1datas\n",
    "    dr2collection= db.dr2datas\n",
    "    db.collection_names()\n",
    "    infocollection = db.adr2infos\n",
    "    return adr1collection, adr2collection, dr1collection, dr2collection\n",
    "adr1collection, adr2collection, dr1collection, dr2collection = dbConnect()"
   ]
  },
  {
   "cell_type": "code",
   "execution_count": 11,
   "metadata": {
    "collapsed": false
   },
   "outputs": [
    {
     "data": {
      "text/plain": [
       "{'baseTemp': 0.09288865425081627,\n",
       " 'currentJob': 'None',\n",
       " 'magnetVoltage': 0.5092735196358679,\n",
       " 'oneKTemp': 3.0374178542026153,\n",
       " 'percentComplete': 0,\n",
       " 'psCurrent': 0.6319355355576181,\n",
       " 'psVoltage': 0.26317635338491985,\n",
       " 'sixtyKTemp': 60.93145339396183,\n",
       " 'switchState': 'Closed',\n",
       " 'threeKTemp': 3.3727174224236793,\n",
       " 'timeStamp': 1437231572}"
      ]
     },
     "execution_count": 11,
     "metadata": {},
     "output_type": "execute_result"
    }
   ],
   "source": [
    "def rand_adr_data():\n",
    "    post = {\n",
    "        \"timeStamp\": timegm(datetime.now().timetuple()),\n",
    "        \"baseTemp\": .05*np.random.rand()+.05,\n",
    "        \"threeKTemp\": 0.7*np.random.rand()+2.8,\n",
    "        \"oneKTemp\": 0.7*np.random.rand()+2.8,\n",
    "        \"sixtyKTemp\": np.random.rand()+60,\n",
    "        \"magnetVoltage\": np.random.rand(),\n",
    "        \"psVoltage\": np.random.rand(),\n",
    "        \"psCurrent\": np.random.rand(),\n",
    "        \"currentJob\": \"None\",\n",
    "        \"percentComplete\": 0,\n",
    "        \"switchState\": \"Closed\"\n",
    "    }\n",
    "    return post\n",
    "rand_adr_data()"
   ]
  },
  {
   "cell_type": "code",
   "execution_count": 13,
   "metadata": {
    "collapsed": false
   },
   "outputs": [
    {
     "data": {
      "text/plain": [
       "{'t1': 0.05281412854828038,\n",
       " 't3': 3.4807324246684948,\n",
       " 't4': 60.79381869574472,\n",
       " 't5': 0.0792641881507824,\n",
       " 't6': 0.364634110141986,\n",
       " 't7': 0.7404694399850279,\n",
       " 't8': 0.4626221137269091,\n",
       " 'timeStamp': 1437232771}"
      ]
     },
     "execution_count": 13,
     "metadata": {},
     "output_type": "execute_result"
    }
   ],
   "source": [
    "def rand_dr_data():\n",
    "    post = {\n",
    "        \"timeStamp\": timegm(datetime.now().timetuple()),\n",
    "        \"t1\": .05*np.random.rand()+.05,\n",
    "        \"t3\": 0.7*np.random.rand()+2.8,\n",
    "        \"t4\": np.random.rand()+60,\n",
    "        \"t5\": np.random.rand(),\n",
    "        \"t6\": np.random.rand(),\n",
    "        \"t7\": np.random.rand(),\n",
    "        \"t8\": np.random.rand()\n",
    "    }\n",
    "    return post\n",
    "rand_dr_data()"
   ]
  },
  {
   "cell_type": "code",
   "execution_count": null,
   "metadata": {
    "collapsed": false
   },
   "outputs": [],
   "source": [
    "while True:\n",
    "    adrtemp = rand_adr_data()\n",
    "    drtemp = rand_dr_data()\n",
    "\n",
    "    adr1collection.insert(adrtemp)\n",
    "    adr2collection.insert(adrtemp)\n",
    "    dr1collection.insert(drtemp)\n",
    "    dr2collection.insert(drtemp)\n",
    "\n",
    "    time.sleep(5)"
   ]
  },
  {
   "cell_type": "code",
   "execution_count": null,
   "metadata": {
    "collapsed": true
   },
   "outputs": [],
   "source": []
  }
 ],
 "metadata": {
  "kernelspec": {
   "display_name": "Python 2",
   "language": "python",
   "name": "python2"
  },
  "language_info": {
   "codemirror_mode": {
    "name": "ipython",
    "version": 2
   },
   "file_extension": ".py",
   "mimetype": "text/x-python",
   "name": "python",
   "nbconvert_exporter": "python",
   "pygments_lexer": "ipython2",
   "version": "2.7.8"
  }
 },
 "nbformat": 4,
 "nbformat_minor": 0
}
