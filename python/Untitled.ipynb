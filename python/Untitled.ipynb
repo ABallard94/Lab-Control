{
 "cells": [
  {
   "cell_type": "code",
   "execution_count": 2,
   "metadata": {
    "collapsed": true
   },
   "outputs": [],
   "source": [
    "import subprocess"
   ]
  },
  {
   "cell_type": "code",
   "execution_count": 3,
   "metadata": {
    "collapsed": false
   },
   "outputs": [
    {
     "data": {
      "text/plain": [
       "u'C:\\\\Users\\\\Caleb\\\\Development\\\\lab-control\\\\python'"
      ]
     },
     "execution_count": 3,
     "metadata": {},
     "output_type": "execute_result"
    }
   ],
   "source": [
    "pwd"
   ]
  },
  {
   "cell_type": "code",
   "execution_count": 18,
   "metadata": {
    "collapsed": false
   },
   "outputs": [
    {
     "name": "stdout",
     "output_type": "stream",
     "text": [
      "Running FastHenry 3.0wr (29Sep96, mod 082514)\n",
      "  Date: Thu Sep 10 19:39:10 2015\n",
      "  Host: ADR2\n",
      "Solution technique: ITERATIVE\n",
      "Matrix vector product method: MULTIPOLE\n",
      "  Order of expansion: 2\n",
      "Preconditioner: ON\n",
      "Error tolerance: 0.001\n",
      "Reading from file: test.inp\n",
      "Title:\n",
      "* test.inp\r\n",
      "\n",
      "all lengths multiplied by 1e-06 to convert to meters\n",
      "Total number of filaments before multipole refine: 600\n",
      "Total number of filaments after multipole refine: 2300\n",
      "\n",
      "Multipole Summary\n",
      "  Expansion order: 2\n",
      "  Number of partitioning levels: 3\n",
      "  Total number of filaments: 2300\n",
      "Percentage of multiplies done by multipole: 100%\n",
      "Scanning graph to find fundamental circuits...\n",
      "Number of Groundplanes : 0 \n",
      "Number of filaments:       2300\n",
      "Number of segments:          23\n",
      "Number of nodes:             25\n",
      "Number of meshes:          2279\n",
      "          ----from tree:                   2 \n",
      "          ----from planes: (before holes)  0 \n",
      "Number of conductors:         2   (rows of matrix in Zc.mat) \n",
      "Number of columns:            2   (columns of matrix in Zc.mat) \n",
      "Number of real nodes:        25\n",
      "filling M...\n",
      "filling R and L...\n",
      "Total Memory allocated: 19400 kilobytes\n",
      "Frequency = 1\n",
      "Forming sparse matrix preconditioner.\n",
      "Precond build time 0.203 (queries 289813, allocations 289297)\n",
      " 10.0 19.9 29.9 39.8 49.8 59.8 69.7 79.7 89.6 99.6\n",
      "Reorder and factor time 5.391\n",
      "conductor 0 from node nl20\n",
      "Calling gmres...\n",
      "1 2 3 4 5 6 7 8 9 \n",
      "conductor 1 from node nl10\n",
      "Calling gmres...\n",
      "1 2 3 4 5 6 7 8 \n",
      "\n",
      "All impedance matrices dumped to file Zc.mat\n",
      "\n",
      "Times:  Read geometry   0\n",
      "        Multipole setup 2.047\n",
      "        Scanning graph  0\n",
      "        Form A M and Z  0\n",
      "        form M'ZM       0\n",
      "        Form precond    5.594\n",
      "        GMRES time      0.375\n",
      "   Total:               8.016\n",
      "\n"
     ]
    }
   ],
   "source": [
    "x = subprocess.check_output(['fasthenry.exe', 'test.inp'])\n",
    "print(x)"
   ]
  },
  {
   "cell_type": "code",
   "execution_count": 14,
   "metadata": {
    "collapsed": false
   },
   "outputs": [],
   "source": [
    "from os import system"
   ]
  },
  {
   "cell_type": "code",
   "execution_count": 15,
   "metadata": {
    "collapsed": false
   },
   "outputs": [
    {
     "data": {
      "text/plain": [
       "1"
      ]
     },
     "execution_count": 15,
     "metadata": {},
     "output_type": "execute_result"
    }
   ],
   "source": [
    "system('fasthenry')"
   ]
  },
  {
   "cell_type": "code",
   "execution_count": null,
   "metadata": {
    "collapsed": true
   },
   "outputs": [],
   "source": []
  }
 ],
 "metadata": {
  "kernelspec": {
   "display_name": "Python 2",
   "language": "python",
   "name": "python2"
  },
  "language_info": {
   "codemirror_mode": {
    "name": "ipython",
    "version": 2
   },
   "file_extension": ".py",
   "mimetype": "text/x-python",
   "name": "python",
   "nbconvert_exporter": "python",
   "pygments_lexer": "ipython2",
   "version": "2.7.10"
  }
 },
 "nbformat": 4,
 "nbformat_minor": 0
}
