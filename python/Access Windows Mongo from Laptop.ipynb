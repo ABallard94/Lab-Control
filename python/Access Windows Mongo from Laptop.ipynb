{
 "metadata": {
  "name": "",
  "signature": "sha256:89da804a5ae2ae67a7bfa3c1c96a59ce5a8dc7c2e8f8b6ff2541c97838784ca9"
 },
 "nbformat": 3,
 "nbformat_minor": 0,
 "worksheets": [
  {
   "cells": [
    {
     "cell_type": "code",
     "collapsed": false,
     "input": [
      "from pymongo import MongoClient, ASCENDING, DESCENDING\n",
      "from calendar import timegm\n",
      "from datetime import datetime\n",
      "import numpy as np"
     ],
     "language": "python",
     "metadata": {},
     "outputs": [],
     "prompt_number": 1
    },
    {
     "cell_type": "code",
     "collapsed": false,
     "input": [
      "client = MongoClient('mongodb://128.230.72.201/')"
     ],
     "language": "python",
     "metadata": {},
     "outputs": [
      {
       "ename": "ConnectionFailure",
       "evalue": "timed out",
       "output_type": "pyerr",
       "traceback": [
        "\u001b[0;31m---------------------------------------------------------------------------\u001b[0m\n\u001b[0;31mConnectionFailure\u001b[0m                         Traceback (most recent call last)",
        "\u001b[0;32m<ipython-input-4-fdc42b6a6c72>\u001b[0m in \u001b[0;36m<module>\u001b[0;34m()\u001b[0m\n\u001b[0;32m----> 1\u001b[0;31m \u001b[0mclient\u001b[0m \u001b[0;34m=\u001b[0m \u001b[0mMongoClient\u001b[0m\u001b[0;34m(\u001b[0m\u001b[0;34m'mongodb://128.230.72.201/'\u001b[0m\u001b[0;34m)\u001b[0m\u001b[0;34m\u001b[0m\u001b[0m\n\u001b[0m",
        "\u001b[0;32m/usr/local/lib/python2.7/site-packages/pymongo/mongo_client.pyc\u001b[0m in \u001b[0;36m__init__\u001b[0;34m(self, host, port, max_pool_size, document_class, tz_aware, _connect, **kwargs)\u001b[0m\n\u001b[1;32m    367\u001b[0m             \u001b[0;32mexcept\u001b[0m \u001b[0mAutoReconnect\u001b[0m\u001b[0;34m,\u001b[0m \u001b[0me\u001b[0m\u001b[0;34m:\u001b[0m\u001b[0;34m\u001b[0m\u001b[0m\n\u001b[1;32m    368\u001b[0m                 \u001b[0;31m# ConnectionFailure makes more sense here than AutoReconnect\u001b[0m\u001b[0;34m\u001b[0m\u001b[0;34m\u001b[0m\u001b[0m\n\u001b[0;32m--> 369\u001b[0;31m                 \u001b[0;32mraise\u001b[0m \u001b[0mConnectionFailure\u001b[0m\u001b[0;34m(\u001b[0m\u001b[0mstr\u001b[0m\u001b[0;34m(\u001b[0m\u001b[0me\u001b[0m\u001b[0;34m)\u001b[0m\u001b[0;34m)\u001b[0m\u001b[0;34m\u001b[0m\u001b[0m\n\u001b[0m\u001b[1;32m    370\u001b[0m \u001b[0;34m\u001b[0m\u001b[0m\n\u001b[1;32m    371\u001b[0m         \u001b[0;32mif\u001b[0m \u001b[0musername\u001b[0m\u001b[0;34m:\u001b[0m\u001b[0;34m\u001b[0m\u001b[0m\n",
        "\u001b[0;31mConnectionFailure\u001b[0m: timed out"
       ]
      }
     ],
     "prompt_number": 4
    },
    {
     "cell_type": "code",
     "collapsed": false,
     "input": [
      "db = client.adr1\n",
      "collection = db.adr1datas"
     ],
     "language": "python",
     "metadata": {},
     "outputs": [],
     "prompt_number": 3
    },
    {
     "cell_type": "code",
     "collapsed": false,
     "input": [
      "def rand_data():\n",
      "    post = {\n",
      "        \"timeStamp\": timegm(datetime.now().timetuple()),\n",
      "        \"baseTemp\": .05*np.random.rand()+.05,\n",
      "        \"threeKTemp\": 0.7*np.random.rand()+2.8,\n",
      "        \"sixtyKTemp\": np.random.rand()+60,\n",
      "        \"magnetVoltage\": np.random.rand(),\n",
      "        \"psVoltage\": np.random.rand(),\n",
      "        \"psCurrent\": np.random.rand(),\n",
      "        \"currentJob\": \"None\",\n",
      "        \"percentComplete\": 0,\n",
      "        \"switchState\": \"Closed\"\n",
      "    }\n",
      "    return post"
     ],
     "language": "python",
     "metadata": {},
     "outputs": [],
     "prompt_number": 4
    },
    {
     "cell_type": "code",
     "collapsed": false,
     "input": [
      "collection.insert(rand_data())"
     ],
     "language": "python",
     "metadata": {},
     "outputs": [
      {
       "metadata": {},
       "output_type": "pyout",
       "prompt_number": 5,
       "text": [
        "ObjectId('54a33053a114601f8082ae03')"
       ]
      }
     ],
     "prompt_number": 5
    },
    {
     "cell_type": "code",
     "collapsed": false,
     "input": [
      "for data in collection.find():\n",
      "    print(data)"
     ],
     "language": "python",
     "metadata": {},
     "outputs": [
      {
       "output_type": "stream",
       "stream": "stdout",
       "text": [
        "{u'_id': ObjectId('54a3301da114601edc22a71b'), u'threeKTemp': 3.286023114174338, u'timeStamp': 1419962829, u'currentJob': u'None', u'switchState': u'Closed', u'psVoltage': 0.5575793742037141, u'percentComplete': 0, u'psCurrent': 0.41284556615444046, u'sixtyKTemp': 60.17691220595369, u'magnetVoltage': 0.8971344237167596, u'baseTemp': 0.07693559070059598}\n",
        "{u'_id': ObjectId('54a33053a114601f8082ae03'), u'threeKTemp': 3.3369225741881774, u'timeStamp': 1419962883, u'currentJob': u'None', u'switchState': u'Closed', u'psVoltage': 0.6043934549345479, u'percentComplete': 0, u'psCurrent': 0.8712259692204044, u'sixtyKTemp': 60.491770235364946, u'magnetVoltage': 0.4220050701978918, u'baseTemp': 0.06120083817060159}\n"
       ]
      }
     ],
     "prompt_number": 6
    },
    {
     "cell_type": "code",
     "collapsed": false,
     "input": [],
     "language": "python",
     "metadata": {},
     "outputs": []
    }
   ],
   "metadata": {}
  }
 ]
}