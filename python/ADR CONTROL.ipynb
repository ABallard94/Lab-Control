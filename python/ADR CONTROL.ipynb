{
 "cells": [
  {
   "cell_type": "code",
   "execution_count": 1,
   "metadata": {
    "collapsed": false
   },
   "outputs": [],
   "source": [
    "import time\n",
    "import numpy as np\n",
    "from datetime import datetime\n",
    "from calendar import timegm\n",
    "from pymongo import MongoClient, ASCENDING, DESCENDING, ReturnDocument\n",
    "import pyvisa\n",
    "import serial\n",
    "from pprint import pprint"
   ]
  },
  {
   "cell_type": "markdown",
   "metadata": {},
   "source": [
    "## Connect to Database"
   ]
  },
  {
   "cell_type": "code",
   "execution_count": 2,
   "metadata": {
    "collapsed": false
   },
   "outputs": [],
   "source": [
    "def dbConnect():\n",
    "    client = MongoClient('mongodb://localhost/')\n",
    "    collection = client.data.adr2datas\n",
    "    infocollection = client.control.adr2controls\n",
    "    jobcollection = client.jobs.adr2jobs\n",
    "    return collection, infocollection, jobcollection\n",
    "collection,infocollection, jobcollection = dbConnect()"
   ]
  },
  {
   "cell_type": "markdown",
   "metadata": {},
   "source": [
    "## Connect to Instruments"
   ]
  },
  {
   "cell_type": "code",
   "execution_count": 3,
   "metadata": {
    "collapsed": true
   },
   "outputs": [],
   "source": [
    "def connectInstruments():\n",
    "    rm = pyvisa.ResourceManager()\n",
    "    rm.list_resources()\n",
    "    inst1 = rm.open_resource('GPIB0::1::INSTR', read_termination = '\\x00')\n",
    "    inst2 = rm.open_resource('GPIB0::2::INSTR', read_termination = '\\x00')\n",
    "    inst3 = rm.open_resource('GPIB0::6::INSTR', read_termination = '\\x00')\n",
    "    return [inst1,inst2,inst3]"
   ]
  },
  {
   "cell_type": "markdown",
   "metadata": {},
   "source": [
    "## Create Information and Data Entries (DO NOT RUN THESE)"
   ]
  },
  {
   "cell_type": "code",
   "execution_count": 4,
   "metadata": {
    "collapsed": false
   },
   "outputs": [
    {
     "data": {
      "text/plain": [
       "{'command': 'None',\n",
       " 'currentJob': 'None',\n",
       " 'currentLimit': 9.2,\n",
       " 'fridgeStatus': 'Warm',\n",
       " 'jobStart': 1448453383,\n",
       " 'maxVoltage': 400,\n",
       " 'switchState': 'Closed',\n",
       " 'timeStamp': 1448453383,\n",
       " 'voltageStep': 1}"
      ]
     },
     "execution_count": 4,
     "metadata": {},
     "output_type": "execute_result"
    }
   ],
   "source": [
    "def get_info():\n",
    "    post = {\n",
    "        \"timeStamp\": timegm(datetime.now().timetuple()),\n",
    "        \"fridgeStatus\": \"Warm\",\n",
    "        \"currentJob\": \"None\",\n",
    "        \"switchState\": \"Closed\",\n",
    "        \"currentLimit\": 9.2,\n",
    "        \"maxVoltage\": 400,\n",
    "        \"voltageStep\": 1,\n",
    "        \"command\": \"None\",\n",
    "        \"jobStart\": timegm(datetime.now().timetuple())\n",
    "    }\n",
    "    return post\n",
    "get_info()"
   ]
  },
  {
   "cell_type": "code",
   "execution_count": 9,
   "metadata": {
    "collapsed": false
   },
   "outputs": [
    {
     "data": {
      "text/plain": [
       "{u'_id': ObjectId('564cbbf46545eb8ebc45f947'),\n",
       " u'command': u'Magup',\n",
       " u'currentJob': u'Magdown',\n",
       " u'currentLimit': 9.2,\n",
       " u'fridgeStatus': u'Magdown',\n",
       " u'jobStart': 1447953419,\n",
       " u'maxVoltage': 400,\n",
       " u'switchState': u'Closed',\n",
       " u'timeStamp': 1447851428,\n",
       " u'voltageStep': 1}"
      ]
     },
     "execution_count": 9,
     "metadata": {},
     "output_type": "execute_result"
    }
   ],
   "source": [
    "command = 'Magup'\n",
    "infocollection.find_one_and_update({},{'$set': {'command': command}})"
   ]
  },
  {
   "cell_type": "code",
   "execution_count": 5,
   "metadata": {
    "collapsed": false
   },
   "outputs": [
    {
     "data": {
      "text/plain": [
       "{u'_id': ObjectId('564cbbf46545eb8ebc45f947'),\n",
       " u'command': u'None',\n",
       " u'currentJob': u'None',\n",
       " u'currentLimit': 9.2,\n",
       " u'fridgeStatus': u'Cold (Magged Down)',\n",
       " u'jobStart': 1447959912,\n",
       " u'maxVoltage': 500,\n",
       " u'switchState': u'Closed',\n",
       " u'timeStamp': 1447851428,\n",
       " u'voltageStep': 1}"
      ]
     },
     "execution_count": 5,
     "metadata": {},
     "output_type": "execute_result"
    }
   ],
   "source": [
    "maxVoltage = 500\n",
    "infocollection.find_one_and_update({},{'$set': {'maxVoltage': maxVoltage}})"
   ]
  },
  {
   "cell_type": "markdown",
   "metadata": {},
   "source": [
    "## Get Data from Instruments"
   ]
  },
  {
   "cell_type": "code",
   "execution_count": 7,
   "metadata": {
    "collapsed": false
   },
   "outputs": [
    {
     "data": {
      "text/plain": [
       "{'baseTemp': 0.04,\n",
       " 'currentJob': 'None',\n",
       " 'magnetVoltage': -0.00156,\n",
       " 'oneKTemp': 0,\n",
       " 'percentComplete': -0.0,\n",
       " 'psCurrent': -0.00446025,\n",
       " 'psVoltage': -0.00941257,\n",
       " 'sixtyKTemp': 49.039,\n",
       " 'switchState': 'Closed',\n",
       " 'threeKTemp': 2.8798,\n",
       " 'timeStamp': 1449149664}"
      ]
     },
     "execution_count": 7,
     "metadata": {},
     "output_type": "execute_result"
    }
   ],
   "source": [
    "def get_data(inst):\n",
    "    post = {\n",
    "        \"timeStamp\": timegm(datetime.now().timetuple()),\n",
    "        \"baseTemp\": float(inst[1].ask('KRDG? B')),\n",
    "#         \"oneKTemp\": float(inst[0].ask('KRDG? C')),\n",
    "        \"oneKTemp\": 0,\n",
    "        \"threeKTemp\": float(inst[0].ask('KRDG? A')),\n",
    "        \"sixtyKTemp\": float(inst[0].ask('KRDG? B')),\n",
    "        \"magnetVoltage\": float(inst[0].ask('SRDG? D')),\n",
    "        \"psVoltage\": float(inst[2].ask('MEAS:VOLT?')),\n",
    "        \"psCurrent\": float(inst[2].ask('MEAS:CURR?')),\n",
    "        \"currentJob\": \"None\",\n",
    "        \"percentComplete\": round(float(inst[2].ask('MEAS:CURR?'))/9 * 100),\n",
    "        \"switchState\": \"Closed\"\n",
    "    }\n",
    "    return post\n",
    "get_data(connectInstruments())"
   ]
  },
  {
   "cell_type": "markdown",
   "metadata": {},
   "source": [
    "## Setup Log File"
   ]
  },
  {
   "cell_type": "code",
   "execution_count": 5,
   "metadata": {
    "collapsed": true
   },
   "outputs": [],
   "source": [
    "logFileName = 'ADR2Log.txt'\n",
    "inst = connectInstruments()\n",
    "ps = inst[2]"
   ]
  },
  {
   "cell_type": "markdown",
   "metadata": {},
   "source": [
    "## Main Loop"
   ]
  },
  {
   "cell_type": "code",
   "execution_count": null,
   "metadata": {
    "collapsed": false,
    "scrolled": true
   },
   "outputs": [],
   "source": [
    "currentJob = None\n",
    "statusString = \"\"\n",
    "while True:\n",
    "    # Open Log File\n",
    "    logFile = open(logFileName, 'a')\n",
    "\n",
    "    # Read Data\n",
    "    try:\n",
    "        data = get_data(inst)\n",
    "\n",
    "    # Log errors if they occur and reconnect\n",
    "    except UnicodeDecodeError:\n",
    "        string = \"Read error at \" + datetime.now().strftime('%H:%M:%S') + '\\n'\n",
    "        print(string)\n",
    "        logFile.write(string)\n",
    "        inst = connectInstruments()\n",
    "\n",
    "    # Insert Data into Database\n",
    "    else:\n",
    "        if (data['sixtyKTemp'] <= 300):\n",
    "            try:\n",
    "                collection.insert(data)\n",
    "            except:\n",
    "                print(\"Database error at \" + datetime.now().strftime('%H:%M:%S'))\n",
    "\n",
    "    # Check for impending jobs\n",
    "#     nextJob = None\n",
    "#     for job in jobcollection.find({}).limit(1).sort('startTime', ASCENDING):\n",
    "#         nextJob = job\n",
    "#     if (nextJob):\n",
    "#         print(\"Next Job at \" + nextJob['timeString'])\n",
    "    \n",
    "#     if (nextJob and (nextJob['startTime'] - datetime.utcnow()).seconds < 5):\n",
    "#         # Mark previous current job as completed\n",
    "#         if (currentJob and currentJob['inProgress']):\n",
    "#             jobcollection.find_one_and_update({'_id': currentJob['_id']}, {'$set': {'inProgress': False, 'completed': True}})\n",
    "        \n",
    "#         # Next Job becomes current job\n",
    "#         currentJob = nextJob\n",
    "#         print(\"Starting Scheduled \" + currentJob['type'])\n",
    "#         jobcollection.find_one_and_update({'_id': currentJob['_id']}, {'$set': {'inProgress': True}})\n",
    "# #         info = infocollection.find_one_and_update({},{'$set': {'command': currentJob['type']}})\n",
    "    \n",
    "    # Get information from Database\n",
    "\n",
    "    info = infocollection.find().next()\n",
    "\n",
    "    if info['command'] == 'Magup':\n",
    "        #Ensure fridge is actually cold enough to mag up!\n",
    "        if data['threeKTemp'] > 4.5:\n",
    "            pass\n",
    "        elif info['currentJob'] != 'Magup':\n",
    "            info = infocollection.find_one_and_update({},{'$set': {'currentJob': 'Magup', 'jobStart': data['timeStamp']}})\n",
    "            logString = \"Start Magup to \" + str(info['maxVoltage']) + \"mV at \" + datetime.now().strftime('%a, %c')\n",
    "            print(logString)\n",
    "            logFile.writelines([logString, '\\n'])\n",
    "\n",
    "    elif info['command'] == 'Magdown':\n",
    "        if info['currentJob'] != 'Magdown':\n",
    "            if info['currentJob'] == 'Soak':\n",
    "                stopSoakTime = datetime.now()\n",
    "                t = (stopSoakTime - startSoakTime)\n",
    "                logString = \"Soaked for {} days, {}h: {}m: {}s\".format(t.days,t.seconds//3600,(t.seconds//60)%60, t.seconds%60)\n",
    "                print(logString)\n",
    "                logFile.writelines([logString, '\\n'])\n",
    "            \n",
    "            info = infocollection.find_one_and_update({},{'$set': {'currentJob': 'Magdown', 'jobStart': data['timeStamp']}})\n",
    "            logString = \"Start Magdown at \" + datetime.now().strftime('%a, %c')\n",
    "            print(logString)\n",
    "            logFile.writelines([logString, '\\n'])\n",
    "\n",
    "    elif info['command'] == 'Soak':\n",
    "        if info['currentJob'] != 'Soak':\n",
    "            info = infocollection.find_one_and_update({},{'$set': {'currentJob': 'Soak', 'jobStart': data['timeStamp']}})\n",
    "            logString = \"Start Soak at \" + datetime.now().strftime('%a, %c')\n",
    "            startSoakTime = datetime.now()\n",
    "            print(logString)\n",
    "            logFile.writelines([logString, '\\n'])\n",
    "\n",
    "    else:\n",
    "        info = infocollection.find_one_and_update({},{'$set': {'currentJob': 'None'}})\n",
    "        if data['baseTemp'] < 3 and data['baseTemp'] != 0.0:\n",
    "            statusString = \"Cold (Magged Down)\"\n",
    "        elif data['threeKTemp'] < 4.5:\n",
    "            statusString = \"Cold (3K)\"\n",
    "        elif (data['sixtyKTemp'] < data['threeKTemp']) and (data['sixtyKTemp'] > 50):\n",
    "            statusString = \"Cooling Down\"\n",
    "        elif (data['threeKTemp'] > 285):\n",
    "            statusString = \"Warm\"\n",
    "        elif (data['sixtyKTemp'] > data['threeKTemp']) and (data['sixtyKTemp'] > 60):\n",
    "            statusString = \"Warming Up\"\n",
    "        else:\n",
    "            statusString = \"Uncertain State\"\n",
    "        \n",
    "    \n",
    "\n",
    "    # Control Magnet\n",
    "    job = info['currentJob']\n",
    "\n",
    "    if job == 'Magup':\n",
    "        # Increase Magnet Voltage\n",
    "        currentV = float(ps.ask('VOLT?'))*1000\n",
    "        if currentV < info['maxVoltage']:\n",
    "            nextV = currentV + info['voltageStep']\n",
    "            ps.write('VOLT:LEV:IMM ' + str(nextV) + 'mV')\n",
    "            print(str(nextV) + \"mV\\t\" + \"Current: \" + ps.ask('MEAS:CURR?') + \"\\tVoltage: \" + ps.ask('MEAS:VOLT?'))\n",
    "        else:\n",
    "            print('Max Voltage Reached')\n",
    "            if data['psCurrent'] > 9.0:\n",
    "                print('9A reached')\n",
    "                info = infocollection.find_one_and_update({},{'$set': {'command': 'Soak'}})\n",
    "        statusString = \"Magup\"\n",
    "    elif job == 'Magdown':\n",
    "        # Decrease Magnet Voltage\n",
    "        currentV = float(ps.ask('VOLT?'))*1000\n",
    "        if currentV > 0:\n",
    "            nextV = currentV - info['voltageStep']\n",
    "            ps.write('VOLT:LEV:IMM ' + str(nextV) + 'mV')\n",
    "            print(str(nextV) + \"mV\\t\" + \"Current: \" + ps.ask('MEAS:CURR?') + \"\\tVoltage: \" + ps.ask('MEAS:VOLT?'))\n",
    "        else:\n",
    "            print('Zero Voltage Reached')\n",
    "            info = infocollection.find_one_and_update({},{'$set': {'command': 'None'}})\n",
    "        statusString = \"Magdown\"\n",
    "    elif job == 'Soak':\n",
    "        # Soak\n",
    "        statusString = \"Soak\"\n",
    "    else:\n",
    "        pass\n",
    "    \n",
    "    info = infocollection.find_one_and_update({},{'$set': {'fridgeStatus': statusString}})\n",
    "    # Close Log File\n",
    "    logFile.close()\n",
    "\n",
    "    # Wait\n",
    "    time.sleep(5)"
   ]
  },
  {
   "cell_type": "code",
   "execution_count": null,
   "metadata": {
    "collapsed": true
   },
   "outputs": [],
   "source": []
  }
 ],
 "metadata": {
  "kernelspec": {
   "display_name": "Python 2",
   "language": "python",
   "name": "python2"
  },
  "language_info": {
   "codemirror_mode": {
    "name": "ipython",
    "version": 2
   },
   "file_extension": ".py",
   "mimetype": "text/x-python",
   "name": "python",
   "nbconvert_exporter": "python",
   "pygments_lexer": "ipython2",
   "version": "2.7.10"
  }
 },
 "nbformat": 4,
 "nbformat_minor": 0
}
