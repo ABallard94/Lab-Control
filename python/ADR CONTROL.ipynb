{
 "cells": [
  {
   "cell_type": "code",
   "execution_count": 1,
   "metadata": {
    "collapsed": false
   },
   "outputs": [],
   "source": [
    "import time\n",
    "import numpy as np\n",
    "from datetime import datetime\n",
    "from calendar import timegm\n",
    "from pymongo import MongoClient, ASCENDING, DESCENDING, ReturnDocument\n",
    "import pyvisa\n",
    "import serial\n",
    "from pprint import pprint"
   ]
  },
  {
   "cell_type": "markdown",
   "metadata": {},
   "source": [
    "## Connect to Database"
   ]
  },
  {
   "cell_type": "code",
   "execution_count": 2,
   "metadata": {
    "collapsed": false
   },
   "outputs": [],
   "source": [
    "def dbConnect():\n",
    "    client = MongoClient('mongodb://localhost/')\n",
    "    db = client.data\n",
    "    collection = db.adr2datas\n",
    "    db.collection_names()\n",
    "    infocollection = db.adr2controls\n",
    "    jobcollection = client.jobs.adr2jobs\n",
    "    return collection, infocollection, jobcollection\n",
    "collection,infocollection, jobcollection = dbConnect()"
   ]
  },
  {
   "cell_type": "markdown",
   "metadata": {},
   "source": [
    "##Connect to Instruments"
   ]
  },
  {
   "cell_type": "code",
   "execution_count": 3,
   "metadata": {
    "collapsed": true
   },
   "outputs": [],
   "source": [
    "def connectInstruments():\n",
    "    rm = pyvisa.ResourceManager()\n",
    "    rm.list_resources()\n",
    "    inst1 = rm.open_resource('GPIB0::1::INSTR', read_termination = '\\x00')\n",
    "    inst2 = rm.open_resource('GPIB0::2::INSTR', read_termination = '\\x00')\n",
    "    inst3 = rm.open_resource('GPIB0::6::INSTR', read_termination = '\\x00')\n",
    "    return [inst1,inst2,inst3]"
   ]
  },
  {
   "cell_type": "markdown",
   "metadata": {},
   "source": [
    "##Create Information and Data Entries"
   ]
  },
  {
   "cell_type": "code",
   "execution_count": 8,
   "metadata": {
    "collapsed": true
   },
   "outputs": [],
   "source": [
    "def get_info():\n",
    "    post = {\n",
    "        \"timeStamp\": timegm(datetime.now().timetuple()),\n",
    "        \"fridgeStatus\": \"Warm\",\n",
    "        \"currentJob\": \"None\",\n",
    "        \"switchState\": \"Closed\",\n",
    "        \"currentLimit\": 9.2,\n",
    "        \"maxVoltage\": 400,\n",
    "        \"voltageStep\": 1,\n",
    "        \"command\": \"None\"\n",
    "    }\n",
    "    return post"
   ]
  },
  {
   "cell_type": "code",
   "execution_count": 9,
   "metadata": {
    "collapsed": false
   },
   "outputs": [
    {
     "data": {
      "text/plain": [
       "ObjectId('56054da46545ebc411b4a4da')"
      ]
     },
     "execution_count": 9,
     "metadata": {},
     "output_type": "execute_result"
    }
   ],
   "source": [
    "infocollection.insert(get_info())"
   ]
  },
  {
   "cell_type": "code",
   "execution_count": 65,
   "metadata": {
    "collapsed": false
   },
   "outputs": [
    {
     "data": {
      "text/plain": [
       "{u'_id': ObjectId('55f5979f6545eb56047e1f81'),\n",
       " u'command': u'Soak',\n",
       " u'currentJob': u'Soak',\n",
       " u'currentLimit': 9.2,\n",
       " u'fridgeStatus': u'Warm',\n",
       " u'maxVoltage': 450,\n",
       " u'switchState': u'Closed',\n",
       " u'timeStamp': 1442144095,\n",
       " u'voltageStep': 1}"
      ]
     },
     "execution_count": 65,
     "metadata": {},
     "output_type": "execute_result"
    }
   ],
   "source": [
    "infocollection.find_one_and_update({},{'$set': {'maxVoltage': 450}})"
   ]
  },
  {
   "cell_type": "code",
   "execution_count": 4,
   "metadata": {
    "collapsed": false
   },
   "outputs": [
    {
     "name": "stderr",
     "output_type": "stream",
     "text": [
      "C:\\Anaconda\\lib\\site-packages\\pyvisa\\resources\\messagebased.py:387: UserWarning: read string doesn't end with termination characters\n",
      "  return self.read()\n"
     ]
    },
    {
     "data": {
      "text/plain": [
       "{'baseTemp': 0.0,\n",
       " 'currentJob': 'None',\n",
       " 'magnetVoltage': -0.00051,\n",
       " 'oneKTemp': 216.292,\n",
       " 'percentComplete': -0.0,\n",
       " 'psCurrent': -0.0319834,\n",
       " 'psVoltage': -0.00941257,\n",
       " 'sixtyKTemp': 112.473,\n",
       " 'switchState': 'Closed',\n",
       " 'threeKTemp': 207.033,\n",
       " 'timeStamp': 1443214288}"
      ]
     },
     "execution_count": 4,
     "metadata": {},
     "output_type": "execute_result"
    }
   ],
   "source": [
    "def get_data(inst):\n",
    "    post = {\n",
    "        \"timeStamp\": timegm(datetime.now().timetuple()),\n",
    "        \"baseTemp\": float(inst[1].ask('KRDG? B')),\n",
    "        \"oneKTemp\": float(inst[0].ask('KRDG? C')),\n",
    "        \"threeKTemp\": float(inst[0].ask('KRDG? A')),\n",
    "        \"sixtyKTemp\": float(inst[0].ask('KRDG? B')),\n",
    "        \"magnetVoltage\": float(inst[0].ask('SRDG? D')),\n",
    "        \"psVoltage\": float(inst[2].ask('MEAS:VOLT?')),\n",
    "        \"psCurrent\": float(inst[2].ask('MEAS:CURR?')),\n",
    "        \"currentJob\": \"None\",\n",
    "        \"percentComplete\": round(float(inst[2].ask('MEAS:CURR?'))/9 * 100),\n",
    "        \"switchState\": \"Closed\"\n",
    "    }\n",
    "    return post\n",
    "get_data(connectInstruments())"
   ]
  },
  {
   "cell_type": "markdown",
   "metadata": {},
   "source": [
    "## Setup Log File"
   ]
  },
  {
   "cell_type": "code",
   "execution_count": 5,
   "metadata": {
    "collapsed": true
   },
   "outputs": [],
   "source": [
    "logFileName = 'ADR2Log.txt'\n",
    "inst = connectInstruments()\n",
    "ps = inst[2]"
   ]
  },
  {
   "cell_type": "code",
   "execution_count": 13,
   "metadata": {
    "collapsed": false
   },
   "outputs": [
    {
     "name": "stdout",
     "output_type": "stream",
     "text": [
      "Magdown\n",
      "Start Magdown at 09:41:11\n",
      "1.0mV\n",
      "Current: -3.74880E-2Voltage: -9.41257E-3\n"
     ]
    }
   ],
   "source": [
    "# Open Log File\n",
    "logFile = open(logFileName, 'a')\n",
    "\n",
    "# Read Data\n",
    "try:\n",
    "    data = get_data(inst)\n",
    "\n",
    "# Log errors if they occur and reconnect\n",
    "except UnicodeDecodeError:\n",
    "    string = \"Read error at \" + datetime.now().strftime('%H:%M:%S') + '\\n'\n",
    "    print(string)\n",
    "    logFile.write(string)\n",
    "    inst = connectInstruments()\n",
    "\n",
    "# Insert Data into Database\n",
    "else:\n",
    "    if (data['sixtyKTemp'] <= 300):\n",
    "        try:\n",
    "            collection.insert(data)\n",
    "        except:\n",
    "            print(\"Database error at \" + datetime.now().strftime('%H:%M:%S'))\n",
    "\n",
    "\n",
    "# Get information from Database\n",
    "\n",
    "info = infocollection.find().next()\n",
    "# print('Fridge Status:')\n",
    "# pprint(info)\n",
    "\n",
    "# Control\n",
    "\n",
    "# Change Fridge Status\n",
    "\n",
    "# Change Job\n",
    "print info['command']\n",
    "if info['command'] == 'Magup':\n",
    "    if info['currentJob'] != 'Magup':\n",
    "        info = infocollection.find_one_and_update({},{'$set': {'currentJob': 'Magup'}})\n",
    "        logString = \"Start Magup at \" + datetime.now().strftime('%H:%M:%S')\n",
    "        print(logString)\n",
    "        logFile.writelines([logString, '\\n'])\n",
    "\n",
    "elif info['command'] == 'Magdown':\n",
    "    if info['currentJob'] != 'Magdown':\n",
    "        info = infocollection.find_one_and_update({},{'$set': {'currentJob': 'Magdown'}})\n",
    "        logString = \"Start Magdown at \" + datetime.now().strftime('%H:%M:%S')\n",
    "        print(logString)\n",
    "        logFile.writelines([logString, '\\n'])\n",
    "\n",
    "elif info['command'] == 'Soak':\n",
    "    if info['currentJob'] != 'Soak':\n",
    "        info = infocollection.find_one_and_update({},{'$set': {'currentJob': 'Soak'}})\n",
    "        logString = \"Start Soak at \" + datetime.now().strftime('%H:%M:%S')\n",
    "        print(logString)\n",
    "        logFile.writelines([logString, '\\n'])\n",
    "        \n",
    "else:\n",
    "    print('No Command')\n",
    "\n",
    "# Control Magnet\n",
    "job = info['currentJob']\n",
    "\n",
    "if job == 'Magup':\n",
    "    # Increase Magnet Voltage\n",
    "    currentV = float(ps.ask('VOLT?'))*1000\n",
    "    if currentV < info['maxVoltage']:\n",
    "        nextV = currentV + info['voltageStep']\n",
    "#         ps.write('VOLT:LEV:IMM ' + str(nextV) + 'mV')\n",
    "        print(str(nextV) + \"mV\\n\" + \"Current: \" + ps.ask('MEAS:CURR?') + \"Voltage: \" + ps.ask('MEAS:VOLT?'))\n",
    "    else:\n",
    "        print('Max Voltage Reached')\n",
    "        info = infocollection.find_one_and_update({},{'$set': {'command': 'Soak'}})\n",
    "elif job == 'Magdown':\n",
    "    # Decrease Magnet Voltage\n",
    "    currentV = float(ps.ask('VOLT?'))*1000\n",
    "    if currentV > 0:\n",
    "        nextV = currentV - info['voltageStep']\n",
    "#         ps.write('VOLT:LEV:IMM ' + str(nextV) + 'mV')\n",
    "        print(str(nextV) + \"mV\\n\" + \"Current: \" + ps.ask('MEAS:CURR?') + \"Voltage: \" + ps.ask('MEAS:VOLT?'))\n",
    "    else:\n",
    "        print('Zero Voltage Reached')\n",
    "        info = infocollection.find_one_and_update({},{'$set': {'command': 'None'}})\n",
    "elif job == 'Soak':\n",
    "    # Soak\n",
    "    print('soak')\n",
    "else:\n",
    "    print('No Job')\n",
    "\n",
    "# Close Log File\n",
    "logFile.close()\n",
    "\n",
    "# Wait\n",
    "# time.sleep(5)"
   ]
  },
  {
   "cell_type": "code",
   "execution_count": 14,
   "metadata": {
    "collapsed": false
   },
   "outputs": [
    {
     "data": {
      "text/plain": [
       "True"
      ]
     },
     "execution_count": 14,
     "metadata": {},
     "output_type": "execute_result"
    }
   ],
   "source": [
    "# Check Jobs\n",
    "\n",
    "# Find next job\n",
    "nextJob = jobcollection.find({}).limit(1).sort('startTime', ASCENDING):\n",
    "print(\"Next Job at \" + nextJob['timeString'])"
   ]
  },
  {
   "cell_type": "code",
   "execution_count": null,
   "metadata": {
    "collapsed": false,
    "scrolled": true
   },
   "outputs": [],
   "source": [
    "currentJob = None\n",
    "while True:\n",
    "    # Open Log File\n",
    "    logFile = open(logFileName, 'a')\n",
    "\n",
    "    # Read Data\n",
    "    try:\n",
    "        data = get_data(inst)\n",
    "\n",
    "    # Log errors if they occur and reconnect\n",
    "    except UnicodeDecodeError:\n",
    "        string = \"Read error at \" + datetime.now().strftime('%H:%M:%S') + '\\n'\n",
    "        print(string)\n",
    "        logFile.write(string)\n",
    "        inst = connectInstruments()\n",
    "\n",
    "    # Insert Data into Database\n",
    "    else:\n",
    "        if (data['sixtyKTemp'] <= 300):\n",
    "            try:\n",
    "                collection.insert(data)\n",
    "            except:\n",
    "                print(\"Database error at \" + datetime.now().strftime('%H:%M:%S'))\n",
    "\n",
    "    # Check for impending jobs\n",
    "#     nextJob = None\n",
    "#     for job in jobcollection.find({}).limit(1).sort('startTime', ASCENDING):\n",
    "#         nextJob = job\n",
    "#     if (nextJob):\n",
    "#         print(\"Next Job at \" + nextJob['timeString'])\n",
    "    \n",
    "#     if (nextJob and (nextJob['startTime'] - datetime.utcnow()).seconds < 5):\n",
    "#         # Mark previous current job as completed\n",
    "#         if (currentJob and currentJob['inProgress']):\n",
    "#             jobcollection.find_one_and_update({'_id': currentJob['_id']}, {'$set': {'inProgress': False, 'completed': True}})\n",
    "        \n",
    "#         # Next Job becomes current job\n",
    "#         currentJob = nextJob\n",
    "#         print(\"Starting Scheduled \" + currentJob['type'])\n",
    "#         jobcollection.find_one_and_update({'_id': currentJob['_id']}, {'$set': {'inProgress': True}})\n",
    "# #         info = infocollection.find_one_and_update({},{'$set': {'command': currentJob['type']}})\n",
    "    \n",
    "    # Get information from Database\n",
    "\n",
    "    info = infocollection.find().next()\n",
    "\n",
    "    if info['command'] == 'Magup':\n",
    "        #Ensure fridge is actually cold enough to mag up!\n",
    "        if data['threeKTemp'] > 3.5:\n",
    "            pass\n",
    "        elif info['currentJob'] != 'Magup':\n",
    "            info = infocollection.find_one_and_update({},{'$set': {'currentJob': 'Magup'}})\n",
    "            logString = \"Start Magup to \" + str(info['maxVoltage']) + \"mV at \" + datetime.now().strftime('%a, %c')\n",
    "            print(logString)\n",
    "            logFile.writelines([logString, '\\n'])\n",
    "\n",
    "    elif info['command'] == 'Magdown':\n",
    "        if info['currentJob'] != 'Magdown':\n",
    "            if info['currentJob'] == 'Soak':\n",
    "                stopSoakTime = datetime.now()\n",
    "                t = (stopSoakTime - startSoakTime)\n",
    "                logString = \"Soaked for {} days, {}h: {}m: {}s\".format(t.days,t.seconds//3600,(t.seconds//60)%60, t.seconds%60)\n",
    "                print(logString)\n",
    "                logFile.writelines([logString, '\\n'])\n",
    "            \n",
    "            info = infocollection.find_one_and_update({},{'$set': {'currentJob': 'Magdown'}})\n",
    "            logString = \"Start Magdown at \" + datetime.now().strftime('%a, %c')\n",
    "            print(logString)\n",
    "            logFile.writelines([logString, '\\n'])\n",
    "\n",
    "    elif info['command'] == 'Soak':\n",
    "        if info['currentJob'] != 'Soak':\n",
    "            info = infocollection.find_one_and_update({},{'$set': {'currentJob': 'Soak'}})\n",
    "            logString = \"Start Soak at \" + datetime.now().strftime('%a, %c')\n",
    "            startSoakTime = datetime.now()\n",
    "            print(logString)\n",
    "            logFile.writelines([logString, '\\n'])\n",
    "\n",
    "    else:\n",
    "        info = infocollection.find_one_and_update({},{'$set': {'currentJob': 'None'}})\n",
    "        if data['baseTemp'] < 3:\n",
    "            statusString = \"Cold (Magged Down)\"\n",
    "        elif data['threeKTemp'] < 3.5:\n",
    "            statusString = \"Cold (3K)\"\n",
    "        elif (data['sixtyKTemp'] < data['threeKTemp']) and (data['sixtyKTemp'] > 70):\n",
    "            statusString = \"Cooling Down\"\n",
    "        elif (data['sixtyKTemp'] > data['threeKTemp']) and (data['sixtyKTemp'] > 70):\n",
    "            statusString = \"Warming Up\"\n",
    "        else:\n",
    "            statusString = \"Warm\"\n",
    "        \n",
    "    \n",
    "\n",
    "    # Control Magnet\n",
    "    job = info['currentJob']\n",
    "\n",
    "    if job == 'Magup':\n",
    "        # Increase Magnet Voltage\n",
    "        currentV = float(ps.ask('VOLT?'))*1000\n",
    "        if currentV < info['maxVoltage']:\n",
    "            nextV = currentV + info['voltageStep']\n",
    "            ps.write('VOLT:LEV:IMM ' + str(nextV) + 'mV')\n",
    "            print(str(nextV) + \"mV\\n\" + \"Current: \" + ps.ask('MEAS:CURR?') + \"\\tVoltage: \" + ps.ask('MEAS:VOLT?'))\n",
    "        else:\n",
    "            print('Max Voltage Reached')\n",
    "            if data['psCurrent'] > 9.0:\n",
    "                print('9A reached')\n",
    "                info = infocollection.find_one_and_update({},{'$set': {'command': 'Soak'}})\n",
    "        statusString = \"Magup\"\n",
    "    elif job == 'Magdown':\n",
    "        # Decrease Magnet Voltage\n",
    "        currentV = float(ps.ask('VOLT?'))*1000\n",
    "        if currentV > 0:\n",
    "            nextV = currentV - info['voltageStep']\n",
    "            ps.write('VOLT:LEV:IMM ' + str(nextV) + 'mV')\n",
    "            print(str(nextV) + \"mV\\n\" + \"Current: \" + ps.ask('MEAS:CURR?') + \"\\tVoltage: \" + ps.ask('MEAS:VOLT?'))\n",
    "        else:\n",
    "            print('Zero Voltage Reached')\n",
    "            info = infocollection.find_one_and_update({},{'$set': {'command': 'None'}})\n",
    "        statusString = \"Magdown\"\n",
    "    elif job == 'Soak':\n",
    "        # Soak\n",
    "        statusString = \"Soak\"\n",
    "    else:\n",
    "        pass\n",
    "    \n",
    "    info = infocollection.find_one_and_update({},{'$set': {'fridgeStatus': statusString}})\n",
    "    # Close Log File\n",
    "    logFile.close()\n",
    "\n",
    "    # Wait\n",
    "    time.sleep(5)"
   ]
  },
  {
   "cell_type": "code",
   "execution_count": 30,
   "metadata": {
    "collapsed": false
   },
   "outputs": [
    {
     "data": {
      "text/plain": [
       "'Soaked for 0 days, 0h: 0m: 10s'"
      ]
     },
     "execution_count": 30,
     "metadata": {},
     "output_type": "execute_result"
    }
   ],
   "source": [
    "logstring"
   ]
  },
  {
   "cell_type": "code",
   "execution_count": null,
   "metadata": {
    "collapsed": true
   },
   "outputs": [],
   "source": []
  }
 ],
 "metadata": {
  "kernelspec": {
   "display_name": "Python 2",
   "language": "python",
   "name": "python2"
  }
 },
 "nbformat": 4,
 "nbformat_minor": 0
}
