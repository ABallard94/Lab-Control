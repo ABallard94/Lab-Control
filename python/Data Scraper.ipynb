{
 "cells": [
  {
   "cell_type": "markdown",
   "metadata": {},
   "source": [
    "This Notebook connects to a mongodb database, connects to the Lakeshore temperature monitors that we are using, creates a data object by scanning these instruments, and inserts them into the MongoDB database."
   ]
  },
  {
   "cell_type": "code",
   "execution_count": 1,
   "metadata": {
    "collapsed": false
   },
   "outputs": [],
   "source": [
    "import time\n",
    "import numpy as np\n",
    "from datetime import datetime\n",
    "from calendar import timegm\n",
    "from pymongo import MongoClient, ASCENDING, DESCENDING\n",
    "import pyvisa\n",
    "import serial"
   ]
  },
  {
   "cell_type": "markdown",
   "metadata": {},
   "source": [
    "# Setup and configure Mongo"
   ]
  },
  {
   "cell_type": "code",
   "execution_count": 4,
   "metadata": {
    "collapsed": false
   },
   "outputs": [],
   "source": [
    "def dbConnect():\n",
    "    client = MongoClient('mongodb://localhost/')\n",
    "    db = client.data\n",
    "    collection = db.adr1datas\n",
    "    db.collection_names()\n",
    "    return collection\n",
    "collection = dbConnect()"
   ]
  },
  {
   "cell_type": "code",
   "execution_count": 3,
   "metadata": {
    "collapsed": false
   },
   "outputs": [
    {
     "ename": "NameError",
     "evalue": "name 'db' is not defined",
     "output_type": "error",
     "traceback": [
      "\u001b[1;31m---------------------------------------------------------------------------\u001b[0m",
      "\u001b[1;31mNameError\u001b[0m                                 Traceback (most recent call last)",
      "\u001b[1;32m<ipython-input-3-56f9f955ee1d>\u001b[0m in \u001b[0;36m<module>\u001b[1;34m()\u001b[0m\n\u001b[1;32m----> 1\u001b[1;33m \u001b[0madr2infocollection\u001b[0m \u001b[1;33m=\u001b[0m \u001b[0mdb\u001b[0m\u001b[1;33m.\u001b[0m\u001b[0madr2infocollections\u001b[0m\u001b[1;33m\u001b[0m\u001b[0m\n\u001b[0m\u001b[0;32m      2\u001b[0m \u001b[0mdb\u001b[0m\u001b[1;33m.\u001b[0m\u001b[0mcollection_names\u001b[0m\u001b[1;33m(\u001b[0m\u001b[1;33m)\u001b[0m\u001b[1;33m\u001b[0m\u001b[0m\n",
      "\u001b[1;31mNameError\u001b[0m: name 'db' is not defined"
     ]
    }
   ],
   "source": [
    "adr2infocollection = db.adr2infocollections\n",
    "db.collection_names()"
   ]
  },
  {
   "cell_type": "code",
   "execution_count": 5,
   "metadata": {
    "collapsed": false
   },
   "outputs": [
    {
     "data": {
      "text/plain": [
       "'data.adr1datas'"
      ]
     },
     "execution_count": 5,
     "metadata": {},
     "output_type": "execute_result"
    }
   ],
   "source": [
    "collection.full_name"
   ]
  },
  {
   "cell_type": "markdown",
   "metadata": {},
   "source": [
    "# Add Single Data file to DB"
   ]
  },
  {
   "cell_type": "markdown",
   "metadata": {},
   "source": [
    "### Returns dict with random data"
   ]
  },
  {
   "cell_type": "code",
   "execution_count": 17,
   "metadata": {
    "collapsed": false
   },
   "outputs": [
    {
     "data": {
      "text/plain": [
       "{'baseTemp': 0.087650353245358,\n",
       " 'currentJob': 'None',\n",
       " 'magnetVoltage': 0.4452160265629367,\n",
       " 'percentComplete': 0,\n",
       " 'psCurrent': 0.9102815720770526,\n",
       " 'psVoltage': 0.2778003531985641,\n",
       " 'sixtyKTemp': 60.429288673929356,\n",
       " 'switchState': 'Closed',\n",
       " 'threeKTemp': 3.2061069052552913,\n",
       " 'timeStamp': 1420547121}"
      ]
     },
     "execution_count": 17,
     "metadata": {},
     "output_type": "execute_result"
    }
   ],
   "source": [
    "def rand_data():\n",
    "    post = {\n",
    "        \"timeStamp\": timegm(datetime.now().timetuple()),\n",
    "        \"baseTemp\": .05*np.random.rand()+.05,\n",
    "        \"threeKTemp\": 0.7*np.random.rand()+2.8,\n",
    "        \"sixtyKTemp\": np.random.rand()+60,\n",
    "        \"magnetVoltage\": np.random.rand(),\n",
    "        \"psVoltage\": np.random.rand(),\n",
    "        \"psCurrent\": np.random.rand(),\n",
    "        \"currentJob\": \"None\",\n",
    "        \"percentComplete\": 0,\n",
    "        \"switchState\": \"Closed\"\n",
    "    }\n",
    "    return post\n",
    "rand_data()"
   ]
  },
  {
   "cell_type": "code",
   "execution_count": 14,
   "metadata": {
    "collapsed": false
   },
   "outputs": [
    {
     "name": "stdout",
     "output_type": "stream",
     "text": [
      "{u'_id': ObjectId('54da8d2dc860b11ad48cee9b'), u'threeKTemp': u'+293.410E+0', u'timeStamp': 1423591132, u'oneKTemp': u'+250.412E+0', u'currentJob': u'None', u'switchState': u'Closed', u'psVoltage': u'+0.000000E+00\\n', u'percentComplete': 0, u'psCurrent': u'+0.000000E+00\\n', u'sixtyKTemp': u'+294.043E+0', u'magnetVoltage': u'-00.5258E-3', u'baseTemp': u'+00.000'}\n",
      "{u'_id': ObjectId('54da8d2ec860b11ad48cee9c'), u'threeKTemp': u'+293.410E+0', u'timeStamp': 1423591134, u'oneKTemp': u'+250.838E+0', u'currentJob': u'None', u'switchState': u'Closed', u'psVoltage': u'+0.000000E+00\\n', u'percentComplete': 0, u'psCurrent': u'+0.000000E+00\\n', u'sixtyKTemp': u'+294.044E+0', u'magnetVoltage': u'-00.5236E-3', u'baseTemp': u'+00.000'}\n",
      "{u'_id': ObjectId('54da8d2fc860b11ad48cee9d'), u'threeKTemp': u'+293.410E+0', u'timeStamp': 1423591135, u'oneKTemp': u'+250.599E+0', u'currentJob': u'None', u'switchState': u'Closed', u'psVoltage': u'+0.000000E+00\\n', u'percentComplete': 0, u'psCurrent': u'+0.000000E+00\\n', u'sixtyKTemp': u'+294.044E+0', u'magnetVoltage': u'-00.5269E-3', u'baseTemp': u'+00.000'}\n",
      "{u'_id': ObjectId('54da8d30c860b11ad48cee9e'), u'threeKTemp': u'+293.410E+0', u'timeStamp': 1423591136, u'oneKTemp': u'+250.857E+0', u'currentJob': u'None', u'switchState': u'Closed', u'psVoltage': u'+0.000000E+00\\n', u'percentComplete': 0, u'psCurrent': u'+0.000000E+00\\n', u'sixtyKTemp': u'+294.044E+0', u'magnetVoltage': u'-00.5264E-3', u'baseTemp': u'+00.000'}\n",
      "{u'_id': ObjectId('54da8d31c860b11ad48cee9f'), u'threeKTemp': u'+293.410E+0', u'timeStamp': 1423591137, u'oneKTemp': u'+250.662E+0', u'currentJob': u'None', u'switchState': u'Closed', u'psVoltage': u'+0.000000E+00\\n', u'percentComplete': 0, u'psCurrent': u'+0.000000E+00\\n', u'sixtyKTemp': u'+294.044E+0', u'magnetVoltage': u'-00.5275E-3', u'baseTemp': u'+00.000'}\n",
      "{u'_id': ObjectId('54da8d32c860b11ad48ceea0'), u'threeKTemp': u'+293.410E+0', u'timeStamp': 1423591138, u'oneKTemp': u'+250.378E+0', u'currentJob': u'None', u'switchState': u'Closed', u'psVoltage': u'+0.000000E+00\\n', u'percentComplete': 0, u'psCurrent': u'+0.000000E+00\\n', u'sixtyKTemp': u'+294.044E+0', u'magnetVoltage': u'-00.5322E-3', u'baseTemp': u'+00.000'}\n",
      "{u'_id': ObjectId('54da8d34c860b11ad48ceea1'), u'threeKTemp': u'+293.410E+0', u'timeStamp': 1423591139, u'oneKTemp': u'+250.319E+0', u'currentJob': u'None', u'switchState': u'Closed', u'psVoltage': u'+0.000000E+00\\n', u'percentComplete': 0, u'psCurrent': u'+0.000000E+00\\n', u'sixtyKTemp': u'+294.044E+0', u'magnetVoltage': u'-00.5300E-3', u'baseTemp': u'+00.000'}\n",
      "{u'_id': ObjectId('54da8d35c860b11ad48ceea2'), u'threeKTemp': u'+293.410E+0', u'timeStamp': 1423591141, u'oneKTemp': u'+250.368E+0', u'currentJob': u'None', u'switchState': u'Closed', u'psVoltage': u'+0.000000E+00\\n', u'percentComplete': 0, u'psCurrent': u'+0.000000E+00\\n', u'sixtyKTemp': u'+294.043E+0', u'magnetVoltage': u'-00.5309E-3', u'baseTemp': u'+00.000'}\n",
      "{u'_id': ObjectId('54da8d36c860b11ad48ceea3'), u'threeKTemp': u'+293.410E+0', u'timeStamp': 1423591142, u'oneKTemp': u'+250.271E+0', u'currentJob': u'None', u'switchState': u'Closed', u'psVoltage': u'+0.000000E+00\\n', u'percentComplete': 0, u'psCurrent': u'+0.000000E+00\\n', u'sixtyKTemp': u'+294.043E+0', u'magnetVoltage': u'-00.5258E-3', u'baseTemp': u'+00.000'}\n",
      "{u'_id': ObjectId('54da8d37c860b11ad48ceea4'), u'threeKTemp': u'+293.410E+0', u'timeStamp': 1423591143, u'oneKTemp': u'+250.649E+0', u'currentJob': u'None', u'switchState': u'Closed', u'psVoltage': u'+0.000000E+00\\n', u'percentComplete': 0, u'psCurrent': u'+0.000000E+00\\n', u'sixtyKTemp': u'+294.044E+0', u'magnetVoltage': u'-00.5300E-3', u'baseTemp': u'+00.000'}\n"
     ]
    }
   ],
   "source": [
    "for data in collection.find().limit(10):\n",
    "    print(data)"
   ]
  },
  {
   "cell_type": "markdown",
   "metadata": {},
   "source": [
    "## Get Data from Instruments"
   ]
  },
  {
   "cell_type": "markdown",
   "metadata": {},
   "source": [
    "### Create Instrument Objects"
   ]
  },
  {
   "cell_type": "code",
   "execution_count": 6,
   "metadata": {
    "collapsed": false
   },
   "outputs": [],
   "source": [
    "def connectInstruments():\n",
    "    rm = pyvisa.ResourceManager()\n",
    "    rm.list_resources()\n",
    "    inst1 = rm.open_resource('GPIB0::1::INSTR')\n",
    "    inst2 = rm.open_resource('GPIB0::2::INSTR')\n",
    "    inst3 = rm.open_resource('GPIB0::6::INSTR')\n",
    "    return [inst1,inst2,inst3]"
   ]
  },
  {
   "cell_type": "code",
   "execution_count": 7,
   "metadata": {
    "collapsed": false
   },
   "outputs": [
    {
     "data": {
      "text/plain": [
       "'LSCI,MODEL340,341911,042304'"
      ]
     },
     "execution_count": 7,
     "metadata": {},
     "output_type": "execute_result"
    }
   ],
   "source": [
    "x = connectInstruments()\n",
    "x[0].ask('*IDN?')"
   ]
  },
  {
   "cell_type": "markdown",
   "metadata": {},
   "source": [
    "### Get Data Object"
   ]
  },
  {
   "cell_type": "code",
   "execution_count": 35,
   "metadata": {
    "collapsed": false
   },
   "outputs": [],
   "source": [
    "rm = pyvisa.ResourceManager()\n",
    "ls1 = rm.open_resource('GPIB0::1::INSTR')"
   ]
  },
  {
   "cell_type": "code",
   "execution_count": 9,
   "metadata": {
    "collapsed": false
   },
   "outputs": [
    {
     "ename": "NameError",
     "evalue": "name 'ls1' is not defined",
     "output_type": "error",
     "traceback": [
      "\u001b[1;31m---------------------------------------------------------------------------\u001b[0m",
      "\u001b[1;31mNameError\u001b[0m                                 Traceback (most recent call last)",
      "\u001b[1;32m<ipython-input-9-474c69f637bc>\u001b[0m in \u001b[0;36m<module>\u001b[1;34m()\u001b[0m\n\u001b[1;32m----> 1\u001b[1;33m \u001b[0mls1\u001b[0m\u001b[1;33m.\u001b[0m\u001b[0mencoding\u001b[0m\u001b[1;33m\u001b[0m\u001b[0m\n\u001b[0m",
      "\u001b[1;31mNameError\u001b[0m: name 'ls1' is not defined"
     ]
    }
   ],
   "source": [
    "ls1.encoding"
   ]
  },
  {
   "cell_type": "code",
   "execution_count": 12,
   "metadata": {
    "collapsed": false
   },
   "outputs": [],
   "source": [
    "inst[0].encoding = 'utf-8'"
   ]
  },
  {
   "cell_type": "code",
   "execution_count": 15,
   "metadata": {
    "collapsed": false
   },
   "outputs": [
    {
     "data": {
      "text/plain": [
       "{'baseTemp': 0.0,\n",
       " 'currentJob': 'None',\n",
       " 'magnetVoltage': -0.00836,\n",
       " 'oneKTemp': 160.347,\n",
       " 'percentComplete': 0,\n",
       " 'psCurrent': 0,\n",
       " 'psVoltage': 0,\n",
       " 'sixtyKTemp': 70.939,\n",
       " 'switchState': 'Closed',\n",
       " 'threeKTemp': 146.515,\n",
       " 'timeStamp': 1433541452}"
      ]
     },
     "execution_count": 15,
     "metadata": {},
     "output_type": "execute_result"
    }
   ],
   "source": [
    "inst = connectInstruments()\n",
    "def get_data(inst):\n",
    "    post = {\n",
    "        \"timeStamp\": timegm(datetime.now().timetuple()),\n",
    "        \"baseTemp\": float(inst[1].ask('KRDG? A')),\n",
    "        \"oneKTemp\": float(inst[0].ask('KRDG? C')),\n",
    "        \"threeKTemp\": float(inst[0].ask('KRDG? A')),\n",
    "        \"sixtyKTemp\": float(inst[0].ask('KRDG? B')),\n",
    "        \"magnetVoltage\": float(inst[0].ask('SRDG? D')),\n",
    "        \"psVoltage\": 0,\n",
    "        \"psCurrent\": 0,\n",
    "        \"currentJob\": \"None\",\n",
    "        \"percentComplete\": 0,\n",
    "        \"switchState\": \"Closed\"\n",
    "    }\n",
    "    return post\n",
    "get_data(inst)"
   ]
  },
  {
   "cell_type": "markdown",
   "metadata": {},
   "source": [
    "###Validate Data, Determine Fridge Status"
   ]
  },
  {
   "cell_type": "code",
   "execution_count": null,
   "metadata": {
    "collapsed": true
   },
   "outputs": [],
   "source": [
    "def fridgeStatus(data, infocollection):\n",
    "    "
   ]
  },
  {
   "cell_type": "markdown",
   "metadata": {},
   "source": [
    "### Update every 5 seconds"
   ]
  },
  {
   "cell_type": "code",
   "execution_count": null,
   "metadata": {
    "collapsed": false,
    "scrolled": true
   },
   "outputs": [
    {
     "name": "stdout",
     "output_type": "stream",
     "text": [
      "Read error at 21:57:44\n",
      "Read error at 21:58:15"
     ]
    }
   ],
   "source": [
    "while True:\n",
    "    try:\n",
    "        temp = get_data(inst)\n",
    "        \n",
    "    except UnicodeDecodeError:\n",
    "        print(\"Read error at \" + datetime.now().strftime('%H:%M:%S'))\n",
    "        inst = connectInstruments()\n",
    "        \n",
    "    else:\n",
    "        if (temp['sixtyKTemp'] <= 290):\n",
    "            try:\n",
    "                collection.insert(temp)\n",
    "            except:\n",
    "                print(\"Database error at \" + datetime.now().strftime('%H:%M:%S'))\n",
    "                \n",
    "    time.sleep(5)"
   ]
  },
  {
   "cell_type": "code",
   "execution_count": null,
   "metadata": {
    "collapsed": false,
    "scrolled": true
   },
   "outputs": [],
   "source": [
    "while True:\n",
    "    temp = get_data()\n",
    "    if (temp['sixtyKTemp'] <= 290):\n",
    "            collection.insert(temp)\n",
    "    time.sleep(5)"
   ]
  },
  {
   "cell_type": "code",
   "execution_count": 10,
   "metadata": {
    "collapsed": false
   },
   "outputs": [
    {
     "data": {
      "text/plain": [
       "296.278"
      ]
     },
     "execution_count": 10,
     "metadata": {},
     "output_type": "execute_result"
    }
   ],
   "source": [
    "temp['sixtyKTemp']"
   ]
  },
  {
   "cell_type": "code",
   "execution_count": 11,
   "metadata": {
    "collapsed": false
   },
   "outputs": [
    {
     "data": {
      "text/plain": [
       "'10:01:18'"
      ]
     },
     "execution_count": 11,
     "metadata": {},
     "output_type": "execute_result"
    }
   ],
   "source": []
  },
  {
   "cell_type": "code",
   "execution_count": null,
   "metadata": {
    "collapsed": true
   },
   "outputs": [],
   "source": []
  }
 ],
 "metadata": {
  "kernelspec": {
   "display_name": "Python 3",
   "language": "python",
   "name": "python3"
  },
  "language_info": {
   "codemirror_mode": {
    "name": "ipython",
    "version": 3
   },
   "file_extension": ".py",
   "mimetype": "text/x-python",
   "name": "python",
   "nbconvert_exporter": "python",
   "pygments_lexer": "ipython3",
   "version": "3.4.3"
  }
 },
 "nbformat": 4,
 "nbformat_minor": 0
}
