{
 "cells": [
  {
   "cell_type": "markdown",
   "metadata": {},
   "source": [
    "This Notebook connects to a mongodb database, connects to the Lakeshore temperature monitors that we are using, creates a data object by scanning these instruments, and inserts them into the MongoDB database."
   ]
  },
  {
   "cell_type": "code",
   "execution_count": 1,
   "metadata": {
    "collapsed": false
   },
   "outputs": [],
   "source": [
    "import time\n",
    "import numpy as np\n",
    "from datetime import datetime\n",
    "from calendar import timegm\n",
    "from pymongo import MongoClient, ASCENDING, DESCENDING\n",
    "import pyvisa\n",
    "import serial"
   ]
  },
  {
   "cell_type": "markdown",
   "metadata": {},
   "source": [
    "# Setup and configure Mongo"
   ]
  },
  {
   "cell_type": "code",
   "execution_count": 2,
   "metadata": {
    "collapsed": false
   },
   "outputs": [],
   "source": [
    "def dbConnect():\n",
    "    client = MongoClient('mongodb://localhost/')\n",
    "    db = client.data\n",
    "    collection = db.adr2datas\n",
    "    db.collection_names()\n",
    "    infocollection = db.adr2infos\n",
    "    return collection, infocollection\n",
    "collection,infocollection = dbConnect()"
   ]
  },
  {
   "cell_type": "code",
   "execution_count": 3,
   "metadata": {
    "collapsed": false
   },
   "outputs": [
    {
     "data": {
      "text/plain": [
       "u'adr2datas'"
      ]
     },
     "execution_count": 3,
     "metadata": {},
     "output_type": "execute_result"
    }
   ],
   "source": [
    "collection.name"
   ]
  },
  {
   "cell_type": "code",
   "execution_count": 4,
   "metadata": {
    "collapsed": false
   },
   "outputs": [
    {
     "data": {
      "text/plain": [
       "u'data.adr2infos'"
      ]
     },
     "execution_count": 4,
     "metadata": {},
     "output_type": "execute_result"
    }
   ],
   "source": [
    "infocollection.full_name"
   ]
  },
  {
   "cell_type": "markdown",
   "metadata": {},
   "source": [
    "# Add Single Data file to DB"
   ]
  },
  {
   "cell_type": "markdown",
   "metadata": {},
   "source": [
    "### Returns dict with random data"
   ]
  },
  {
   "cell_type": "code",
   "execution_count": 3,
   "metadata": {
    "collapsed": false
   },
   "outputs": [
    {
     "data": {
      "text/plain": [
       "{'baseTemp': 0.07545333274376156,\n",
       " 'currentJob': 'None',\n",
       " 'magnetVoltage': 0.861983735742138,\n",
       " 'percentComplete': 0,\n",
       " 'psCurrent': 0.6623301643731142,\n",
       " 'psVoltage': 0.9200453201886846,\n",
       " 'sixtyKTemp': 60.51191939807759,\n",
       " 'switchState': 'Closed',\n",
       " 'threeKTemp': 3.468096524774105,\n",
       " 'timeStamp': 1440695249}"
      ]
     },
     "execution_count": 3,
     "metadata": {},
     "output_type": "execute_result"
    }
   ],
   "source": [
    "def rand_data():\n",
    "    post = {\n",
    "        \"timeStamp\": timegm(datetime.now().timetuple()),\n",
    "        \"baseTemp\": .05*np.random.rand()+.05,\n",
    "        \"threeKTemp\": 0.7*np.random.rand()+2.8,\n",
    "        \"sixtyKTemp\": np.random.rand()+60,\n",
    "        \"magnetVoltage\": np.random.rand(),\n",
    "        \"psVoltage\": np.random.rand(),\n",
    "        \"psCurrent\": np.random.rand(),\n",
    "        \"currentJob\": \"None\",\n",
    "        \"percentComplete\": 0,\n",
    "        \"switchState\": \"Closed\"\n",
    "    }\n",
    "    return post\n",
    "rand_data()"
   ]
  },
  {
   "cell_type": "code",
   "execution_count": 8,
   "metadata": {
    "collapsed": false
   },
   "outputs": [],
   "source": [
    "for data in collection.find().limit(10):\n",
    "    print(data)"
   ]
  },
  {
   "cell_type": "markdown",
   "metadata": {},
   "source": [
    "## Get Data from Instruments"
   ]
  },
  {
   "cell_type": "markdown",
   "metadata": {},
   "source": [
    "### Create Instrument Objects"
   ]
  },
  {
   "cell_type": "code",
   "execution_count": 3,
   "metadata": {
    "collapsed": false
   },
   "outputs": [],
   "source": [
    "def connectInstruments():\n",
    "    rm = pyvisa.ResourceManager()\n",
    "    rm.list_resources()\n",
    "    inst1 = rm.open_resource('GPIB0::1::INSTR', read_termination = '\\x00')\n",
    "    inst2 = rm.open_resource('GPIB0::2::INSTR', read_termination = '\\x00')\n",
    "    inst3 = rm.open_resource('GPIB0::6::INSTR', read_termination = '\\x00')\n",
    "    return [inst1,inst2,inst3]"
   ]
  },
  {
   "cell_type": "code",
   "execution_count": 4,
   "metadata": {
    "collapsed": false,
    "scrolled": true
   },
   "outputs": [
    {
     "name": "stderr",
     "output_type": "stream",
     "text": [
      "C:\\Anaconda\\lib\\site-packages\\pyvisa\\resources\\messagebased.py:387: UserWarning: read string doesn't end with termination characters\n",
      "  return self.read()\n"
     ]
    },
    {
     "data": {
      "text/plain": [
       "u'LSCI,MODEL340,341911,042304'"
      ]
     },
     "execution_count": 4,
     "metadata": {},
     "output_type": "execute_result"
    }
   ],
   "source": [
    "x = connectInstruments()\n",
    "x[0].ask('*IDN?')"
   ]
  },
  {
   "cell_type": "code",
   "execution_count": 5,
   "metadata": {
    "collapsed": false
   },
   "outputs": [
    {
     "data": {
      "text/plain": [
       "(u'ASRL1::INSTR', u'GPIB0::1::INSTR', u'GPIB0::2::INSTR', u'GPIB0::6::INSTR')"
      ]
     },
     "execution_count": 5,
     "metadata": {},
     "output_type": "execute_result"
    }
   ],
   "source": [
    "rm = pyvisa.ResourceManager()\n",
    "rm.list_resources()"
   ]
  },
  {
   "cell_type": "markdown",
   "metadata": {},
   "source": [
    "### Get Data Object"
   ]
  },
  {
   "cell_type": "code",
   "execution_count": 6,
   "metadata": {
    "collapsed": false,
    "scrolled": true
   },
   "outputs": [
    {
     "data": {
      "text/plain": [
       "{'baseTemp': 0.0,\n",
       " 'currentJob': 'None',\n",
       " 'magnetVoltage': -0.0084,\n",
       " 'oneKTemp': 251.835,\n",
       " 'percentComplete': 0,\n",
       " 'psCurrent': 0,\n",
       " 'psVoltage': 0,\n",
       " 'sixtyKTemp': 223.319,\n",
       " 'switchState': 'Closed',\n",
       " 'threeKTemp': 278.74,\n",
       " 'timeStamp': 1441905513}"
      ]
     },
     "execution_count": 6,
     "metadata": {},
     "output_type": "execute_result"
    }
   ],
   "source": [
    "# inst = connectInstruments()\n",
    "# for i in inst:\n",
    "#     i.encoding = 'utf-8'\n",
    "#     print(i.encoding)\n",
    "    \n",
    "def get_data(inst):\n",
    "    post = {\n",
    "        \"timeStamp\": timegm(datetime.now().timetuple()),\n",
    "        \"baseTemp\": float(inst[1].ask('KRDG? B')),\n",
    "        \"oneKTemp\": float(inst[0].ask('KRDG? C')),\n",
    "        \"threeKTemp\": float(inst[0].ask('KRDG? A')),\n",
    "        \"sixtyKTemp\": float(inst[0].ask('KRDG? B')),\n",
    "        \"magnetVoltage\": float(inst[0].ask('SRDG? D')),\n",
    "        \"psVoltage\": 0,\n",
    "        \"psCurrent\": 0,\n",
    "        \"currentJob\": \"None\",\n",
    "        \"percentComplete\": 0,\n",
    "        \"switchState\": \"Closed\"\n",
    "    }\n",
    "    return post\n",
    "get_data(connectInstruments())"
   ]
  },
  {
   "cell_type": "code",
   "execution_count": 7,
   "metadata": {
    "collapsed": false
   },
   "outputs": [
    {
     "ename": "NameError",
     "evalue": "name 'inst' is not defined",
     "output_type": "error",
     "traceback": [
      "\u001b[1;31m---------------------------------------------------------------------------\u001b[0m",
      "\u001b[1;31mNameError\u001b[0m                                 Traceback (most recent call last)",
      "\u001b[1;32m<ipython-input-7-9cba4d34e5e2>\u001b[0m in \u001b[0;36m<module>\u001b[1;34m()\u001b[0m\n\u001b[1;32m----> 1\u001b[1;33m \u001b[0mfloat\u001b[0m\u001b[1;33m(\u001b[0m\u001b[0minst\u001b[0m\u001b[1;33m[\u001b[0m\u001b[1;36m1\u001b[0m\u001b[1;33m]\u001b[0m\u001b[1;33m.\u001b[0m\u001b[0mask\u001b[0m\u001b[1;33m(\u001b[0m\u001b[1;34m'KRDG? B'\u001b[0m\u001b[1;33m)\u001b[0m\u001b[1;33m)\u001b[0m\u001b[1;33m*\u001b[0m\u001b[1;36m1000\u001b[0m\u001b[1;33m\u001b[0m\u001b[0m\n\u001b[0m",
      "\u001b[1;31mNameError\u001b[0m: name 'inst' is not defined"
     ]
    }
   ],
   "source": [
    "float(inst[1].ask('KRDG? B'))*1000"
   ]
  },
  {
   "cell_type": "code",
   "execution_count": 67,
   "metadata": {
    "collapsed": false
   },
   "outputs": [
    {
     "data": {
      "text/plain": [
       "'\\xab\\xb0\\xb7\\xb8\\xae\\xb1\\xb3\\xb6\\xc5\\xab\\xb0'"
      ]
     },
     "execution_count": 67,
     "metadata": {},
     "output_type": "execute_result"
    }
   ],
   "source": [
    "'abb0b7b8aeb1b3b6c5abb0'.decode(\"hex\")"
   ]
  },
  {
   "cell_type": "markdown",
   "metadata": {},
   "source": [
    "###Validate Data, Determine Fridge Status"
   ]
  },
  {
   "cell_type": "code",
   "execution_count": null,
   "metadata": {
    "collapsed": true
   },
   "outputs": [],
   "source": [
    "def fridgeStatus(data, infocollection):\n",
    "    if (data['sixtyKTemp'] >= 289.9):\n",
    "        infocollection."
   ]
  },
  {
   "cell_type": "markdown",
   "metadata": {},
   "source": [
    "### Update every 5 seconds"
   ]
  },
  {
   "cell_type": "code",
   "execution_count": 8,
   "metadata": {
    "collapsed": false
   },
   "outputs": [
    {
     "name": "stdout",
     "output_type": "stream",
     "text": [
      "Database error at 17:26:19\n",
      "Database error at 17:26:35\n",
      "Database error at 17:28:48\n"
     ]
    },
    {
     "ename": "KeyboardInterrupt",
     "evalue": "",
     "output_type": "error",
     "traceback": [
      "\u001b[1;31m---------------------------------------------------------------------------\u001b[0m",
      "\u001b[1;31mKeyboardInterrupt\u001b[0m                         Traceback (most recent call last)",
      "\u001b[1;32m<ipython-input-8-abf5754b41c3>\u001b[0m in \u001b[0;36m<module>\u001b[1;34m()\u001b[0m\n\u001b[0;32m     18\u001b[0m                 \u001b[1;32mprint\u001b[0m\u001b[1;33m(\u001b[0m\u001b[1;34m\"Database error at \"\u001b[0m \u001b[1;33m+\u001b[0m \u001b[0mdatetime\u001b[0m\u001b[1;33m.\u001b[0m\u001b[0mnow\u001b[0m\u001b[1;33m(\u001b[0m\u001b[1;33m)\u001b[0m\u001b[1;33m.\u001b[0m\u001b[0mstrftime\u001b[0m\u001b[1;33m(\u001b[0m\u001b[1;34m'%H:%M:%S'\u001b[0m\u001b[1;33m)\u001b[0m\u001b[1;33m)\u001b[0m\u001b[1;33m\u001b[0m\u001b[0m\n\u001b[0;32m     19\u001b[0m \u001b[1;33m\u001b[0m\u001b[0m\n\u001b[1;32m---> 20\u001b[1;33m     \u001b[0mtime\u001b[0m\u001b[1;33m.\u001b[0m\u001b[0msleep\u001b[0m\u001b[1;33m(\u001b[0m\u001b[1;36m5\u001b[0m\u001b[1;33m)\u001b[0m\u001b[1;33m\u001b[0m\u001b[0m\n\u001b[0m",
      "\u001b[1;31mKeyboardInterrupt\u001b[0m: "
     ]
    }
   ],
   "source": [
    "inst = connectInstruments()\n",
    "while True:\n",
    "#     temp = rand_data()\n",
    "#     collection.insert(temp)\n",
    "    try:\n",
    "        temp = get_data(inst)\n",
    "\n",
    "        \n",
    "    except UnicodeDecodeError:\n",
    "        print(\"Read error at \" + datetime.now().strftime('%H:%M:%S'))\n",
    "        inst = connectInstruments()\n",
    "        \n",
    "    else:\n",
    "        if (temp['sixtyKTemp'] <= 300):\n",
    "            try:\n",
    "                collection.insert(temp)\n",
    "            except:\n",
    "                print(\"Database error at \" + datetime.now().strftime('%H:%M:%S'))\n",
    "                \n",
    "    time.sleep(5)"
   ]
  },
  {
   "cell_type": "code",
   "execution_count": null,
   "metadata": {
    "collapsed": false,
    "scrolled": true
   },
   "outputs": [],
   "source": [
    "while True:\n",
    "    temp = get_data()\n",
    "    if (temp['sixtyKTemp'] <= 290):\n",
    "            collection.insert(temp)\n",
    "    time.sleep(5)"
   ]
  },
  {
   "cell_type": "code",
   "execution_count": 10,
   "metadata": {
    "collapsed": false
   },
   "outputs": [
    {
     "data": {
      "text/plain": [
       "296.278"
      ]
     },
     "execution_count": 10,
     "metadata": {},
     "output_type": "execute_result"
    }
   ],
   "source": [
    "temp['sixtyKTemp']"
   ]
  },
  {
   "cell_type": "markdown",
   "metadata": {},
   "source": [
    "##Log File"
   ]
  },
  {
   "cell_type": "code",
   "execution_count": null,
   "metadata": {
    "collapsed": true
   },
   "outputs": [],
   "source": [
    "logFileName = 'log.txt'"
   ]
  },
  {
   "cell_type": "markdown",
   "metadata": {
    "collapsed": false
   },
   "source": [
    "##Scrape Data + Magnet Control"
   ]
  },
  {
   "cell_type": "code",
   "execution_count": null,
   "metadata": {
    "collapsed": true
   },
   "outputs": [],
   "source": [
    "while True:\n",
    "    try:\n",
    "        temp = get_data(inst)\n",
    "        \n",
    "    except UnicodeDecodeError:\n",
    "        print(\"Read error at \" + datetime.now().strftime('%H:%M:%S'))\n",
    "        inst = connectInstruments()\n",
    "        \n",
    "    else:\n",
    "        if (temp['sixtyKTemp'] <= 290):\n",
    "            try:\n",
    "                collection.insert(temp)\n",
    "            except:\n",
    "                print(\"Database error at \" + datetime.now().strftime('%H:%M:%S'))\n",
    "    \n",
    "                \n",
    "    time.sleep(5)"
   ]
  }
 ],
 "metadata": {
  "kernelspec": {
   "display_name": "Python 2",
   "language": "python",
   "name": "python2"
  },
  "language_info": {
   "codemirror_mode": {
    "name": "ipython",
    "version": 2
   },
   "file_extension": ".py",
   "mimetype": "text/x-python",
   "name": "python",
   "nbconvert_exporter": "python",
   "pygments_lexer": "ipython2",
   "version": "2.7.10"
  }
 },
 "nbformat": 4,
 "nbformat_minor": 0
}
