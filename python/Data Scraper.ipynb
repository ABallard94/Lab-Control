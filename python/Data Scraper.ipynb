{
 "metadata": {
  "name": "",
  "signature": "sha256:8867859f00beaa2ef787c15fe9475048495d70ceafd3ad7b24bfe9f13c9722f5"
 },
 "nbformat": 3,
 "nbformat_minor": 0,
 "worksheets": [
  {
   "cells": [
    {
     "cell_type": "code",
     "collapsed": false,
     "input": [
      "import time\n",
      "import numpy as np\n",
      "from datetime import datetime\n",
      "from calendar import timegm\n",
      "from pymongo import MongoClient, ASCENDING, DESCENDING"
     ],
     "language": "python",
     "metadata": {},
     "outputs": [],
     "prompt_number": 1
    },
    {
     "cell_type": "heading",
     "level": 1,
     "metadata": {},
     "source": [
      "Setup and configure Mongo"
     ]
    },
    {
     "cell_type": "code",
     "collapsed": false,
     "input": [
      "client = MongoClient('mongodb://localhost/')\n",
      "db = client.adr2\n",
      "collection = db.adr2datas\n",
      "db.collection_names()"
     ],
     "language": "python",
     "metadata": {},
     "outputs": [
      {
       "metadata": {},
       "output_type": "pyout",
       "prompt_number": 9,
       "text": [
        "[]"
       ]
      }
     ],
     "prompt_number": 9
    },
    {
     "cell_type": "code",
     "collapsed": false,
     "input": [
      "jobsclient = MongoClient('mongodb://localhost/jobs1')\n",
      "jobsdb = client.jobs1\n",
      "jobs = jobsdb.adr1jobs\n",
      "jobs.count()\n"
     ],
     "language": "python",
     "metadata": {},
     "outputs": [
      {
       "metadata": {},
       "output_type": "pyout",
       "prompt_number": 6,
       "text": [
        "3"
       ]
      }
     ],
     "prompt_number": 6
    },
    {
     "cell_type": "code",
     "collapsed": false,
     "input": [
      "for job in jobs.find():\n",
      "    print(job)"
     ],
     "language": "python",
     "metadata": {},
     "outputs": [
      {
       "output_type": "stream",
       "stream": "stdout",
       "text": [
        "{u'finishTime': datetime.datetime(2014, 12, 29, 12, 30), u'percentDone': 0, u'startTime': datetime.datetime(2014, 12, 29, 12, 0), u'completed': False, u'dateString': u'Mon Dec 29 2014', u'__v': 0, u'timeString': u'07:00:00 GMT-0500 (EST)', u'scheduledOn': datetime.datetime(2014, 12, 27, 18, 28, 41, 216000), u'_id': ObjectId('549efa5c58f48900008ebc7f'), u'type': u'Soak'}\n",
        "{u'finishTime': datetime.datetime(2014, 12, 29, 13, 30), u'percentDone': 0, u'startTime': datetime.datetime(2014, 12, 29, 12, 30), u'completed': False, u'dateString': u'Mon Dec 29 2014', u'__v': 0, u'timeString': u'07:30:00 GMT-0500 (EST)', u'scheduledOn': datetime.datetime(2014, 12, 27, 18, 28, 41, 216000), u'_id': ObjectId('549efa5c58f48900008ebc80'), u'type': u'Magdown'}\n",
        "{u'finishTime': datetime.datetime(2014, 12, 29, 12, 0), u'percentDone': 0, u'startTime': datetime.datetime(2014, 12, 29, 11, 0), u'completed': False, u'dateString': u'Mon Dec 29 2014', u'__v': 0, u'timeString': u'06:00:00 GMT-0500 (EST)', u'scheduledOn': datetime.datetime(2014, 12, 27, 18, 28, 41, 217000), u'_id': ObjectId('549efa5c58f48900008ebc7e'), u'type': u'Magup'}\n"
       ]
      }
     ],
     "prompt_number": 7
    },
    {
     "cell_type": "heading",
     "level": 1,
     "metadata": {},
     "source": [
      "Add Single Data file to DB"
     ]
    },
    {
     "cell_type": "heading",
     "level": 3,
     "metadata": {},
     "source": [
      "Returns dict with random data"
     ]
    },
    {
     "cell_type": "code",
     "collapsed": false,
     "input": [
      "def rand_data():\n",
      "    post = {\n",
      "        \"timeStamp\": timegm(datetime.now().timetuple()),\n",
      "        \"baseTemp\": .05*np.random.rand()+.05,\n",
      "        \"threeKTemp\": 0.7*np.random.rand()+2.8,\n",
      "        \"sixtyKTemp\": np.random.rand()+60,\n",
      "        \"magnetVoltage\": np.random.rand(),\n",
      "        \"psVoltage\": np.random.rand(),\n",
      "        \"psCurrent\": np.random.rand(),\n",
      "        \"currentJob\": \"None\",\n",
      "        \"percentComplete\": 0,\n",
      "        \"switchState\": \"Closed\"\n",
      "    }\n",
      "    return post"
     ],
     "language": "python",
     "metadata": {},
     "outputs": [],
     "prompt_number": 10
    },
    {
     "cell_type": "code",
     "collapsed": false,
     "input": [
      "collection.insert(rand_data())"
     ],
     "language": "python",
     "metadata": {},
     "outputs": [
      {
       "metadata": {},
       "output_type": "pyout",
       "prompt_number": 11,
       "text": [
        "ObjectId('54bc18eda114605ac98f2a21')"
       ]
      }
     ],
     "prompt_number": 11
    },
    {
     "cell_type": "code",
     "collapsed": false,
     "input": [
      "for data in collection.find():\n",
      "    print(data)"
     ],
     "language": "python",
     "metadata": {},
     "outputs": [
      {
       "output_type": "stream",
       "stream": "stdout",
       "text": [
        "{u'_id': ObjectId('54bc18eda114605ac98f2a21'), u'threeKTemp': 3.184705010437538, u'timeStamp': 1421595293, u'currentJob': u'None', u'switchState': u'Closed', u'psVoltage': 0.17537847316793587, u'percentComplete': 0, u'psCurrent': 0.6606587611457214, u'sixtyKTemp': 60.12519033308739, u'magnetVoltage': 0.5040834249539223, u'baseTemp': 0.06731049398010981}\n",
        "{u'_id': ObjectId('54bc19a2a114605ac98f2a22'), u'threeKTemp': 2.8242386488044664, u'timeStamp': 1421595474, u'currentJob': u'None', u'switchState': u'Closed', u'psVoltage': 0.37364738765779204, u'percentComplete': 0, u'psCurrent': 0.06287908618472471, u'sixtyKTemp': 60.12233780529609, u'magnetVoltage': 0.03665972421098207, u'baseTemp': 0.06016433183413846}\n",
        "{u'_id': ObjectId('54bc19a3a114605ac98f2a23'), u'threeKTemp': 3.0320268206195076, u'timeStamp': 1421595475, u'currentJob': u'None', u'switchState': u'Closed', u'psVoltage': 0.8634564521645174, u'percentComplete': 0, u'psCurrent': 0.3118985629687704, u'sixtyKTemp': 60.332315202142524, u'magnetVoltage': 0.23933164288680397, u'baseTemp': 0.05010440345784405}\n",
        "{u'_id': ObjectId('54bc19a4a114605ac98f2a24'), u'threeKTemp': 2.9608363218602047, u'timeStamp': 1421595476, u'currentJob': u'None', u'switchState': u'Closed', u'psVoltage': 0.7247822634679578, u'percentComplete': 0, u'psCurrent': 0.39784297621967757, u'sixtyKTemp': 60.18121691776478, u'magnetVoltage': 0.5075556675719396, u'baseTemp': 0.05328358611294905}\n",
        "{u'_id': ObjectId('54bc19a5a114605ac98f2a25'), u'threeKTemp': 3.3765744172214607, u'timeStamp': 1421595477, u'currentJob': u'None', u'switchState': u'Closed', u'psVoltage': 0.29809892623361156, u'percentComplete': 0, u'psCurrent': 0.36887161051546813, u'sixtyKTemp': 60.74666656768329, u'magnetVoltage': 0.9723648380914751, u'baseTemp': 0.05592046313827878}\n",
        "{u'_id': ObjectId('54bc19a6a114605ac98f2a26'), u'threeKTemp': 2.8172630792121995, u'timeStamp': 1421595478, u'currentJob': u'None', u'switchState': u'Closed', u'psVoltage': 0.012087888971117233, u'percentComplete': 0, u'psCurrent': 0.7370865841684269, u'sixtyKTemp': 60.09938597355442, u'magnetVoltage': 0.7347268226030385, u'baseTemp': 0.05196236516127045}\n",
        "{u'_id': ObjectId('54bc19a7a114605ac98f2a27'), u'threeKTemp': 3.096747711131573, u'timeStamp': 1421595479, u'currentJob': u'None', u'switchState': u'Closed', u'psVoltage': 0.32117732800391796, u'percentComplete': 0, u'psCurrent': 0.3464827208421102, u'sixtyKTemp': 60.889894676423225, u'magnetVoltage': 0.12003451785578223, u'baseTemp': 0.061764833669440446}\n",
        "{u'_id': ObjectId('54bc19a8a114605ac98f2a28'), u'threeKTemp': 3.046409103817446, u'timeStamp': 1421595480, u'currentJob': u'None', u'switchState': u'Closed', u'psVoltage': 0.10460491385954807, u'percentComplete': 0, u'psCurrent': 0.49890467369767977, u'sixtyKTemp': 60.42211259229697, u'magnetVoltage': 0.20523619000548177, u'baseTemp': 0.0655945762266678}\n",
        "{u'_id': ObjectId('54bc19a9a114605ac98f2a29'), u'threeKTemp': 3.271632420007801, u'timeStamp': 1421595481, u'currentJob': u'None', u'switchState': u'Closed', u'psVoltage': 0.666511199994558, u'percentComplete': 0, u'psCurrent': 0.25451676346939756, u'sixtyKTemp': 60.584027039785475, u'magnetVoltage': 0.5437243039201605, u'baseTemp': 0.05152568171322575}\n",
        "{u'_id': ObjectId('54bc19aaa114605ac98f2a2a'), u'threeKTemp': 2.915397874129209, u'timeStamp': 1421595482, u'currentJob': u'None', u'switchState': u'Closed', u'psVoltage': 0.2820178057889401, u'percentComplete': 0, u'psCurrent': 0.165614701931872, u'sixtyKTemp': 60.68819719113712, u'magnetVoltage': 0.8897200496110802, u'baseTemp': 0.08948220501415816}\n",
        "{u'_id': ObjectId('54bc19aba114605ac98f2a2b'), u'threeKTemp': 3.3558707830207437, u'timeStamp': 1421595483, u'currentJob': u'None', u'switchState': u'Closed', u'psVoltage': 0.7712093932741936, u'percentComplete': 0, u'psCurrent': 0.005846739932247047, u'sixtyKTemp': 60.25408941206971, u'magnetVoltage': 0.4059810059329555, u'baseTemp': 0.09543706547434463}\n",
        "{u'_id': ObjectId('54bc19aca114605ac98f2a2c'), u'threeKTemp': 3.1675825324387334, u'timeStamp': 1421595484, u'currentJob': u'None', u'switchState': u'Closed', u'psVoltage': 0.05018040964652126, u'percentComplete': 0, u'psCurrent': 0.40661262701085477, u'sixtyKTemp': 60.91432916957572, u'magnetVoltage': 0.04182909790242517, u'baseTemp': 0.07468343080965008}\n",
        "{u'_id': ObjectId('54bc19ada114605ac98f2a2d'), u'threeKTemp': 2.8802728714656585, u'timeStamp': 1421595485, u'currentJob': u'None', u'switchState': u'Closed', u'psVoltage': 0.5450128826843228, u'percentComplete': 0, u'psCurrent': 0.48244392729657304, u'sixtyKTemp': 60.922312448856594, u'magnetVoltage': 0.8689662562741678, u'baseTemp': 0.057993962054191064}\n",
        "{u'_id': ObjectId('54bc19aea114605ac98f2a2e'), u'threeKTemp': 3.2274690467553384, u'timeStamp': 1421595486, u'currentJob': u'None', u'switchState': u'Closed', u'psVoltage': 0.3398911850462889, u'percentComplete': 0, u'psCurrent': 0.0869063429277167, u'sixtyKTemp': 60.618505765305, u'magnetVoltage': 0.9761521216113542, u'baseTemp': 0.08653661312098998}\n",
        "{u'_id': ObjectId('54bc19afa114605ac98f2a2f'), u'threeKTemp': 2.9418455296351955, u'timeStamp': 1421595487, u'currentJob': u'None', u'switchState': u'Closed', u'psVoltage': 0.8218675039555559, u'percentComplete': 0, u'psCurrent': 0.12384335670900459, u'sixtyKTemp': 60.90774041980832, u'magnetVoltage': 0.3848391297357302, u'baseTemp': 0.0518050120993147}\n",
        "{u'_id': ObjectId('54bc19b0a114605ac98f2a30'), u'threeKTemp': 3.0476727721146673, u'timeStamp': 1421595488, u'currentJob': u'None', u'switchState': u'Closed', u'psVoltage': 0.27343183319237097, u'percentComplete': 0, u'psCurrent': 0.4115048749480661, u'sixtyKTemp': 60.13086044552751, u'magnetVoltage': 0.04799499746764224, u'baseTemp': 0.09931531054101332}\n",
        "{u'_id': ObjectId('54bc19b1a114605ac98f2a31'), u'threeKTemp': 3.4649313744861536, u'timeStamp': 1421595489, u'currentJob': u'None', u'switchState': u'Closed', u'psVoltage': 0.3412067074303542, u'percentComplete': 0, u'psCurrent': 0.5937104273520993, u'sixtyKTemp': 60.03432148453742, u'magnetVoltage': 0.5379034291501069, u'baseTemp': 0.05233560290233802}\n",
        "{u'_id': ObjectId('54bc19b2a114605ac98f2a32'), u'threeKTemp': 3.1221030563816723, u'timeStamp': 1421595490, u'currentJob': u'None', u'switchState': u'Closed', u'psVoltage': 0.42828093778774956, u'percentComplete': 0, u'psCurrent': 0.7668806251129034, u'sixtyKTemp': 60.615910944549086, u'magnetVoltage': 0.6878619927062968, u'baseTemp': 0.08696123970094799}\n",
        "{u'_id': ObjectId('54bc19b3a114605ac98f2a33'), u'threeKTemp': 3.4190754958560126, u'timeStamp': 1421595491, u'currentJob': u'None', u'switchState': u'Closed', u'psVoltage': 0.9762857407155167, u'percentComplete': 0, u'psCurrent': 0.9611076450342975, u'sixtyKTemp': 60.52507816924198, u'magnetVoltage': 0.6643547422654921, u'baseTemp': 0.06710591361200532}\n",
        "{u'_id': ObjectId('54bc19b4a114605ac98f2a34'), u'threeKTemp': 3.46217550835828, u'timeStamp': 1421595492, u'currentJob': u'None', u'switchState': u'Closed', u'psVoltage': 0.9979658376282126, u'percentComplete': 0, u'psCurrent': 0.6656577696469946, u'sixtyKTemp': 60.625352703500944, u'magnetVoltage': 0.4323443705997331, u'baseTemp': 0.09189454465555345}\n",
        "{u'_id': ObjectId('54bc19b5a114605ac98f2a35'), u'threeKTemp': 3.0671780064935015, u'timeStamp': 1421595493, u'currentJob': u'None', u'switchState': u'Closed', u'psVoltage': 0.5726398552516784, u'percentComplete': 0, u'psCurrent': 0.15807793699204287, u'sixtyKTemp': 60.751851620906535, u'magnetVoltage': 0.9437115469335949, u'baseTemp': 0.058812646762728654}\n",
        "{u'_id': ObjectId('54bc19b6a114605ac98f2a36'), u'threeKTemp': 3.1963860525732226, u'timeStamp': 1421595494, u'currentJob': u'None', u'switchState': u'Closed', u'psVoltage': 0.3375746620662695, u'percentComplete': 0, u'psCurrent': 0.645554248024835, u'sixtyKTemp': 60.03392688655496, u'magnetVoltage': 0.04195247604602559, u'baseTemp': 0.08407404748289476}\n",
        "{u'_id': ObjectId('54bc19b7a114605ac98f2a37'), u'threeKTemp': 2.8287537137581835, u'timeStamp': 1421595495, u'currentJob': u'None', u'switchState': u'Closed', u'psVoltage': 0.6672846460861945, u'percentComplete': 0, u'psCurrent': 0.5497501211833925, u'sixtyKTemp': 60.645920791655975, u'magnetVoltage': 0.7285179812476285, u'baseTemp': 0.07858158350145372}\n",
        "{u'_id': ObjectId('54bc19b8a114605ac98f2a38'), u'threeKTemp': 3.237228581394922, u'timeStamp': 1421595496, u'currentJob': u'None', u'switchState': u'Closed', u'psVoltage': 0.8143133639045803, u'percentComplete': 0, u'psCurrent': 0.4151373031371921, u'sixtyKTemp': 60.35693760393976, u'magnetVoltage': 0.7299486233674269, u'baseTemp': 0.09659138684265674}\n",
        "{u'_id': ObjectId('54bc19b9a114605ac98f2a39'), u'threeKTemp': 2.9776529873315396, u'timeStamp': 1421595497, u'currentJob': u'None', u'switchState': u'Closed', u'psVoltage': 0.9535094024890274, u'percentComplete': 0, u'psCurrent': 0.026625255253696523, u'sixtyKTemp': 60.253303124784686, u'magnetVoltage': 0.29175987991808394, u'baseTemp': 0.06391175852346782}\n",
        "{u'_id': ObjectId('54bc19baa114605ac98f2a3a'), u'threeKTemp': 3.3191835023633587, u'timeStamp': 1421595498, u'currentJob': u'None', u'switchState': u'Closed', u'psVoltage': 0.009281177196256318, u'percentComplete': 0, u'psCurrent': 0.7659848317117811, u'sixtyKTemp': 60.31809789903783, u'magnetVoltage': 0.455684659247959, u'baseTemp': 0.06856631939348473}\n",
        "{u'_id': ObjectId('54bc19bba114605ac98f2a3b'), u'threeKTemp': 3.3395669221709596, u'timeStamp': 1421595499, u'currentJob': u'None', u'switchState': u'Closed', u'psVoltage': 0.4327540085468037, u'percentComplete': 0, u'psCurrent': 0.44262508419618163, u'sixtyKTemp': 60.538154193734535, u'magnetVoltage': 0.22571303703776213, u'baseTemp': 0.07390012717849624}\n",
        "{u'_id': ObjectId('54bc19bca114605ac98f2a3c'), u'threeKTemp': 3.3214093060525562, u'timeStamp': 1421595500, u'currentJob': u'None', u'switchState': u'Closed', u'psVoltage': 0.5520278484490019, u'percentComplete': 0, u'psCurrent': 0.7950324151371922, u'sixtyKTemp': 60.24689839377293, u'magnetVoltage': 0.7520994256604298, u'baseTemp': 0.07290664743970456}\n"
       ]
      }
     ],
     "prompt_number": 14
    },
    {
     "cell_type": "code",
     "collapsed": false,
     "input": [
      "for i in range(0,10):\n",
      "    collection.insert(rand_data())\n",
      "    time.sleep(1)"
     ],
     "language": "python",
     "metadata": {},
     "outputs": [
      {
       "ename": "KeyboardInterrupt",
       "evalue": "",
       "output_type": "pyerr",
       "traceback": [
        "\u001b[0;31m---------------------------------------------------------------------------\u001b[0m\n\u001b[0;31mKeyboardInterrupt\u001b[0m                         Traceback (most recent call last)",
        "\u001b[0;32m<ipython-input-13-a7e988c8aa86>\u001b[0m in \u001b[0;36m<module>\u001b[0;34m()\u001b[0m\n\u001b[1;32m      1\u001b[0m \u001b[0;32mfor\u001b[0m \u001b[0mi\u001b[0m \u001b[0;32min\u001b[0m \u001b[0mrange\u001b[0m\u001b[0;34m(\u001b[0m\u001b[0;36m0\u001b[0m\u001b[0;34m,\u001b[0m\u001b[0;36m1000\u001b[0m\u001b[0;34m)\u001b[0m\u001b[0;34m:\u001b[0m\u001b[0;34m\u001b[0m\u001b[0m\n\u001b[1;32m      2\u001b[0m     \u001b[0mcollection\u001b[0m\u001b[0;34m.\u001b[0m\u001b[0minsert\u001b[0m\u001b[0;34m(\u001b[0m\u001b[0mrand_data\u001b[0m\u001b[0;34m(\u001b[0m\u001b[0;34m)\u001b[0m\u001b[0;34m)\u001b[0m\u001b[0;34m\u001b[0m\u001b[0m\n\u001b[0;32m----> 3\u001b[0;31m     \u001b[0mtime\u001b[0m\u001b[0;34m.\u001b[0m\u001b[0msleep\u001b[0m\u001b[0;34m(\u001b[0m\u001b[0;36m1\u001b[0m\u001b[0;34m)\u001b[0m\u001b[0;34m\u001b[0m\u001b[0m\n\u001b[0m",
        "\u001b[0;31mKeyboardInterrupt\u001b[0m: "
       ]
      }
     ],
     "prompt_number": 13
    },
    {
     "cell_type": "heading",
     "level": 2,
     "metadata": {},
     "source": [
      "client = MongoClient('mongodb://128.72.203./')"
     ]
    }
   ],
   "metadata": {}
  }
 ]
}