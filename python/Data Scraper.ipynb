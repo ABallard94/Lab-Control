{
 "cells": [
  {
   "cell_type": "markdown",
   "metadata": {},
   "source": [
    "This Notebook connects to a mongodb database, connects to the Lakeshore temperature monitors that we are using, creates a data object by scanning these instruments, and inserts them into the MongoDB database."
   ]
  },
  {
   "cell_type": "code",
   "execution_count": 1,
   "metadata": {
    "collapsed": false
   },
   "outputs": [],
   "source": [
    "import time\n",
    "import numpy as np\n",
    "from datetime import datetime\n",
    "from calendar import timegm\n",
    "from pymongo import MongoClient, ASCENDING, DESCENDING\n",
    "import pyvisa\n",
    "import serial"
   ]
  },
  {
   "cell_type": "markdown",
   "metadata": {},
   "source": [
    "# Setup and configure Mongo"
   ]
  },
  {
   "cell_type": "code",
   "execution_count": 2,
   "metadata": {
    "collapsed": false
   },
   "outputs": [],
   "source": [
    "def dbConnect():\n",
    "    client = MongoClient('mongodb://localhost/')\n",
    "    db = client.data\n",
    "    collection = db.adr2datas\n",
    "    db.collection_names()\n",
    "    infocollection = db.adr2infos\n",
    "    return collection, infocollection\n",
    "collection,infocollection = dbConnect()"
   ]
  },
  {
   "cell_type": "code",
   "execution_count": 3,
   "metadata": {
    "collapsed": false
   },
   "outputs": [
    {
     "data": {
      "text/plain": [
       "u'adr2datas'"
      ]
     },
     "execution_count": 3,
     "metadata": {},
     "output_type": "execute_result"
    }
   ],
   "source": [
    "collection.name"
   ]
  },
  {
   "cell_type": "code",
   "execution_count": 4,
   "metadata": {
    "collapsed": false
   },
   "outputs": [
    {
     "data": {
      "text/plain": [
       "u'data.adr2infos'"
      ]
     },
     "execution_count": 4,
     "metadata": {},
     "output_type": "execute_result"
    }
   ],
   "source": [
    "infocollection.full_name"
   ]
  },
  {
   "cell_type": "markdown",
   "metadata": {},
   "source": [
    "# Add Single Data file to DB"
   ]
  },
  {
   "cell_type": "markdown",
   "metadata": {},
   "source": [
    "### Returns dict with random data"
   ]
  },
  {
   "cell_type": "code",
   "execution_count": 17,
   "metadata": {
    "collapsed": false
   },
   "outputs": [
    {
     "data": {
      "text/plain": [
       "{'baseTemp': 0.087650353245358,\n",
       " 'currentJob': 'None',\n",
       " 'magnetVoltage': 0.4452160265629367,\n",
       " 'percentComplete': 0,\n",
       " 'psCurrent': 0.9102815720770526,\n",
       " 'psVoltage': 0.2778003531985641,\n",
       " 'sixtyKTemp': 60.429288673929356,\n",
       " 'switchState': 'Closed',\n",
       " 'threeKTemp': 3.2061069052552913,\n",
       " 'timeStamp': 1420547121}"
      ]
     },
     "execution_count": 17,
     "metadata": {},
     "output_type": "execute_result"
    }
   ],
   "source": [
    "def rand_data():\n",
    "    post = {\n",
    "        \"timeStamp\": timegm(datetime.now().timetuple()),\n",
    "        \"baseTemp\": .05*np.random.rand()+.05,\n",
    "        \"threeKTemp\": 0.7*np.random.rand()+2.8,\n",
    "        \"sixtyKTemp\": np.random.rand()+60,\n",
    "        \"magnetVoltage\": np.random.rand(),\n",
    "        \"psVoltage\": np.random.rand(),\n",
    "        \"psCurrent\": np.random.rand(),\n",
    "        \"currentJob\": \"None\",\n",
    "        \"percentComplete\": 0,\n",
    "        \"switchState\": \"Closed\"\n",
    "    }\n",
    "    return post\n",
    "rand_data()"
   ]
  },
  {
   "cell_type": "code",
   "execution_count": 4,
   "metadata": {
    "collapsed": true
   },
   "outputs": [
    {
     "name": "stdout",
     "output_type": "stream",
     "text": [
      "{u'_id': ObjectId('5579f0e6c860b137b03e2e39'), u'threeKTemp': 288.449, u'timeStamp': 1434040486, u'oneKTemp': 251.654, u'currentJob': u'None', u'switchState': u'Closed', u'psVoltage': 0, u'percentComplete': 0, u'psCurrent': 0, u'sixtyKTemp': 258.546, u'magnetVoltage': -0.00053, u'baseTemp': 0.0}\n",
      "{u'_id': ObjectId('5579f0ecc860b137b03e2e3a'), u'threeKTemp': 288.421, u'timeStamp': 1434040492, u'oneKTemp': 251.644, u'currentJob': u'None', u'switchState': u'Closed', u'psVoltage': 0, u'percentComplete': 0, u'psCurrent': 0, u'sixtyKTemp': 258.431, u'magnetVoltage': -0.00053, u'baseTemp': 0.0}\n",
      "{u'_id': ObjectId('5579f0f1c860b137b03e2e3b'), u'threeKTemp': 288.397, u'timeStamp': 1434040497, u'oneKTemp': 251.945, u'currentJob': u'None', u'switchState': u'Closed', u'psVoltage': 0, u'percentComplete': 0, u'psCurrent': 0, u'sixtyKTemp': 258.328, u'magnetVoltage': -0.00052, u'baseTemp': 0.0}\n",
      "{u'_id': ObjectId('5579f0f6c860b137b03e2e3c'), u'threeKTemp': 288.372, u'timeStamp': 1434040502, u'oneKTemp': 251.908, u'currentJob': u'None', u'switchState': u'Closed', u'psVoltage': 0, u'percentComplete': 0, u'psCurrent': 0, u'sixtyKTemp': 258.224, u'magnetVoltage': -0.00053, u'baseTemp': 0.0}\n",
      "{u'_id': ObjectId('5579f0fbc860b137b03e2e3d'), u'threeKTemp': 288.348, u'timeStamp': 1434040507, u'oneKTemp': 251.816, u'currentJob': u'None', u'switchState': u'Closed', u'psVoltage': 0, u'percentComplete': 0, u'psCurrent': 0, u'sixtyKTemp': 258.12, u'magnetVoltage': -0.00053, u'baseTemp': 0.0}\n",
      "{u'_id': ObjectId('5579f100c860b137b03e2e3e'), u'threeKTemp': 288.323, u'timeStamp': 1434040512, u'oneKTemp': 251.648, u'currentJob': u'None', u'switchState': u'Closed', u'psVoltage': 0, u'percentComplete': 0, u'psCurrent': 0, u'sixtyKTemp': 258.018, u'magnetVoltage': -0.00053, u'baseTemp': 0.0}\n",
      "{u'_id': ObjectId('5579f105c860b137b03e2e3f'), u'threeKTemp': 288.299, u'timeStamp': 1434040517, u'oneKTemp': 251.969, u'currentJob': u'None', u'switchState': u'Closed', u'psVoltage': 0, u'percentComplete': 0, u'psCurrent': 0, u'sixtyKTemp': 257.914, u'magnetVoltage': -0.00053, u'baseTemp': 0.0}\n",
      "{u'_id': ObjectId('5579f10ac860b137b03e2e40'), u'threeKTemp': 288.274, u'timeStamp': 1434040522, u'oneKTemp': 251.363, u'currentJob': u'None', u'switchState': u'Closed', u'psVoltage': 0, u'percentComplete': 0, u'psCurrent': 0, u'sixtyKTemp': 257.812, u'magnetVoltage': -0.00054, u'baseTemp': 0.0}\n",
      "{u'_id': ObjectId('5579f10fc860b137b03e2e41'), u'threeKTemp': 288.25, u'timeStamp': 1434040527, u'oneKTemp': 251.714, u'currentJob': u'None', u'switchState': u'Closed', u'psVoltage': 0, u'percentComplete': 0, u'psCurrent': 0, u'sixtyKTemp': 257.709, u'magnetVoltage': -0.00054, u'baseTemp': 0.0}\n",
      "{u'_id': ObjectId('5579f114c860b137b03e2e42'), u'threeKTemp': 288.225, u'timeStamp': 1434040532, u'oneKTemp': 251.982, u'currentJob': u'None', u'switchState': u'Closed', u'psVoltage': 0, u'percentComplete': 0, u'psCurrent': 0, u'sixtyKTemp': 257.607, u'magnetVoltage': -0.00054, u'baseTemp': 0.0}\n"
     ]
    }
   ],
   "source": [
    "for data in collection.find().limit(10):\n",
    "    print(data)"
   ]
  },
  {
   "cell_type": "markdown",
   "metadata": {},
   "source": [
    "## Get Data from Instruments"
   ]
  },
  {
   "cell_type": "markdown",
   "metadata": {},
   "source": [
    "### Create Instrument Objects"
   ]
  },
  {
   "cell_type": "code",
   "execution_count": 3,
   "metadata": {
    "collapsed": false
   },
   "outputs": [],
   "source": [
    "def connectInstruments():\n",
    "    rm = pyvisa.ResourceManager()\n",
    "    rm.list_resources()\n",
    "    inst1 = rm.open_resource('GPIB0::1::INSTR', read_termination = '\\x00')\n",
    "    inst2 = rm.open_resource('GPIB0::2::INSTR', read_termination = '\\x00')\n",
    "    inst3 = rm.open_resource('GPIB0::6::INSTR', read_termination = '\\x00')\n",
    "    return [inst1,inst2,inst3]"
   ]
  },
  {
   "cell_type": "code",
   "execution_count": 22,
   "metadata": {
    "collapsed": false
   },
   "outputs": [
    {
     "data": {
      "text/plain": [
       "u'LSCI,MODEL340,341911,042304'"
      ]
     },
     "execution_count": 22,
     "metadata": {},
     "output_type": "execute_result"
    }
   ],
   "source": [
    "x = connectInstruments()\n",
    "x[0].ask('*IDN?')"
   ]
  },
  {
   "cell_type": "code",
   "execution_count": 23,
   "metadata": {
    "collapsed": false
   },
   "outputs": [
    {
     "data": {
      "text/plain": [
       "u'ascii'"
      ]
     },
     "execution_count": 23,
     "metadata": {},
     "output_type": "execute_result"
    }
   ],
   "source": [
    "inst[0].encoding "
   ]
  },
  {
   "cell_type": "markdown",
   "metadata": {},
   "source": [
    "### Get Data Object"
   ]
  },
  {
   "cell_type": "code",
   "execution_count": 17,
   "metadata": {
    "collapsed": false,
    "scrolled": true
   },
   "outputs": [
    {
     "data": {
      "text/plain": [
       "{'baseTemp': 0.0,\n",
       " 'currentJob': 'None',\n",
       " 'magnetVoltage': -0.00013,\n",
       " 'oneKTemp': 3.4709,\n",
       " 'percentComplete': 0,\n",
       " 'psCurrent': 0,\n",
       " 'psVoltage': 0,\n",
       " 'sixtyKTemp': 52.002,\n",
       " 'switchState': 'Closed',\n",
       " 'threeKTemp': 3.5476,\n",
       " 'timeStamp': 1435584042}"
      ]
     },
     "execution_count": 17,
     "metadata": {},
     "output_type": "execute_result"
    }
   ],
   "source": [
    "# inst = connectInstruments()\n",
    "# for i in inst:\n",
    "#     i.encoding = 'utf-8'\n",
    "#     print(i.encoding)\n",
    "    \n",
    "def get_data(inst):\n",
    "    post = {\n",
    "        \"timeStamp\": timegm(datetime.now().timetuple()),\n",
    "        \"baseTemp\": float(inst[1].ask('KRDG? B')),\n",
    "        \"oneKTemp\": float(inst[0].ask('KRDG? C')),\n",
    "        \"threeKTemp\": float(inst[0].ask('KRDG? A')),\n",
    "        \"sixtyKTemp\": float(inst[0].ask('KRDG? B')),\n",
    "        \"magnetVoltage\": float(inst[0].ask('SRDG? D')),\n",
    "        \"psVoltage\": 0,\n",
    "        \"psCurrent\": 0,\n",
    "        \"currentJob\": \"None\",\n",
    "        \"percentComplete\": 0,\n",
    "        \"switchState\": \"Closed\"\n",
    "    }\n",
    "    return post\n",
    "get_data(connectInstruments())"
   ]
  },
  {
   "cell_type": "code",
   "execution_count": 19,
   "metadata": {
    "collapsed": false
   },
   "outputs": [
    {
     "data": {
      "text/plain": [
       "0.0"
      ]
     },
     "execution_count": 19,
     "metadata": {},
     "output_type": "execute_result"
    }
   ],
   "source": [
    "float(inst[1].ask('KRDG? B'))*1000"
   ]
  },
  {
   "cell_type": "code",
   "execution_count": 67,
   "metadata": {
    "collapsed": false
   },
   "outputs": [
    {
     "data": {
      "text/plain": [
       "'\\xab\\xb0\\xb7\\xb8\\xae\\xb1\\xb3\\xb6\\xc5\\xab\\xb0'"
      ]
     },
     "execution_count": 67,
     "metadata": {},
     "output_type": "execute_result"
    }
   ],
   "source": [
    "'abb0b7b8aeb1b3b6c5abb0'.decode(\"hex\")"
   ]
  },
  {
   "cell_type": "markdown",
   "metadata": {},
   "source": [
    "###Validate Data, Determine Fridge Status"
   ]
  },
  {
   "cell_type": "code",
   "execution_count": null,
   "metadata": {
    "collapsed": true
   },
   "outputs": [],
   "source": [
    "def fridgeStatus(data, infocollection):\n",
    "    if (data['sixtyKTemp'] >= 289.9):\n",
    "        infocollection."
   ]
  },
  {
   "cell_type": "markdown",
   "metadata": {},
   "source": [
    "### Update every 5 seconds"
   ]
  },
  {
   "cell_type": "code",
   "execution_count": null,
   "metadata": {
    "collapsed": false
   },
   "outputs": [],
   "source": [
    "inst = connectInstruments()\n",
    "while True:\n",
    "    try:\n",
    "        temp = get_data(inst)\n",
    "        \n",
    "    except UnicodeDecodeError:\n",
    "        print(\"Read error at \" + datetime.now().strftime('%H:%M:%S'))\n",
    "        inst = connectInstruments()\n",
    "        \n",
    "    else:\n",
    "        if (temp['sixtyKTemp'] <= 300):\n",
    "            try:\n",
    "                collection.insert(temp)\n",
    "            except:\n",
    "                print(\"Database error at \" + datetime.now().strftime('%H:%M:%S'))\n",
    "                \n",
    "    time.sleep(5)"
   ]
  },
  {
   "cell_type": "code",
   "execution_count": null,
   "metadata": {
    "collapsed": false,
    "scrolled": true
   },
   "outputs": [],
   "source": [
    "while True:\n",
    "    temp = get_data()\n",
    "    if (temp['sixtyKTemp'] <= 290):\n",
    "            collection.insert(temp)\n",
    "    time.sleep(5)"
   ]
  },
  {
   "cell_type": "code",
   "execution_count": 10,
   "metadata": {
    "collapsed": false
   },
   "outputs": [
    {
     "data": {
      "text/plain": [
       "296.278"
      ]
     },
     "execution_count": 10,
     "metadata": {},
     "output_type": "execute_result"
    }
   ],
   "source": [
    "temp['sixtyKTemp']"
   ]
  },
  {
   "cell_type": "markdown",
   "metadata": {},
   "source": [
    "##Log File"
   ]
  },
  {
   "cell_type": "code",
   "execution_count": null,
   "metadata": {
    "collapsed": true
   },
   "outputs": [],
   "source": [
    "logFileName = 'log.txt'"
   ]
  },
  {
   "cell_type": "markdown",
   "metadata": {
    "collapsed": false
   },
   "source": [
    "##Scrape Data + Magnet Control"
   ]
  },
  {
   "cell_type": "code",
   "execution_count": null,
   "metadata": {
    "collapsed": true
   },
   "outputs": [],
   "source": [
    "while True:\n",
    "    try:\n",
    "        temp = get_data(inst)\n",
    "        \n",
    "    except UnicodeDecodeError:\n",
    "        print(\"Read error at \" + datetime.now().strftime('%H:%M:%S'))\n",
    "        inst = connectInstruments()\n",
    "        \n",
    "    else:\n",
    "        if (temp['sixtyKTemp'] <= 290):\n",
    "            try:\n",
    "                collection.insert(temp)\n",
    "            except:\n",
    "                print(\"Database error at \" + datetime.now().strftime('%H:%M:%S'))\n",
    "    \n",
    "                \n",
    "    time.sleep(5)"
   ]
  }
 ],
 "metadata": {
  "kernelspec": {
   "display_name": "Python 2",
   "language": "python",
   "name": "python2"
  }
 },
 "nbformat": 4,
 "nbformat_minor": 0
}
