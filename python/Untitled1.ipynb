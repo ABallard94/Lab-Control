{
 "cells": [
  {
   "cell_type": "code",
   "execution_count": 1,
   "metadata": {
    "collapsed": true
   },
   "outputs": [],
   "source": [
    "import json"
   ]
  },
  {
   "cell_type": "code",
   "execution_count": 4,
   "metadata": {
    "collapsed": false
   },
   "outputs": [
    {
     "data": {
      "text/plain": [
       "{u'defaultSettings': {u'logFileName': u'ADR2Log.txt',\n",
       "  u'mongoClient': u'mongodb://localhost/'},\n",
       " u'instruments': [{u'address': u'GPIB0::1::INSTR', u'name': u'Lakeshore 332'},\n",
       "  {u'address': u'GPIB0::2::INSTR', u'name': u'Lakeshore 340'},\n",
       "  {u'address': u'GPIB0::6::INSTR', u'name': u'Agilent 6641A'}],\n",
       " u'sensors': [{u'command': u'KRDG? B',\n",
       "   u'instr': u'Lakeshore 332',\n",
       "   u'name': u'baseTemp'},\n",
       "  {u'command': u'KRDG? A', u'instr': u'Lakeshore 332', u'name': u'oneKTemp'},\n",
       "  {u'command': u'KRDG? A', u'instr': u'Lakeshore 340', u'name': u'threeKTemp'},\n",
       "  {u'command': u'KRDG? B', u'instr': u'Lakeshore 340', u'name': u'sixtyKTemp'},\n",
       "  {u'command': u'MEAS:VOLT?',\n",
       "   u'instr': u'Agilent 6641A',\n",
       "   u'name': u'psVoltage'},\n",
       "  {u'command': u'MEAS:CURR?',\n",
       "   u'instr': u'Agilent 6641A',\n",
       "   u'name': u'psCurrent'},\n",
       "  {u'command': u'SRDG? D',\n",
       "   u'instr': u'Lakeshore 340',\n",
       "   u'name': u'magnetVoltage'}]}"
      ]
     },
     "execution_count": 4,
     "metadata": {},
     "output_type": "execute_result"
    }
   ],
   "source": [
    "x = json.load(open('settings.json'))\n",
    "x"
   ]
  },
  {
   "cell_type": "code",
   "execution_count": null,
   "metadata": {
    "collapsed": true
   },
   "outputs": [],
   "source": []
  }
 ],
 "metadata": {
  "kernelspec": {
   "display_name": "Python 2",
   "language": "python",
   "name": "python2"
  },
  "language_info": {
   "codemirror_mode": {
    "name": "ipython",
    "version": 2
   },
   "file_extension": ".py",
   "mimetype": "text/x-python",
   "name": "python",
   "nbconvert_exporter": "python",
   "pygments_lexer": "ipython2",
   "version": "2.7.10"
  }
 },
 "nbformat": 4,
 "nbformat_minor": 0
}
