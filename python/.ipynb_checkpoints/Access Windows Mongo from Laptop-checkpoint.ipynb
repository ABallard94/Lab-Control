{
 "metadata": {
  "name": "",
  "signature": "sha256:0393d227ad7da6cd313f8bd02915738b2f9ec0f9bbc4a474ae8559f0d8883bb4"
 },
 "nbformat": 3,
 "nbformat_minor": 0,
 "worksheets": []
}