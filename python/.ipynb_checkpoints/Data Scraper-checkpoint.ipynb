{
 "metadata": {
  "name": "",
  "signature": "sha256:872315f162f7a39771f2890afcf403153ddc308ecf5edfead58cadc8f250e846"
 },
 "nbformat": 3,
 "nbformat_minor": 0,
 "worksheets": [
  {
   "cells": [
    {
     "cell_type": "code",
     "collapsed": false,
     "input": [
      "import time\n",
      "import numpy as np\n",
      "from datetime import datetime\n",
      "from calendar import timegm\n",
      "from pymongo import MongoClient, ASCENDING, DESCENDING"
     ],
     "language": "python",
     "metadata": {},
     "outputs": [],
     "prompt_number": 20
    },
    {
     "cell_type": "heading",
     "level": 1,
     "metadata": {},
     "source": [
      "Setup and configure Mongo"
     ]
    },
    {
     "cell_type": "code",
     "collapsed": false,
     "input": [
      "client = MongoClient('mongodb://localhost/')\n",
      "db = client.adr1\n",
      "collection = db.adr1datas\n",
      "db.collection_names()"
     ],
     "language": "python",
     "metadata": {},
     "outputs": [
      {
       "metadata": {},
       "output_type": "pyout",
       "prompt_number": 85,
       "text": [
        "[u'data', u'system.indexes']"
       ]
      }
     ],
     "prompt_number": 85
    },
    {
     "cell_type": "code",
     "collapsed": false,
     "input": [
      "jobsclient = MongoClient('mongodb://localhost/jobs1')\n",
      "jobsdb = client.jobs1\n",
      "jobs = jobsdb.adr1jobs\n",
      "jobs.count()\n"
     ],
     "language": "python",
     "metadata": {},
     "outputs": [
      {
       "metadata": {},
       "output_type": "pyout",
       "prompt_number": 61,
       "text": [
        "0"
       ]
      }
     ],
     "prompt_number": 61
    },
    {
     "cell_type": "code",
     "collapsed": false,
     "input": [
      "for job in jobs.find():\n",
      "    print(job)"
     ],
     "language": "python",
     "metadata": {},
     "outputs": [
      {
       "output_type": "stream",
       "stream": "stdout",
       "text": [
        "{u'finishTime': datetime.datetime(2014, 12, 29, 12, 30), u'percentDone': 0, u'startTime': datetime.datetime(2014, 12, 29, 12, 0), u'completed': False, u'dateString': u'Mon Dec 29 2014', u'__v': 0, u'timeString': u'07:00:00 GMT-0500 (EST)', u'scheduledOn': datetime.datetime(2014, 12, 27, 18, 28, 41, 216000), u'_id': ObjectId('549efa5c58f48900008ebc7f'), u'type': u'Soak'}\n",
        "{u'finishTime': datetime.datetime(2014, 12, 29, 13, 30), u'percentDone': 0, u'startTime': datetime.datetime(2014, 12, 29, 12, 30), u'completed': False, u'dateString': u'Mon Dec 29 2014', u'__v': 0, u'timeString': u'07:30:00 GMT-0500 (EST)', u'scheduledOn': datetime.datetime(2014, 12, 27, 18, 28, 41, 216000), u'_id': ObjectId('549efa5c58f48900008ebc80'), u'type': u'Magdown'}\n",
        "{u'finishTime': datetime.datetime(2014, 12, 29, 12, 0), u'percentDone': 0, u'startTime': datetime.datetime(2014, 12, 29, 11, 0), u'completed': False, u'dateString': u'Mon Dec 29 2014', u'__v': 0, u'timeString': u'06:00:00 GMT-0500 (EST)', u'scheduledOn': datetime.datetime(2014, 12, 27, 18, 28, 41, 217000), u'_id': ObjectId('549efa5c58f48900008ebc7e'), u'type': u'Magup'}\n"
       ]
      }
     ],
     "prompt_number": 70
    },
    {
     "cell_type": "heading",
     "level": 1,
     "metadata": {},
     "source": [
      "Add Single Data file to DB"
     ]
    },
    {
     "cell_type": "heading",
     "level": 3,
     "metadata": {},
     "source": [
      "Returns dict with random data"
     ]
    },
    {
     "cell_type": "code",
     "collapsed": false,
     "input": [
      "def rand_data():\n",
      "    post = {\n",
      "        \"timeStamp\": timegm(datetime.now().timetuple()),\n",
      "        \"baseTemp\": .05*np.random.rand()+.05,\n",
      "        \"threeKTemp\": 0.7*np.random.rand()+2.8,\n",
      "        \"sixtyKTemp\": np.random.rand()+60,\n",
      "        \"magnetVoltage\": np.random.rand(),\n",
      "        \"psVoltage\": np.random.rand(),\n",
      "        \"psCurrent\": np.random.rand(),\n",
      "        \"currentJob\": \"None\",\n",
      "        \"percentComplete\": 0,\n",
      "        \"switchState\": \"Closed\"\n",
      "    }\n",
      "    return post"
     ],
     "language": "python",
     "metadata": {},
     "outputs": [],
     "prompt_number": 54
    },
    {
     "cell_type": "code",
     "collapsed": false,
     "input": [
      "collection.insert(rand_data())"
     ],
     "language": "python",
     "metadata": {},
     "outputs": [
      {
       "metadata": {},
       "output_type": "pyout",
       "prompt_number": 90,
       "text": [
        "ObjectId('549f11a3a114603bed910897')"
       ]
      }
     ],
     "prompt_number": 90
    },
    {
     "cell_type": "code",
     "collapsed": false,
     "input": [
      "for data in collection.find():\n",
      "    print(data)"
     ],
     "language": "python",
     "metadata": {},
     "outputs": [
      {
       "output_type": "stream",
       "stream": "stdout",
       "text": [
        "{u'_id': ObjectId('549ee83da114603bed91088d'), u'threeKTemp': 3.190228919658162, u'timeStamp': 1419682285, u'currentJob': u'None', u'switchState': u'Closed', u'psVoltage': 0.426399715776274, u'percentComplete': 0, u'psCurrent': 0.04100089173604926, u'sixtyKTemp': 60.34784581191777, u'magnetVoltage': 0.8879123083938467, u'baseTemp': 0.09736483088375385}\n",
        "{u'_id': ObjectId('549ee9baa114603bed91088e'), u'threeKTemp': 3.2281660685656988, u'timeStamp': 1419682666, u'currentJob': u'None', u'switchState': u'Closed', u'psVoltage': 0.04563126584654442, u'percentComplete': 0, u'psCurrent': 0.4382873210456376, u'sixtyKTemp': 60.4190528816589, u'magnetVoltage': 0.07792853507182973, u'baseTemp': 0.08725431214643428}\n",
        "{u'_id': ObjectId('549eefbca114603bed91088f'), u'threeKTemp': 3.3222619860196727, u'timeStamp': 1419684204, u'currentJob': u'None', u'switchState': u'Closed', u'psVoltage': 0.1911239669963104, u'percentComplete': 0, u'psCurrent': 0.11379993354426143, u'sixtyKTemp': 60.605625176165425, u'magnetVoltage': 0.6391871362720933, u'baseTemp': 0.06054670343798809}\n",
        "{u'_id': ObjectId('549ef746a114603bed910890'), u'threeKTemp': 3.412102000729898, u'timeStamp': 1419686134, u'currentJob': u'None', u'switchState': u'Closed', u'psVoltage': 0.38498653126809124, u'percentComplete': 0, u'psCurrent': 0.5253561748109394, u'sixtyKTemp': 60.84190484846679, u'magnetVoltage': 0.90721954794803, u'baseTemp': 0.09170888818483967}\n"
       ]
      }
     ],
     "prompt_number": 56
    },
    {
     "cell_type": "code",
     "collapsed": false,
     "input": [
      "client.database_names()"
     ],
     "language": "python",
     "metadata": {},
     "outputs": [
      {
       "metadata": {},
       "output_type": "pyout",
       "prompt_number": 57,
       "text": [
        "[u'adr1',\n",
        " u'jobs',\n",
        " u'jobs1',\n",
        " u'jobs2',\n",
        " u'jobstore',\n",
        " u'local',\n",
        " u'test_database',\n",
        " u'admin']"
       ]
      }
     ],
     "prompt_number": 57
    },
    {
     "cell_type": "code",
     "collapsed": false,
     "input": [
      "client.jobs1.collection_names()"
     ],
     "language": "python",
     "metadata": {},
     "outputs": [
      {
       "metadata": {},
       "output_type": "pyout",
       "prompt_number": 53,
       "text": [
        "[u'adr1jobs', u'system.indexes']"
       ]
      }
     ],
     "prompt_number": 53
    },
    {
     "cell_type": "code",
     "collapsed": false,
     "input": [
      "testClient = MongoClient('mongodb://localhost/test')"
     ],
     "language": "python",
     "metadata": {},
     "outputs": [],
     "prompt_number": 71
    },
    {
     "cell_type": "code",
     "collapsed": false,
     "input": [
      "testdb = testClient['test']\n",
      "testData = testdb.testdatas"
     ],
     "language": "python",
     "metadata": {},
     "outputs": [],
     "prompt_number": 81
    },
    {
     "cell_type": "code",
     "collapsed": false,
     "input": [
      "testData.insert({'temp': 5})"
     ],
     "language": "python",
     "metadata": {},
     "outputs": [
      {
       "metadata": {},
       "output_type": "pyout",
       "prompt_number": 82,
       "text": [
        "ObjectId('549f04a9a114603bed910892')"
       ]
      }
     ],
     "prompt_number": 82
    },
    {
     "cell_type": "code",
     "collapsed": false,
     "input": [
      "for data in testData.find():\n",
      "    print(data['temp'])"
     ],
     "language": "python",
     "metadata": {},
     "outputs": [
      {
       "output_type": "stream",
       "stream": "stdout",
       "text": [
        "3\n",
        "3\n",
        "5\n"
       ]
      }
     ],
     "prompt_number": 83
    },
    {
     "cell_type": "code",
     "collapsed": false,
     "input": [
      "testClient.database_names()"
     ],
     "language": "python",
     "metadata": {},
     "outputs": [
      {
       "metadata": {},
       "output_type": "pyout",
       "prompt_number": 79,
       "text": [
        "[u'adr1',\n",
        " u'jobs',\n",
        " u'jobs1',\n",
        " u'jobs2',\n",
        " u'jobstore',\n",
        " u'local',\n",
        " u'test',\n",
        " u'test_database',\n",
        " u'admin']"
       ]
      }
     ],
     "prompt_number": 79
    },
    {
     "cell_type": "code",
     "collapsed": false,
     "input": [
      "testdb.collection_names()"
     ],
     "language": "python",
     "metadata": {},
     "outputs": [
      {
       "metadata": {},
       "output_type": "pyout",
       "prompt_number": 80,
       "text": [
        "[u'data', u'system.indexes', u'testdatas']"
       ]
      }
     ],
     "prompt_number": 80
    },
    {
     "cell_type": "code",
     "collapsed": false,
     "input": [
      "for i in range(0,100):\n",
      "    collection.insert(rand_data())\n",
      "    time.sleep(1)"
     ],
     "language": "python",
     "metadata": {},
     "outputs": []
    }
   ],
   "metadata": {}
  }
 ]
}