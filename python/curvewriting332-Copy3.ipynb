{
 "cells": [
  {
   "cell_type": "code",
   "execution_count": 1,
   "metadata": {
    "collapsed": false
   },
   "outputs": [],
   "source": [
    "from io import StringIO\n",
    "import numpy as np\n",
    "import pyvisa\n",
    "\n",
    "rm = pyvisa.ResourceManager()\n",
    "rm.list_resources()\n",
    "ps = rm.open_resource('GPIB0::6::INSTR') #gpib for lakeshore 332"
   ]
  },
  {
   "cell_type": "code",
   "execution_count": 2,
   "metadata": {
    "collapsed": false
   },
   "outputs": [
    {
     "name": "stdout",
     "output_type": "stream",
     "text": [
      "CRVHDR 27,RO600A,00003859,3,325.0,1\n"
     ]
    },
    {
     "data": {
      "text/plain": [
       "(37L, <StatusCode.success: 0>)"
      ]
     },
     "execution_count": 2,
     "metadata": {},
     "output_type": "execute_result"
    }
   ],
   "source": [
    "# configure the curve\n",
    "curvenumber='27'\n",
    "curvename='RO600A'\n",
    "serial=  '00003859'\n",
    "formatt='3'  # ohm vs kelvin\n",
    "limit='325.0'\n",
    "coefficient='1' # 1 for negative, 2 for positive\n",
    "\n",
    "\n",
    "strg='CRVHDR '+curvenumber+','+curvename+','+serial+','+formatt+','+limit+','+coefficient#+','+'N'\n",
    "print strg\n",
    "\n",
    "\n",
    "ps.write(strg)"
   ]
  },
  {
   "cell_type": "code",
   "execution_count": 4,
   "metadata": {
    "collapsed": false
   },
   "outputs": [
    {
     "ename": "VisaIOError",
     "evalue": "VI_ERROR_TMO (-1073807339): Timeout expired before operation completed.",
     "output_type": "error",
     "traceback": [
      "\u001b[1;31m---------------------------------------------------------------------------\u001b[0m",
      "\u001b[1;31mVisaIOError\u001b[0m                               Traceback (most recent call last)",
      "\u001b[1;32m<ipython-input-4-1104c35a69e1>\u001b[0m in \u001b[0;36m<module>\u001b[1;34m()\u001b[0m\n\u001b[1;32m----> 1\u001b[1;33m \u001b[0mps\u001b[0m\u001b[1;33m.\u001b[0m\u001b[0mquery\u001b[0m\u001b[1;33m(\u001b[0m\u001b[1;34m'CRVHDR? 27'\u001b[0m\u001b[1;33m)\u001b[0m\u001b[1;33m\u001b[0m\u001b[0m\n\u001b[0m",
      "\u001b[1;32mC:\\Anaconda\\lib\\site-packages\\pyvisa\\resources\\messagebased.pyc\u001b[0m in \u001b[0;36mquery\u001b[1;34m(self, message, delay)\u001b[0m\n\u001b[0;32m    385\u001b[0m         \u001b[1;32mif\u001b[0m \u001b[0mdelay\u001b[0m \u001b[1;33m>\u001b[0m \u001b[1;36m0.0\u001b[0m\u001b[1;33m:\u001b[0m\u001b[1;33m\u001b[0m\u001b[0m\n\u001b[0;32m    386\u001b[0m             \u001b[0mtime\u001b[0m\u001b[1;33m.\u001b[0m\u001b[0msleep\u001b[0m\u001b[1;33m(\u001b[0m\u001b[0mdelay\u001b[0m\u001b[1;33m)\u001b[0m\u001b[1;33m\u001b[0m\u001b[0m\n\u001b[1;32m--> 387\u001b[1;33m         \u001b[1;32mreturn\u001b[0m \u001b[0mself\u001b[0m\u001b[1;33m.\u001b[0m\u001b[0mread\u001b[0m\u001b[1;33m(\u001b[0m\u001b[1;33m)\u001b[0m\u001b[1;33m\u001b[0m\u001b[0m\n\u001b[0m\u001b[0;32m    388\u001b[0m \u001b[1;33m\u001b[0m\u001b[0m\n\u001b[0;32m    389\u001b[0m     \u001b[1;31m# Kept for backwards compatibility.\u001b[0m\u001b[1;33m\u001b[0m\u001b[1;33m\u001b[0m\u001b[0m\n",
      "\u001b[1;32mC:\\Anaconda\\lib\\site-packages\\pyvisa\\resources\\messagebased.pyc\u001b[0m in \u001b[0;36mread\u001b[1;34m(self, termination, encoding)\u001b[0m\n\u001b[0;32m    310\u001b[0m         \u001b[1;32mif\u001b[0m \u001b[0mtermination\u001b[0m \u001b[1;32mis\u001b[0m \u001b[0mNone\u001b[0m\u001b[1;33m:\u001b[0m\u001b[1;33m\u001b[0m\u001b[0m\n\u001b[0;32m    311\u001b[0m             \u001b[0mtermination\u001b[0m \u001b[1;33m=\u001b[0m \u001b[0mself\u001b[0m\u001b[1;33m.\u001b[0m\u001b[0m_read_termination\u001b[0m\u001b[1;33m\u001b[0m\u001b[0m\n\u001b[1;32m--> 312\u001b[1;33m             \u001b[0mmessage\u001b[0m \u001b[1;33m=\u001b[0m \u001b[0mself\u001b[0m\u001b[1;33m.\u001b[0m\u001b[0mread_raw\u001b[0m\u001b[1;33m(\u001b[0m\u001b[1;33m)\u001b[0m\u001b[1;33m.\u001b[0m\u001b[0mdecode\u001b[0m\u001b[1;33m(\u001b[0m\u001b[0menco\u001b[0m\u001b[1;33m)\u001b[0m\u001b[1;33m\u001b[0m\u001b[0m\n\u001b[0m\u001b[0;32m    313\u001b[0m         \u001b[1;32melse\u001b[0m\u001b[1;33m:\u001b[0m\u001b[1;33m\u001b[0m\u001b[0m\n\u001b[0;32m    314\u001b[0m             \u001b[1;32mwith\u001b[0m \u001b[0mself\u001b[0m\u001b[1;33m.\u001b[0m\u001b[0mread_termination_context\u001b[0m\u001b[1;33m(\u001b[0m\u001b[0mtermination\u001b[0m\u001b[1;33m)\u001b[0m\u001b[1;33m:\u001b[0m\u001b[1;33m\u001b[0m\u001b[0m\n",
      "\u001b[1;32mC:\\Anaconda\\lib\\site-packages\\pyvisa\\resources\\messagebased.pyc\u001b[0m in \u001b[0;36mread_raw\u001b[1;34m(self, size)\u001b[0m\n\u001b[0;32m    284\u001b[0m                     logger.debug('%s - reading %d bytes (last status %r)',\n\u001b[0;32m    285\u001b[0m                                  self._resource_name, size, status)\n\u001b[1;32m--> 286\u001b[1;33m                     \u001b[0mchunk\u001b[0m\u001b[1;33m,\u001b[0m \u001b[0mstatus\u001b[0m \u001b[1;33m=\u001b[0m \u001b[0mself\u001b[0m\u001b[1;33m.\u001b[0m\u001b[0mvisalib\u001b[0m\u001b[1;33m.\u001b[0m\u001b[0mread\u001b[0m\u001b[1;33m(\u001b[0m\u001b[0mself\u001b[0m\u001b[1;33m.\u001b[0m\u001b[0msession\u001b[0m\u001b[1;33m,\u001b[0m \u001b[0msize\u001b[0m\u001b[1;33m)\u001b[0m\u001b[1;33m\u001b[0m\u001b[0m\n\u001b[0m\u001b[0;32m    287\u001b[0m                     \u001b[0mret\u001b[0m \u001b[1;33m+=\u001b[0m \u001b[0mchunk\u001b[0m\u001b[1;33m\u001b[0m\u001b[0m\n\u001b[0;32m    288\u001b[0m             \u001b[1;32mexcept\u001b[0m \u001b[0merrors\u001b[0m\u001b[1;33m.\u001b[0m\u001b[0mVisaIOError\u001b[0m \u001b[1;32mas\u001b[0m \u001b[0me\u001b[0m\u001b[1;33m:\u001b[0m\u001b[1;33m\u001b[0m\u001b[0m\n",
      "\u001b[1;32mC:\\Anaconda\\lib\\site-packages\\pyvisa\\ctwrapper\\functions.pyc\u001b[0m in \u001b[0;36mread\u001b[1;34m(library, session, count)\u001b[0m\n\u001b[0;32m   1580\u001b[0m     \u001b[0mbuffer\u001b[0m \u001b[1;33m=\u001b[0m \u001b[0mcreate_string_buffer\u001b[0m\u001b[1;33m(\u001b[0m\u001b[0mcount\u001b[0m\u001b[1;33m)\u001b[0m\u001b[1;33m\u001b[0m\u001b[0m\n\u001b[0;32m   1581\u001b[0m     \u001b[0mreturn_count\u001b[0m \u001b[1;33m=\u001b[0m \u001b[0mViUInt32\u001b[0m\u001b[1;33m(\u001b[0m\u001b[1;33m)\u001b[0m\u001b[1;33m\u001b[0m\u001b[0m\n\u001b[1;32m-> 1582\u001b[1;33m     \u001b[0mret\u001b[0m \u001b[1;33m=\u001b[0m \u001b[0mlibrary\u001b[0m\u001b[1;33m.\u001b[0m\u001b[0mviRead\u001b[0m\u001b[1;33m(\u001b[0m\u001b[0msession\u001b[0m\u001b[1;33m,\u001b[0m \u001b[0mbuffer\u001b[0m\u001b[1;33m,\u001b[0m \u001b[0mcount\u001b[0m\u001b[1;33m,\u001b[0m \u001b[0mbyref\u001b[0m\u001b[1;33m(\u001b[0m\u001b[0mreturn_count\u001b[0m\u001b[1;33m)\u001b[0m\u001b[1;33m)\u001b[0m\u001b[1;33m\u001b[0m\u001b[0m\n\u001b[0m\u001b[0;32m   1583\u001b[0m     \u001b[1;32mreturn\u001b[0m \u001b[0mbuffer\u001b[0m\u001b[1;33m.\u001b[0m\u001b[0mraw\u001b[0m\u001b[1;33m[\u001b[0m\u001b[1;33m:\u001b[0m\u001b[0mreturn_count\u001b[0m\u001b[1;33m.\u001b[0m\u001b[0mvalue\u001b[0m\u001b[1;33m]\u001b[0m\u001b[1;33m,\u001b[0m \u001b[0mret\u001b[0m\u001b[1;33m\u001b[0m\u001b[0m\n\u001b[0;32m   1584\u001b[0m \u001b[1;33m\u001b[0m\u001b[0m\n",
      "\u001b[1;32mC:\\Anaconda\\lib\\site-packages\\pyvisa\\ctwrapper\\highlevel.pyc\u001b[0m in \u001b[0;36m_return_handler\u001b[1;34m(self, ret_value, func, arguments)\u001b[0m\n\u001b[0;32m    186\u001b[0m \u001b[1;33m\u001b[0m\u001b[0m\n\u001b[0;32m    187\u001b[0m         \u001b[1;32mif\u001b[0m \u001b[0mret_value\u001b[0m \u001b[1;33m<\u001b[0m \u001b[1;36m0\u001b[0m\u001b[1;33m:\u001b[0m\u001b[1;33m\u001b[0m\u001b[0m\n\u001b[1;32m--> 188\u001b[1;33m             \u001b[1;32mraise\u001b[0m \u001b[0merrors\u001b[0m\u001b[1;33m.\u001b[0m\u001b[0mVisaIOError\u001b[0m\u001b[1;33m(\u001b[0m\u001b[0mret_value\u001b[0m\u001b[1;33m)\u001b[0m\u001b[1;33m\u001b[0m\u001b[0m\n\u001b[0m\u001b[0;32m    189\u001b[0m \u001b[1;33m\u001b[0m\u001b[0m\n\u001b[0;32m    190\u001b[0m         \u001b[1;32mif\u001b[0m \u001b[0mret_value\u001b[0m \u001b[1;32min\u001b[0m \u001b[0mself\u001b[0m\u001b[1;33m.\u001b[0m\u001b[0missue_warning_on\u001b[0m\u001b[1;33m:\u001b[0m\u001b[1;33m\u001b[0m\u001b[0m\n",
      "\u001b[1;31mVisaIOError\u001b[0m: VI_ERROR_TMO (-1073807339): Timeout expired before operation completed."
     ]
    }
   ],
   "source": [
    "ps.query('CRVHDR? 27')"
   ]
  },
  {
   "cell_type": "code",
   "execution_count": 20,
   "metadata": {
    "collapsed": false
   },
   "outputs": [
    {
     "name": "stdout",
     "output_type": "stream",
     "text": [
      "CRVPT 27,1,1000.32,300.000,N\n",
      "CRVPT 27,2,1000.95,290.000,N\n",
      "CRVPT 27,3,1001.61,280.000,N\n",
      "CRVPT 27,4,1002.30,270.000,N\n",
      "CRVPT 27,5,1003.03,260.000,N\n",
      "CRVPT 27,6,1003.79,250.000,N\n",
      "CRVPT 27,7,1004.60,240.000,N\n",
      "CRVPT 27,8,1005.45,230.000,N\n",
      "CRVPT 27,9,1006.36,220.000,N\n",
      "CRVPT 27,10,1007.32,210.000,N\n",
      "CRVPT 27,11,1008.35,200.000,N\n",
      "CRVPT 27,12,1009.45,190.000,N\n",
      "CRVPT 27,13,1010.63,180.000,N\n",
      "CRVPT 27,14,1011.91,170.000,N\n",
      "CRVPT 27,15,1013.29,160.000,N\n",
      "CRVPT 27,16,1014.80,150.000,N\n",
      "CRVPT 27,17,1016.46,140.000,N\n",
      "CRVPT 27,18,1018.30,130.000,N\n",
      "CRVPT 27,19,1020.34,120.000,N\n",
      "CRVPT 27,20,1022.65,110.000,N\n",
      "CRVPT 27,21,1025.58,100.000,N\n",
      "CRVPT 27,22,1028.33,90.0000,N\n",
      "CRVPT 27,23,1031.92,80.0000,N\n",
      "CRVPT 27,24,1036.26,70.0000,N\n",
      "CRVPT 27,25,1041.67,60.0000,N\n",
      "CRVPT 27,26,1048.71,50.0000,N\n",
      "CRVPT 27,27,1058.47,40.0000,N\n",
      "CRVPT 27,28,1073.43,30.0000,N\n",
      "CRVPT 27,29,1100.94,20.0000,N\n",
      "CRVPT 27,30,1178.49,10.0000,N\n",
      "CRVPT 27,31,1180.03,9.90000,N\n",
      "CRVPT 27,32,1181.59,9.80000,N\n",
      "CRVPT 27,33,1183.19,9.70000,N\n",
      "CRVPT 27,34,1184.81,9.60000,N\n",
      "CRVPT 27,35,1186.48,9.50000,N\n",
      "CRVPT 27,36,1188.17,9.40000,N\n",
      "CRVPT 27,37,1189.90,9.30000,N\n",
      "CRVPT 27,38,1191.67,9.20000,N\n",
      "CRVPT 27,39,1193.47,9.10000,N\n",
      "CRVPT 27,40,1195.31,9.00000,N\n",
      "CRVPT 27,41,1197.19,8.90000,N\n",
      "CRVPT 27,42,1199.11,8.80000,N\n",
      "CRVPT 27,43,1201.07,8.70000,N\n",
      "CRVPT 27,44,1203.08,8.60000,N\n",
      "CRVPT 27,45,1205.13,8.50000,N\n",
      "CRVPT 27,46,1207.23,8.40000,N\n",
      "CRVPT 27,47,1209.38,8.30000,N\n",
      "CRVPT 27,48,1211.57,8.20000,N\n",
      "CRVPT 27,49,1213.82,8.10000,N\n",
      "CRVPT 27,50,1216.12,8.00000,N\n",
      "CRVPT 27,51,1218.48,7.90000,N\n",
      "CRVPT 27,52,1220.89,7.80000,N\n",
      "CRVPT 27,53,1223.37,7.70000,N\n",
      "CRVPT 27,54,1225.90,7.60000,N\n",
      "CRVPT 27,55,1228.50,7.50000,N\n",
      "CRVPT 27,56,1231.17,7.40000,N\n",
      "CRVPT 27,57,1233.91,7.30000,N\n",
      "CRVPT 27,58,1236.72,7.20000,N\n",
      "CRVPT 27,59,1239.60,7.10000,N\n",
      "CRVPT 27,60,1242.56,7.00000,N\n",
      "CRVPT 27,61,1245.61,6.90000,N\n",
      "CRVPT 27,62,1248.73,6.80000,N\n",
      "CRVPT 27,63,1251.95,6.70000,N\n",
      "CRVPT 27,64,1255.26,6.60000,N\n",
      "CRVPT 27,65,1258.66,6.50000,N\n",
      "CRVPT 27,66,1262.17,6.40000,N\n",
      "CRVPT 27,67,1265.78,6.30000,N\n",
      "CRVPT 27,68,1269.50,6.20000,N\n",
      "CRVPT 27,69,1273.34,6.10000,N\n",
      "CRVPT 27,70,1277.29,6.00000,N\n",
      "CRVPT 27,71,1281.38,5.90000,N\n",
      "CRVPT 27,72,1285.59,5.80000,N\n",
      "CRVPT 27,73,1289.95,5.80000,N\n",
      "CRVPT 27,74,1294.45,5.60000,N\n",
      "CRVPT 27,75,1299.11,5.50000,N\n",
      "CRVPT 27,76,1303.93,5.40000,N\n",
      "CRVPT 27,77,1308.92,5.30000,N\n",
      "CRVPT 27,78,1314.09,5.20000,N\n",
      "CRVPT 27,79,1319.45,5.10000,N\n",
      "CRVPT 27,80,1325.01,5.00000,N\n",
      "CRVPT 27,81,1330.79,4.90000,N\n",
      "CRVPT 27,82,1336.79,4.80000,N\n",
      "CRVPT 27,83,1343.03,4.70000,N\n",
      "CRVPT 27,84,1349.53,4.60000,N\n",
      "CRVPT 27,85,1356.30,4.50000,N\n",
      "CRVPT 27,86,1363.35,4.40000,N\n",
      "CRVPT 27,87,1370.72,4.30000,N\n",
      "CRVPT 27,88,1378.41,4.20000,N\n",
      "CRVPT 27,89,1386.45,4.10000,N\n",
      "CRVPT 27,90,1394.87,4.00000,N\n",
      "CRVPT 27,91,1403.69,3.90000,N\n",
      "CRVPT 27,92,1412.95,3.80000,N\n",
      "CRVPT 27,93,1422.68,3.70000,N\n",
      "CRVPT 27,94,1432.91,3.60000,N\n",
      "CRVPT 27,95,1443.68,3.50000,N\n",
      "CRVPT 27,96,1456.55,3.40000,N\n",
      "CRVPT 27,97,1465.62,3.35000,N\n",
      "CRVPT 27,98,1468.88,3.30000,N\n",
      "CRVPT 27,99,1475.32,3.25000,N\n",
      "CRVPT 27,100,1481.96,3.20000,N\n",
      "CRVPT 27,101,1488.80,3.15000,N\n",
      "CRVPT 27,102,1495.85,3.10000,N\n",
      "CRVPT 27,103,1503.13,3.05000,N\n",
      "CRVPT 27,104,1510.64,3.00000,N\n",
      "CRVPT 27,105,1518.40,2.95000,N\n",
      "CRVPT 27,106,1526.42,2.90000,N\n",
      "CRVPT 27,107,1534.71,2.85000,N\n",
      "CRVPT 27,108,1543.29,2.80000,N\n",
      "CRVPT 27,109,1552.17,2.75000,N\n",
      "CRVPT 27,110,1561.37,2.70000,N\n",
      "CRVPT 27,111,1570.91,2.65000,N\n",
      "CRVPT 27,112,1580.80,2.60000,N\n",
      "CRVPT 27,113,1591.06,2.55000,N\n",
      "CRVPT 27,114,1601.73,2.50000,N\n",
      "CRVPT 27,115,1612.82,2.45000,N\n",
      "CRVPT 27,116,1624.35,2.40000,N\n",
      "CRVPT 27,117,1636.36,2.35000,N\n",
      "CRVPT 27,118,1648.88,2.30000,N\n",
      "CRVPT 27,119,1661.93,2.25000,N\n",
      "CRVPT 27,120,1675.56,2.20000,N\n",
      "CRVPT 27,121,1689.81,2.15000,N\n",
      "CRVPT 27,122,1704.71,2.10000,N\n",
      "CRVPT 27,123,1720.32,2.05000,N\n",
      "CRVPT 27,124,1736.69,2.00000,N\n",
      "CRVPT 27,125,1753.87,1.95000,N\n",
      "CRVPT 27,126,1771.92,1.90000,N\n",
      "CRVPT 27,127,1790.93,1.85000,N\n",
      "CRVPT 27,128,1810.96,1.80000,N\n",
      "CRVPT 27,129,1832.10,1.75000,N\n",
      "CRVPT 27,130,1854.45,1.70000,N\n",
      "CRVPT 27,131,1878.12,1.65000,N\n",
      "CRVPT 27,132,1903.22,1.60000,N\n",
      "CRVPT 27,133,1929.89,1.55000,N\n",
      "CRVPT 27,134,1958.30,1.50000,N\n",
      "CRVPT 27,135,1988.61,1.45000,N\n",
      "CRVPT 27,136,2021.02,1.40000,N\n",
      "CRVPT 27,137,2055.77,1.35000,N\n",
      "CRVPT 27,138,2093.12,1.30000,N\n",
      "CRVPT 27,139,2133.38,1.25000,N\n",
      "CRVPT 27,140,2176.90,1.20000,N\n",
      "CRVPT 27,141,2224.11,1.15000,N\n",
      "CRVPT 27,142,2275.51,1.10000,N\n",
      "CRVPT 27,143,2331.68,1.05000,N\n",
      "CRVPT 27,144,2389.32,1.00000,N\n",
      "CRVPT 27,145,2402.37,0.99000,N\n",
      "CRVPT 27,146,2415.70,0.98000,N\n",
      "CRVPT 27,147,2429.29,0.97000,N\n",
      "CRVPT 27,148,2443.17,0.96000,N\n",
      "CRVPT 27,149,2457.34,0.95000,N\n",
      "CRVPT 27,150,2471.81,0.94000,N\n",
      "CRVPT 27,151,2486.59,0.93000,N\n",
      "CRVPT 27,152,2501.68,0.92000,N\n",
      "CRVPT 27,153,2517.11,0.91000,N\n",
      "CRVPT 27,154,2532.88,0.90000,N\n",
      "CRVPT 27,155,2549.01,0.89000,N\n",
      "CRVPT 27,156,2565.50,0.88000,N\n",
      "CRVPT 27,157,2582.37,0.87000,N\n",
      "CRVPT 27,158,2599.32,0.86000,N\n",
      "CRVPT 27,159,2617.29,0.85000,N\n",
      "CRVPT 27,160,2635.37,0.84000,N\n",
      "CRVPT 27,161,2653.90,0.83000,N\n",
      "CRVPT 27,162,2672.87,0.82000,N\n",
      "CRVPT 27,163,2692.31,0.81000,N\n",
      "CRVPT 27,164,2714.24,0.80000,N\n",
      "CRVPT 27,165,2732.67,0.79000,N\n",
      "CRVPT 27,166,2753.63,0.78000,N\n",
      "CRVPT 27,167,2775.16,0.77000,N\n",
      "CRVPT 27,168,2797.20,0.76000,N\n",
      "CRVPT 27,169,2819.96,0.75000,N\n",
      "CRVPT 27,170,2843.14,0.74000,N\n",
      "CRVPT 27,171,2867.06,0.73000,N\n",
      "CRVPT 27,172,2891.64,0.72000,N\n",
      "CRVPT 27,173,2916.92,0.71000,N\n",
      "CRVPT 27,174,2942.93,0.70000,N\n",
      "CRVPT 27,175,2969.70,0.69000,N\n",
      "CRVPT 27,176,2997.26,0.68000,N\n",
      "CRVPT 27,177,3025.65,0.67000,N\n",
      "CRVPT 27,178,3054.91,0.66000,N\n",
      "CRVPT 27,179,3085.08,0.65000,N\n",
      "CRVPT 27,180,3116.20,0.64000,N\n",
      "CRVPT 27,181,3148.31,0.63000,N\n",
      "CRVPT 27,182,3181.48,0.62000,N\n",
      "CRVPT 27,183,3215.78,0.61000,N\n",
      "CRVPT 27,184,3251.18,0.60000,N\n",
      "CRVPT 27,185,3287.83,0.59000,N\n",
      "CRVPT 27,186,3325.76,0.58000,N\n",
      "CRVPT 27,187,3365.04,0.57000,N\n",
      "CRVPT 27,188,3405.75,0.56000,N\n",
      "CRVPT 27,189,3447.96,0.55000,N\n",
      "CRVPT 27,190,3491.77,0.54000,N\n",
      "CRVPT 27,191,3537.27,0.53000,N\n",
      "CRVPT 27,192,3584.56,0.52000,N\n",
      "CRVPT 27,193,3633.74,0.51000,N\n",
      "CRVPT 27,194,3684.94,0.50000,N\n",
      "CRVPT 27,195,4342.56,0.40000,N\n",
      "CRVPT 27,196,5463.40,0.30000,N\n",
      "CRVPT 27,197,7826.80,0.20000,N\n",
      "CRVPT 27,198,16330.5,0.10000,N\n",
      "CRVPT 27,199,46127.0,0.05000,N\n"
     ]
    }
   ],
   "source": [
    "# writing data values to instrument\n",
    "c=np.loadtxt('RO600.340',skiprows=9)\n",
    "\n",
    "sh= np.shape(c)\n",
    "numpoints=sh[0]\n",
    "#print numpoints\n",
    "for i in range(numpoints):\n",
    "#     print c[i,0],'  ',c[i,1],'   ',c[i,2]\n",
    "    str1=str(c[i,1])\n",
    "    str2=str(c[i,2])\n",
    "    for k in range(7-len(str1)):\n",
    "        str1=str1+'0'\n",
    "    for k in range(7-len(str2)):\n",
    "        str2=str2+'0'\n",
    "    \n",
    "#     print str1,'  ',str2,'  ',len(str1),' ',len(str2)\n",
    "    \n",
    "    strg='CRVPT '+str(curvenumber)+','+str(i+1)+','+str1+','+str2+','+'N'\n",
    "    print strg\n",
    "    ps.write(strg)"
   ]
  },
  {
   "cell_type": "code",
   "execution_count": 21,
   "metadata": {
    "collapsed": false
   },
   "outputs": [
    {
     "name": "stdout",
     "output_type": "stream",
     "text": [
      "CRVPT? 27,1,N\n"
     ]
    },
    {
     "ename": "VisaIOError",
     "evalue": "VI_ERROR_TMO (-1073807339): Timeout expired before operation completed.",
     "output_type": "error",
     "traceback": [
      "\u001b[1;31m---------------------------------------------------------------------------\u001b[0m",
      "\u001b[1;31mVisaIOError\u001b[0m                               Traceback (most recent call last)",
      "\u001b[1;32m<ipython-input-21-f8b391efa6d9>\u001b[0m in \u001b[0;36m<module>\u001b[1;34m()\u001b[0m\n\u001b[0;32m      3\u001b[0m     \u001b[0mstrg\u001b[0m\u001b[1;33m=\u001b[0m\u001b[1;34m'CRVPT? '\u001b[0m\u001b[1;33m+\u001b[0m\u001b[0mstr\u001b[0m\u001b[1;33m(\u001b[0m\u001b[0mcurvenumber\u001b[0m\u001b[1;33m)\u001b[0m\u001b[1;33m+\u001b[0m\u001b[1;34m','\u001b[0m\u001b[1;33m+\u001b[0m\u001b[0mstr\u001b[0m\u001b[1;33m(\u001b[0m\u001b[0mi\u001b[0m\u001b[1;33m+\u001b[0m\u001b[1;36m1\u001b[0m\u001b[1;33m)\u001b[0m\u001b[1;33m+\u001b[0m\u001b[1;34m','\u001b[0m\u001b[1;33m+\u001b[0m\u001b[1;34m'N'\u001b[0m\u001b[1;33m\u001b[0m\u001b[0m\n\u001b[0;32m      4\u001b[0m     \u001b[1;32mprint\u001b[0m \u001b[0mstrg\u001b[0m\u001b[1;33m\u001b[0m\u001b[0m\n\u001b[1;32m----> 5\u001b[1;33m     \u001b[0mps\u001b[0m\u001b[1;33m.\u001b[0m\u001b[0mask\u001b[0m\u001b[1;33m(\u001b[0m\u001b[0mstrg\u001b[0m\u001b[1;33m)\u001b[0m\u001b[1;33m\u001b[0m\u001b[0m\n\u001b[0m",
      "\u001b[1;32mC:\\Anaconda\\lib\\site-packages\\pyvisa\\resources\\messagebased.pyc\u001b[0m in \u001b[0;36mquery\u001b[1;34m(self, message, delay)\u001b[0m\n\u001b[0;32m    385\u001b[0m         \u001b[1;32mif\u001b[0m \u001b[0mdelay\u001b[0m \u001b[1;33m>\u001b[0m \u001b[1;36m0.0\u001b[0m\u001b[1;33m:\u001b[0m\u001b[1;33m\u001b[0m\u001b[0m\n\u001b[0;32m    386\u001b[0m             \u001b[0mtime\u001b[0m\u001b[1;33m.\u001b[0m\u001b[0msleep\u001b[0m\u001b[1;33m(\u001b[0m\u001b[0mdelay\u001b[0m\u001b[1;33m)\u001b[0m\u001b[1;33m\u001b[0m\u001b[0m\n\u001b[1;32m--> 387\u001b[1;33m         \u001b[1;32mreturn\u001b[0m \u001b[0mself\u001b[0m\u001b[1;33m.\u001b[0m\u001b[0mread\u001b[0m\u001b[1;33m(\u001b[0m\u001b[1;33m)\u001b[0m\u001b[1;33m\u001b[0m\u001b[0m\n\u001b[0m\u001b[0;32m    388\u001b[0m \u001b[1;33m\u001b[0m\u001b[0m\n\u001b[0;32m    389\u001b[0m     \u001b[1;31m# Kept for backwards compatibility.\u001b[0m\u001b[1;33m\u001b[0m\u001b[1;33m\u001b[0m\u001b[0m\n",
      "\u001b[1;32mC:\\Anaconda\\lib\\site-packages\\pyvisa\\resources\\messagebased.pyc\u001b[0m in \u001b[0;36mread\u001b[1;34m(self, termination, encoding)\u001b[0m\n\u001b[0;32m    310\u001b[0m         \u001b[1;32mif\u001b[0m \u001b[0mtermination\u001b[0m \u001b[1;32mis\u001b[0m \u001b[0mNone\u001b[0m\u001b[1;33m:\u001b[0m\u001b[1;33m\u001b[0m\u001b[0m\n\u001b[0;32m    311\u001b[0m             \u001b[0mtermination\u001b[0m \u001b[1;33m=\u001b[0m \u001b[0mself\u001b[0m\u001b[1;33m.\u001b[0m\u001b[0m_read_termination\u001b[0m\u001b[1;33m\u001b[0m\u001b[0m\n\u001b[1;32m--> 312\u001b[1;33m             \u001b[0mmessage\u001b[0m \u001b[1;33m=\u001b[0m \u001b[0mself\u001b[0m\u001b[1;33m.\u001b[0m\u001b[0mread_raw\u001b[0m\u001b[1;33m(\u001b[0m\u001b[1;33m)\u001b[0m\u001b[1;33m.\u001b[0m\u001b[0mdecode\u001b[0m\u001b[1;33m(\u001b[0m\u001b[0menco\u001b[0m\u001b[1;33m)\u001b[0m\u001b[1;33m\u001b[0m\u001b[0m\n\u001b[0m\u001b[0;32m    313\u001b[0m         \u001b[1;32melse\u001b[0m\u001b[1;33m:\u001b[0m\u001b[1;33m\u001b[0m\u001b[0m\n\u001b[0;32m    314\u001b[0m             \u001b[1;32mwith\u001b[0m \u001b[0mself\u001b[0m\u001b[1;33m.\u001b[0m\u001b[0mread_termination_context\u001b[0m\u001b[1;33m(\u001b[0m\u001b[0mtermination\u001b[0m\u001b[1;33m)\u001b[0m\u001b[1;33m:\u001b[0m\u001b[1;33m\u001b[0m\u001b[0m\n",
      "\u001b[1;32mC:\\Anaconda\\lib\\site-packages\\pyvisa\\resources\\messagebased.pyc\u001b[0m in \u001b[0;36mread_raw\u001b[1;34m(self, size)\u001b[0m\n\u001b[0;32m    284\u001b[0m                     logger.debug('%s - reading %d bytes (last status %r)',\n\u001b[0;32m    285\u001b[0m                                  self._resource_name, size, status)\n\u001b[1;32m--> 286\u001b[1;33m                     \u001b[0mchunk\u001b[0m\u001b[1;33m,\u001b[0m \u001b[0mstatus\u001b[0m \u001b[1;33m=\u001b[0m \u001b[0mself\u001b[0m\u001b[1;33m.\u001b[0m\u001b[0mvisalib\u001b[0m\u001b[1;33m.\u001b[0m\u001b[0mread\u001b[0m\u001b[1;33m(\u001b[0m\u001b[0mself\u001b[0m\u001b[1;33m.\u001b[0m\u001b[0msession\u001b[0m\u001b[1;33m,\u001b[0m \u001b[0msize\u001b[0m\u001b[1;33m)\u001b[0m\u001b[1;33m\u001b[0m\u001b[0m\n\u001b[0m\u001b[0;32m    287\u001b[0m                     \u001b[0mret\u001b[0m \u001b[1;33m+=\u001b[0m \u001b[0mchunk\u001b[0m\u001b[1;33m\u001b[0m\u001b[0m\n\u001b[0;32m    288\u001b[0m             \u001b[1;32mexcept\u001b[0m \u001b[0merrors\u001b[0m\u001b[1;33m.\u001b[0m\u001b[0mVisaIOError\u001b[0m \u001b[1;32mas\u001b[0m \u001b[0me\u001b[0m\u001b[1;33m:\u001b[0m\u001b[1;33m\u001b[0m\u001b[0m\n",
      "\u001b[1;32mC:\\Anaconda\\lib\\site-packages\\pyvisa\\ctwrapper\\functions.pyc\u001b[0m in \u001b[0;36mread\u001b[1;34m(library, session, count)\u001b[0m\n\u001b[0;32m   1580\u001b[0m     \u001b[0mbuffer\u001b[0m \u001b[1;33m=\u001b[0m \u001b[0mcreate_string_buffer\u001b[0m\u001b[1;33m(\u001b[0m\u001b[0mcount\u001b[0m\u001b[1;33m)\u001b[0m\u001b[1;33m\u001b[0m\u001b[0m\n\u001b[0;32m   1581\u001b[0m     \u001b[0mreturn_count\u001b[0m \u001b[1;33m=\u001b[0m \u001b[0mViUInt32\u001b[0m\u001b[1;33m(\u001b[0m\u001b[1;33m)\u001b[0m\u001b[1;33m\u001b[0m\u001b[0m\n\u001b[1;32m-> 1582\u001b[1;33m     \u001b[0mret\u001b[0m \u001b[1;33m=\u001b[0m \u001b[0mlibrary\u001b[0m\u001b[1;33m.\u001b[0m\u001b[0mviRead\u001b[0m\u001b[1;33m(\u001b[0m\u001b[0msession\u001b[0m\u001b[1;33m,\u001b[0m \u001b[0mbuffer\u001b[0m\u001b[1;33m,\u001b[0m \u001b[0mcount\u001b[0m\u001b[1;33m,\u001b[0m \u001b[0mbyref\u001b[0m\u001b[1;33m(\u001b[0m\u001b[0mreturn_count\u001b[0m\u001b[1;33m)\u001b[0m\u001b[1;33m)\u001b[0m\u001b[1;33m\u001b[0m\u001b[0m\n\u001b[0m\u001b[0;32m   1583\u001b[0m     \u001b[1;32mreturn\u001b[0m \u001b[0mbuffer\u001b[0m\u001b[1;33m.\u001b[0m\u001b[0mraw\u001b[0m\u001b[1;33m[\u001b[0m\u001b[1;33m:\u001b[0m\u001b[0mreturn_count\u001b[0m\u001b[1;33m.\u001b[0m\u001b[0mvalue\u001b[0m\u001b[1;33m]\u001b[0m\u001b[1;33m,\u001b[0m \u001b[0mret\u001b[0m\u001b[1;33m\u001b[0m\u001b[0m\n\u001b[0;32m   1584\u001b[0m \u001b[1;33m\u001b[0m\u001b[0m\n",
      "\u001b[1;32mC:\\Anaconda\\lib\\site-packages\\pyvisa\\ctwrapper\\highlevel.pyc\u001b[0m in \u001b[0;36m_return_handler\u001b[1;34m(self, ret_value, func, arguments)\u001b[0m\n\u001b[0;32m    186\u001b[0m \u001b[1;33m\u001b[0m\u001b[0m\n\u001b[0;32m    187\u001b[0m         \u001b[1;32mif\u001b[0m \u001b[0mret_value\u001b[0m \u001b[1;33m<\u001b[0m \u001b[1;36m0\u001b[0m\u001b[1;33m:\u001b[0m\u001b[1;33m\u001b[0m\u001b[0m\n\u001b[1;32m--> 188\u001b[1;33m             \u001b[1;32mraise\u001b[0m \u001b[0merrors\u001b[0m\u001b[1;33m.\u001b[0m\u001b[0mVisaIOError\u001b[0m\u001b[1;33m(\u001b[0m\u001b[0mret_value\u001b[0m\u001b[1;33m)\u001b[0m\u001b[1;33m\u001b[0m\u001b[0m\n\u001b[0m\u001b[0;32m    189\u001b[0m \u001b[1;33m\u001b[0m\u001b[0m\n\u001b[0;32m    190\u001b[0m         \u001b[1;32mif\u001b[0m \u001b[0mret_value\u001b[0m \u001b[1;32min\u001b[0m \u001b[0mself\u001b[0m\u001b[1;33m.\u001b[0m\u001b[0missue_warning_on\u001b[0m\u001b[1;33m:\u001b[0m\u001b[1;33m\u001b[0m\u001b[0m\n",
      "\u001b[1;31mVisaIOError\u001b[0m: VI_ERROR_TMO (-1073807339): Timeout expired before operation completed."
     ]
    }
   ],
   "source": [
    "#reading curve\n",
    "for i in range(numpoints):\n",
    "    strg='CRVPT? '+str(curvenumber)+','+str(i+1)+','+'N'\n",
    "    print strg\n",
    "    ps.ask(strg)"
   ]
  },
  {
   "cell_type": "code",
   "execution_count": null,
   "metadata": {
    "collapsed": true
   },
   "outputs": [],
   "source": []
  },
  {
   "cell_type": "code",
   "execution_count": null,
   "metadata": {
    "collapsed": true
   },
   "outputs": [],
   "source": []
  }
 ],
 "metadata": {
  "kernelspec": {
   "display_name": "Python 2",
   "language": "python",
   "name": "python2"
  },
  "language_info": {
   "codemirror_mode": {
    "name": "ipython",
    "version": 2
   },
   "file_extension": ".py",
   "mimetype": "text/x-python",
   "name": "python",
   "nbconvert_exporter": "python",
   "pygments_lexer": "ipython2",
   "version": "2.7.10"
  }
 },
 "nbformat": 4,
 "nbformat_minor": 0
}
