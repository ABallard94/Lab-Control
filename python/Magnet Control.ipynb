{
 "metadata": {
  "name": "",
  "signature": "sha256:bd49b4243e9344af760324bee65c9b5707c24614259dfc4110a7123579f54ef6"
 },
 "nbformat": 3,
 "nbformat_minor": 0,
 "worksheets": [
  {
   "cells": [
    {
     "cell_type": "code",
     "collapsed": false,
     "input": [
      "import pyvisa\n",
      "import numpy as np\n",
      "import time"
     ],
     "language": "python",
     "metadata": {},
     "outputs": [],
     "prompt_number": 4
    },
    {
     "cell_type": "heading",
     "level": 1,
     "metadata": {},
     "source": [
      "Connect to Magnet Power Supply"
     ]
    },
    {
     "cell_type": "code",
     "collapsed": false,
     "input": [
      "rm = pyvisa.ResourceManager()\n",
      "rm.list_resources()"
     ],
     "language": "python",
     "metadata": {},
     "outputs": [
      {
       "metadata": {},
       "output_type": "pyout",
       "prompt_number": 5,
       "text": [
        "(u'ASRL1::INSTR',\n",
        " u'ASRL10::INSTR',\n",
        " u'GPIB0::1::INSTR',\n",
        " u'GPIB0::2::INSTR',\n",
        " u'GPIB0::6::INSTR')"
       ]
      }
     ],
     "prompt_number": 5
    },
    {
     "cell_type": "code",
     "collapsed": false,
     "input": [
      "ps = rm.get_instrument('GPIB0::6::INSTR')"
     ],
     "language": "python",
     "metadata": {},
     "outputs": [],
     "prompt_number": 6
    },
    {
     "cell_type": "code",
     "collapsed": false,
     "input": [
      "ps.ask('*IDN?')"
     ],
     "language": "python",
     "metadata": {},
     "outputs": [
      {
       "metadata": {},
       "output_type": "pyout",
       "prompt_number": 8,
       "text": [
        "u'HEWLETT-PACKARD,6641A,0,fA.03.00sA.01.03pA.01.06\\n'"
       ]
      }
     ],
     "prompt_number": 8
    },
    {
     "cell_type": "code",
     "collapsed": false,
     "input": [
      "for i in np.linspace(0,100,101):\n",
      "    ps.write('VOLT:LEV:IMM ' + str(i) + 'mV')\n",
      "    print(\"Current: \" + ps.ask('MEAS:CURR?') + \"Voltage: \" + ps.ask('MEAS:VOLT?'))\n",
      "    time.sleep(1)"
     ],
     "language": "python",
     "metadata": {},
     "outputs": [
      {
       "output_type": "stream",
       "stream": "stdout",
       "text": [
        "Current: -3.74880E-2\n",
        "Voltage: -9.41257E-3\n",
        "\n",
        "Current: -3.74880E-2\n",
        "Voltage: -7.22136E-3\n"
       ]
      },
      {
       "output_type": "stream",
       "stream": "stdout",
       "text": [
        "\n",
        "Current: -3.19834E-2\n",
        "Voltage: -7.22136E-3\n"
       ]
      },
      {
       "output_type": "stream",
       "stream": "stdout",
       "text": [
        "\n",
        "Current: -3.19834E-2\n",
        "Voltage: -5.03014E-3\n"
       ]
      },
      {
       "output_type": "stream",
       "stream": "stdout",
       "text": [
        "\n",
        "Current: -3.74880E-2\n",
        "Voltage: -5.03014E-3\n"
       ]
      },
      {
       "output_type": "stream",
       "stream": "stdout",
       "text": [
        "\n",
        "Current: -3.19834E-2\n",
        "Voltage: -2.83892E-3\n"
       ]
      },
      {
       "output_type": "stream",
       "stream": "stdout",
       "text": [
        "\n",
        "Current: -3.74880E-2\n",
        "Voltage: -2.83892E-3\n"
       ]
      },
      {
       "output_type": "stream",
       "stream": "stdout",
       "text": [
        "\n",
        "Current: -3.19834E-2\n",
        "Voltage: -6.47709E-4\n"
       ]
      },
      {
       "output_type": "stream",
       "stream": "stdout",
       "text": [
        "\n",
        "Current: -3.74880E-2\n",
        "Voltage: -6.47709E-4\n"
       ]
      },
      {
       "output_type": "stream",
       "stream": "stdout",
       "text": [
        "\n",
        "Current: -3.74880E-2\n",
        "Voltage: 1.54351E-3\n"
       ]
      },
      {
       "output_type": "stream",
       "stream": "stdout",
       "text": [
        "\n",
        "Current: -3.74880E-2\n",
        "Voltage: 1.54351E-3\n"
       ]
      },
      {
       "output_type": "stream",
       "stream": "stdout",
       "text": [
        "\n",
        "Current: -3.74880E-2\n",
        "Voltage: 3.73472E-3\n"
       ]
      },
      {
       "output_type": "stream",
       "stream": "stdout",
       "text": [
        "\n",
        "Current: -3.74880E-2\n",
        "Voltage: 3.73472E-3\n"
       ]
      },
      {
       "output_type": "stream",
       "stream": "stdout",
       "text": [
        "\n",
        "Current: -3.19834E-2\n",
        "Voltage: 5.92594E-3\n"
       ]
      },
      {
       "output_type": "stream",
       "stream": "stdout",
       "text": [
        "\n",
        "Current: -3.74880E-2\n",
        "Voltage: 5.92594E-3\n"
       ]
      },
      {
       "output_type": "stream",
       "stream": "stdout",
       "text": [
        "\n",
        "Current: -2.64788E-2\n",
        "Voltage: 8.11716E-3\n"
       ]
      },
      {
       "output_type": "stream",
       "stream": "stdout",
       "text": [
        "\n",
        "Current: -3.74880E-2\n",
        "Voltage: 8.11716E-3\n"
       ]
      },
      {
       "output_type": "stream",
       "stream": "stdout",
       "text": [
        "\n",
        "Current: -3.19834E-2\n",
        "Voltage: 1.03084E-2\n"
       ]
      },
      {
       "output_type": "stream",
       "stream": "stdout",
       "text": [
        "\n",
        "Current: -3.19834E-2\n",
        "Voltage: 1.03084E-2\n"
       ]
      },
      {
       "output_type": "stream",
       "stream": "stdout",
       "text": [
        "\n",
        "Current: -2.64788E-2\n",
        "Voltage: 1.24996E-2\n"
       ]
      },
      {
       "output_type": "stream",
       "stream": "stdout",
       "text": [
        "\n",
        "Current: -2.64788E-2\n",
        "Voltage: 1.24996E-2\n"
       ]
      },
      {
       "output_type": "stream",
       "stream": "stdout",
       "text": [
        "\n",
        "Current: -3.19834E-2\n",
        "Voltage: 1.46908E-2\n"
       ]
      },
      {
       "output_type": "stream",
       "stream": "stdout",
       "text": [
        "\n",
        "Current: -3.19834E-2\n",
        "Voltage: 1.46908E-2\n"
       ]
      },
      {
       "output_type": "stream",
       "stream": "stdout",
       "text": [
        "\n",
        "Current: -2.09741E-2\n",
        "Voltage: 1.68820E-2\n"
       ]
      },
      {
       "output_type": "stream",
       "stream": "stdout",
       "text": [
        "\n",
        "Current: -2.09741E-2\n",
        "Voltage: 1.68820E-2\n"
       ]
      },
      {
       "output_type": "stream",
       "stream": "stdout",
       "text": [
        "\n",
        "Current: -2.09741E-2\n",
        "Voltage: 1.90732E-2\n"
       ]
      },
      {
       "output_type": "stream",
       "stream": "stdout",
       "text": [
        "\n",
        "Current: -2.64788E-2\n",
        "Voltage: 1.90732E-2\n"
       ]
      },
      {
       "output_type": "stream",
       "stream": "stdout",
       "text": [
        "\n",
        "Current: -2.09741E-2\n",
        "Voltage: 2.12645E-2\n"
       ]
      },
      {
       "output_type": "stream",
       "stream": "stdout",
       "text": [
        "\n",
        "Current: -2.09741E-2\n",
        "Voltage: 2.12645E-2\n"
       ]
      },
      {
       "output_type": "stream",
       "stream": "stdout",
       "text": [
        "\n",
        "Current: -2.09741E-2\n",
        "Voltage: 2.34557E-2\n"
       ]
      },
      {
       "output_type": "stream",
       "stream": "stdout",
       "text": [
        "\n",
        "Current: -2.09741E-2\n",
        "Voltage: 2.34557E-2\n"
       ]
      },
      {
       "output_type": "stream",
       "stream": "stdout",
       "text": [
        "\n",
        "Current: -1.54695E-2\n",
        "Voltage: 2.34557E-2\n"
       ]
      },
      {
       "output_type": "stream",
       "stream": "stdout",
       "text": [
        "\n",
        "Current: -1.54695E-2\n",
        "Voltage: 2.34557E-2\n"
       ]
      },
      {
       "output_type": "stream",
       "stream": "stdout",
       "text": [
        "\n",
        "Current: -1.54695E-2\n",
        "Voltage: 2.56469E-2\n"
       ]
      },
      {
       "output_type": "stream",
       "stream": "stdout",
       "text": [
        "\n",
        "Current: -1.54695E-2\n",
        "Voltage: 2.56469E-2\n"
       ]
      },
      {
       "output_type": "stream",
       "stream": "stdout",
       "text": [
        "\n",
        "Current: -1.54695E-2\n",
        "Voltage: 2.56469E-2\n"
       ]
      },
      {
       "output_type": "stream",
       "stream": "stdout",
       "text": [
        "\n",
        "Current: -1.54695E-2\n",
        "Voltage: 2.78381E-2\n"
       ]
      },
      {
       "output_type": "stream",
       "stream": "stdout",
       "text": [
        "\n",
        "Current: -9.96488E-3\n",
        "Voltage: 2.78381E-2\n"
       ]
      },
      {
       "output_type": "stream",
       "stream": "stdout",
       "text": [
        "\n",
        "Current: -9.96488E-3\n",
        "Voltage: 3.00293E-2\n"
       ]
      },
      {
       "output_type": "stream",
       "stream": "stdout",
       "text": [
        "\n",
        "Current: -9.96488E-3\n",
        "Voltage: 3.00293E-2\n"
       ]
      },
      {
       "output_type": "stream",
       "stream": "stdout",
       "text": [
        "\n",
        "Current: -4.46025E-3\n",
        "Voltage: 3.22205E-2\n"
       ]
      },
      {
       "output_type": "stream",
       "stream": "stdout",
       "text": [
        "\n",
        "Current: -9.96488E-3\n",
        "Voltage: 3.22205E-2\n"
       ]
      },
      {
       "output_type": "stream",
       "stream": "stdout",
       "text": [
        "\n",
        "Current: 1.04438E-3\n",
        "Voltage: 3.44117E-2\n"
       ]
      },
      {
       "output_type": "stream",
       "stream": "stdout",
       "text": [
        "\n",
        "Current: -4.46025E-3\n",
        "Voltage: 3.44117E-2\n"
       ]
      },
      {
       "output_type": "stream",
       "stream": "stdout",
       "text": [
        "\n",
        "Current: -4.46025E-3\n",
        "Voltage: 3.66030E-2\n"
       ]
      },
      {
       "output_type": "stream",
       "stream": "stdout",
       "text": [
        "\n",
        "Current: 1.04438E-3\n",
        "Voltage: 3.66030E-2\n"
       ]
      },
      {
       "output_type": "stream",
       "stream": "stdout",
       "text": [
        "\n",
        "Current: -4.46025E-3\n",
        "Voltage: 3.87942E-2\n"
       ]
      },
      {
       "output_type": "stream",
       "stream": "stdout",
       "text": [
        "\n",
        "Current: -4.46025E-3\n",
        "Voltage: 3.87942E-2\n"
       ]
      },
      {
       "output_type": "stream",
       "stream": "stdout",
       "text": [
        "\n",
        "Current: 6.54901E-3\n",
        "Voltage: 4.09854E-2\n"
       ]
      },
      {
       "output_type": "stream",
       "stream": "stdout",
       "text": [
        "\n",
        "Current: 1.04438E-3\n",
        "Voltage: 4.09854E-2\n"
       ]
      },
      {
       "output_type": "stream",
       "stream": "stdout",
       "text": [
        "\n",
        "Current: 1.20536E-2\n",
        "Voltage: 4.31766E-2\n"
       ]
      },
      {
       "output_type": "stream",
       "stream": "stdout",
       "text": [
        "\n",
        "Current: 6.54901E-3\n",
        "Voltage: 4.31766E-2\n"
       ]
      },
      {
       "output_type": "stream",
       "stream": "stdout",
       "text": [
        "\n",
        "Current: 6.54901E-3\n",
        "Voltage: 4.53678E-2\n"
       ]
      },
      {
       "output_type": "stream",
       "stream": "stdout",
       "text": [
        "\n",
        "Current: 1.20536E-2\n",
        "Voltage: 4.53678E-2\n"
       ]
      },
      {
       "output_type": "stream",
       "stream": "stdout",
       "text": [
        "\n",
        "Current: 1.20536E-2\n",
        "Voltage: 4.75590E-2\n"
       ]
      },
      {
       "output_type": "stream",
       "stream": "stdout",
       "text": [
        "\n",
        "Current: 1.20536E-2\n",
        "Voltage: 4.75590E-2\n"
       ]
      },
      {
       "output_type": "stream",
       "stream": "stdout",
       "text": [
        "\n",
        "Current: 2.30629E-2\n",
        "Voltage: 4.75590E-2\n"
       ]
      },
      {
       "output_type": "stream",
       "stream": "stdout",
       "text": [
        "\n",
        "Current: 1.75583E-2\n",
        "Voltage: 4.75590E-2\n"
       ]
      },
      {
       "output_type": "stream",
       "stream": "stdout",
       "text": [
        "\n",
        "Current: 2.30629E-2\n",
        "Voltage: 4.97503E-2\n"
       ]
      },
      {
       "output_type": "stream",
       "stream": "stdout",
       "text": [
        "\n",
        "Current: 2.30629E-2\n",
        "Voltage: 4.97503E-2\n"
       ]
      },
      {
       "output_type": "stream",
       "stream": "stdout",
       "text": [
        "\n",
        "Current: 2.85675E-2\n",
        "Voltage: 5.41327E-2\n"
       ]
      },
      {
       "output_type": "stream",
       "stream": "stdout",
       "text": [
        "\n",
        "Current: 2.85675E-2\n",
        "Voltage: 5.41327E-2\n"
       ]
      },
      {
       "output_type": "stream",
       "stream": "stdout",
       "text": [
        "\n",
        "Current: 2.85675E-2\n",
        "Voltage: 5.63239E-2\n"
       ]
      },
      {
       "output_type": "stream",
       "stream": "stdout",
       "text": [
        "\n",
        "Current: 2.30629E-2\n",
        "Voltage: 5.63239E-2\n"
       ]
      },
      {
       "output_type": "stream",
       "stream": "stdout",
       "text": [
        "\n",
        "Current: 2.85675E-2\n",
        "Voltage: 5.63239E-2\n"
       ]
      },
      {
       "output_type": "stream",
       "stream": "stdout",
       "text": [
        "\n",
        "Current: 3.95768E-2\n",
        "Voltage: 5.63239E-2\n"
       ]
      },
      {
       "output_type": "stream",
       "stream": "stdout",
       "text": [
        "\n",
        "Current: 3.40722E-2\n",
        "Voltage: 5.85151E-2\n"
       ]
      },
      {
       "output_type": "stream",
       "stream": "stdout",
       "text": [
        "\n",
        "Current: 3.40722E-2\n",
        "Voltage: 5.85151E-2\n"
       ]
      },
      {
       "output_type": "stream",
       "stream": "stdout",
       "text": [
        "\n",
        "Current: 4.50814E-2\n",
        "Voltage: 6.07063E-2\n"
       ]
      },
      {
       "output_type": "stream",
       "stream": "stdout",
       "text": [
        "\n",
        "Current: 4.50814E-2\n",
        "Voltage: 6.07063E-2\n"
       ]
      },
      {
       "output_type": "stream",
       "stream": "stdout",
       "text": [
        "\n",
        "Current: 5.05861E-2\n",
        "Voltage: 6.28976E-2\n"
       ]
      },
      {
       "output_type": "stream",
       "stream": "stdout",
       "text": [
        "\n",
        "Current: 5.05861E-2\n",
        "Voltage: 6.28976E-2\n"
       ]
      },
      {
       "output_type": "stream",
       "stream": "stdout",
       "text": [
        "\n",
        "Current: 5.05861E-2\n",
        "Voltage: 6.28976E-2\n"
       ]
      },
      {
       "output_type": "stream",
       "stream": "stdout",
       "text": [
        "\n",
        "Current: 5.05861E-2\n",
        "Voltage: 6.50888E-2\n"
       ]
      },
      {
       "output_type": "stream",
       "stream": "stdout",
       "text": [
        "\n",
        "Current: 5.05861E-2\n",
        "Voltage: 6.50888E-2\n"
       ]
      },
      {
       "output_type": "stream",
       "stream": "stdout",
       "text": [
        "\n",
        "Current: 6.15953E-2\n",
        "Voltage: 6.72800E-2\n"
       ]
      },
      {
       "output_type": "stream",
       "stream": "stdout",
       "text": [
        "\n",
        "Current: 6.15953E-2\n",
        "Voltage: 6.72800E-2\n"
       ]
      },
      {
       "output_type": "stream",
       "stream": "stdout",
       "text": [
        "\n",
        "Current: 6.15953E-2\n",
        "Voltage: 6.94712E-2\n"
       ]
      },
      {
       "output_type": "stream",
       "stream": "stdout",
       "text": [
        "\n",
        "Current: 6.15953E-2\n",
        "Voltage: 6.94712E-2\n"
       ]
      },
      {
       "output_type": "stream",
       "stream": "stdout",
       "text": [
        "\n",
        "Current: 6.70999E-2\n",
        "Voltage: 7.16624E-2\n"
       ]
      },
      {
       "output_type": "stream",
       "stream": "stdout",
       "text": [
        "\n",
        "Current: 6.70999E-2\n",
        "Voltage: 7.16624E-2\n"
       ]
      },
      {
       "output_type": "stream",
       "stream": "stdout",
       "text": [
        "\n",
        "Current: 7.26046E-2\n",
        "Voltage: 7.38536E-2\n"
       ]
      },
      {
       "output_type": "stream",
       "stream": "stdout",
       "text": [
        "\n",
        "Current: 6.70999E-2\n",
        "Voltage: 7.38536E-2\n"
       ]
      },
      {
       "output_type": "stream",
       "stream": "stdout",
       "text": [
        "\n",
        "Current: 7.81092E-2\n",
        "Voltage: 7.60449E-2\n"
       ]
      },
      {
       "output_type": "stream",
       "stream": "stdout",
       "text": [
        "\n",
        "Current: 7.26046E-2\n",
        "Voltage: 7.60449E-2\n"
       ]
      },
      {
       "output_type": "stream",
       "stream": "stdout",
       "text": [
        "\n",
        "Current: 7.26046E-2\n",
        "Voltage: 7.82361E-2\n"
       ]
      },
      {
       "output_type": "stream",
       "stream": "stdout",
       "text": [
        "\n",
        "Current: 7.81092E-2\n",
        "Voltage: 7.82361E-2\n"
       ]
      },
      {
       "output_type": "stream",
       "stream": "stdout",
       "text": [
        "\n",
        "Current: 8.91185E-2\n",
        "Voltage: 8.04273E-2\n"
       ]
      },
      {
       "output_type": "stream",
       "stream": "stdout",
       "text": [
        "\n",
        "Current: 8.36138E-2\n",
        "Voltage: 8.04273E-2\n"
       ]
      },
      {
       "output_type": "stream",
       "stream": "stdout",
       "text": [
        "\n",
        "Current: 8.91185E-2\n",
        "Voltage: 8.26185E-2\n"
       ]
      },
      {
       "output_type": "stream",
       "stream": "stdout",
       "text": [
        "\n",
        "Current: 8.91185E-2\n",
        "Voltage: 8.26185E-2\n"
       ]
      },
      {
       "output_type": "stream",
       "stream": "stdout",
       "text": [
        "\n",
        "Current: 9.46231E-2\n",
        "Voltage: 8.26185E-2\n"
       ]
      },
      {
       "output_type": "stream",
       "stream": "stdout",
       "text": [
        "\n",
        "Current: 9.46231E-2\n",
        "Voltage: 8.26185E-2\n"
       ]
      },
      {
       "output_type": "stream",
       "stream": "stdout",
       "text": [
        "\n",
        "Current: 9.46231E-2\n",
        "Voltage: 8.48097E-2\n"
       ]
      },
      {
       "output_type": "stream",
       "stream": "stdout",
       "text": [
        "\n",
        "Current: 1.00128E-1\n",
        "Voltage: 8.48097E-2\n"
       ]
      },
      {
       "output_type": "stream",
       "stream": "stdout",
       "text": [
        "\n",
        "Current: 1.05632E-1\n",
        "Voltage: 8.91921E-2\n"
       ]
      },
      {
       "output_type": "stream",
       "stream": "stdout",
       "text": [
        "\n",
        "Current: 1.05632E-1\n",
        "Voltage: 8.91921E-2\n"
       ]
      },
      {
       "output_type": "stream",
       "stream": "stdout",
       "text": [
        "\n",
        "Current: 1.11137E-1\n",
        "Voltage: 8.91921E-2\n"
       ]
      },
      {
       "output_type": "stream",
       "stream": "stdout",
       "text": [
        "\n",
        "Current: 1.11137E-1\n",
        "Voltage: 8.91921E-2\n"
       ]
      },
      {
       "output_type": "stream",
       "stream": "stdout",
       "text": [
        "\n",
        "Current: 1.16642E-1\n",
        "Voltage: 9.13834E-2\n"
       ]
      },
      {
       "output_type": "stream",
       "stream": "stdout",
       "text": [
        "\n",
        "Current: 1.22146E-1\n",
        "Voltage: 9.13834E-2\n"
       ]
      },
      {
       "output_type": "stream",
       "stream": "stdout",
       "text": [
        "\n"
       ]
      }
     ],
     "prompt_number": 13
    },
    {
     "cell_type": "code",
     "collapsed": false,
     "input": [
      "for i in np.linspace(100,200,101):\n",
      "    ps.write('VOLT:LEV:IMM ' + str(i) + 'mV')\n",
      "    print(\"Current: \" + ps.ask('MEAS:CURR?') + \"Voltage: \" + ps.ask('MEAS:VOLT?'))\n",
      "    time.sleep(1)"
     ],
     "language": "python",
     "metadata": {},
     "outputs": [
      {
       "output_type": "stream",
       "stream": "stdout",
       "text": [
        "Current: 4.24901E-1\n",
        "Voltage: 9.13834E-2\n",
        "\n",
        "Current: 4.24901E-1\n",
        "Voltage: 9.35746E-2\n"
       ]
      },
      {
       "output_type": "stream",
       "stream": "stdout",
       "text": [
        "\n",
        "Current: 4.30406E-1\n",
        "Voltage: 9.35746E-2\n"
       ]
      },
      {
       "output_type": "stream",
       "stream": "stdout",
       "text": [
        "\n",
        "Current: 4.30406E-1\n",
        "Voltage: 9.57658E-2\n"
       ]
      },
      {
       "output_type": "stream",
       "stream": "stdout",
       "text": [
        "\n",
        "Current: 4.30406E-1\n",
        "Voltage: 9.57658E-2\n"
       ]
      },
      {
       "output_type": "stream",
       "stream": "stdout",
       "text": [
        "\n",
        "Current: 4.35910E-1\n",
        "Voltage: 9.79570E-2\n"
       ]
      },
      {
       "output_type": "stream",
       "stream": "stdout",
       "text": [
        "\n",
        "Current: 4.35910E-1\n",
        "Voltage: 9.79570E-2\n"
       ]
      },
      {
       "output_type": "stream",
       "stream": "stdout",
       "text": [
        "\n",
        "Current: 4.35910E-1\n",
        "Voltage: 1.00148E-1\n"
       ]
      },
      {
       "output_type": "stream",
       "stream": "stdout",
       "text": [
        "\n",
        "Current: 4.41415E-1\n",
        "Voltage: 1.00148E-1\n"
       ]
      },
      {
       "output_type": "stream",
       "stream": "stdout",
       "text": [
        "\n",
        "Current: 4.46919E-1\n",
        "Voltage: 1.00148E-1\n"
       ]
      },
      {
       "output_type": "stream",
       "stream": "stdout",
       "text": [
        "\n",
        "Current: 4.41415E-1\n",
        "Voltage: 1.02339E-1\n"
       ]
      },
      {
       "output_type": "stream",
       "stream": "stdout",
       "text": [
        "\n",
        "Current: 4.52424E-1\n",
        "Voltage: 1.02339E-1\n"
       ]
      },
      {
       "output_type": "stream",
       "stream": "stdout",
       "text": [
        "\n",
        "Current: 4.52424E-1\n",
        "Voltage: 1.04531E-1\n"
       ]
      },
      {
       "output_type": "stream",
       "stream": "stdout",
       "text": [
        "\n",
        "Current: 4.52424E-1\n",
        "Voltage: 1.04531E-1\n"
       ]
      },
      {
       "output_type": "stream",
       "stream": "stdout",
       "text": [
        "\n",
        "Current: 4.57929E-1\n",
        "Voltage: 1.06722E-1\n"
       ]
      },
      {
       "output_type": "stream",
       "stream": "stdout",
       "text": [
        "\n",
        "Current: 4.57929E-1\n",
        "Voltage: 1.06722E-1\n"
       ]
      },
      {
       "output_type": "stream",
       "stream": "stdout",
       "text": [
        "\n",
        "Current: 4.57929E-1\n",
        "Voltage: 1.08913E-1\n"
       ]
      },
      {
       "output_type": "stream",
       "stream": "stdout",
       "text": [
        "\n",
        "Current: 4.63433E-1\n",
        "Voltage: 1.08913E-1\n"
       ]
      },
      {
       "output_type": "stream",
       "stream": "stdout",
       "text": [
        "\n",
        "Current: 4.68938E-1\n",
        "Voltage: 1.11104E-1\n"
       ]
      },
      {
       "output_type": "stream",
       "stream": "stdout",
       "text": [
        "\n",
        "Current: 4.63433E-1\n",
        "Voltage: 1.11104E-1\n"
       ]
      },
      {
       "output_type": "stream",
       "stream": "stdout",
       "text": [
        "\n",
        "Current: 4.68938E-1\n",
        "Voltage: 1.13296E-1\n"
       ]
      },
      {
       "output_type": "stream",
       "stream": "stdout",
       "text": [
        "\n",
        "Current: 4.74443E-1\n",
        "Voltage: 1.13296E-1\n"
       ]
      },
      {
       "output_type": "stream",
       "stream": "stdout",
       "text": [
        "\n",
        "Current: 4.79947E-1\n",
        "Voltage: 1.15487E-1\n"
       ]
      },
      {
       "output_type": "stream",
       "stream": "stdout",
       "text": [
        "\n",
        "Current: 4.79947E-1\n",
        "Voltage: 1.15487E-1\n"
       ]
      },
      {
       "output_type": "stream",
       "stream": "stdout",
       "text": [
        "\n",
        "Current: 4.79947E-1\n",
        "Voltage: 1.17678E-1\n"
       ]
      },
      {
       "output_type": "stream",
       "stream": "stdout",
       "text": [
        "\n",
        "Current: 4.85452E-1\n",
        "Voltage: 1.17678E-1\n"
       ]
      },
      {
       "output_type": "stream",
       "stream": "stdout",
       "text": [
        "\n",
        "Current: 4.90957E-1\n",
        "Voltage: 1.17678E-1\n"
       ]
      },
      {
       "output_type": "stream",
       "stream": "stdout",
       "text": [
        "\n",
        "Current: 4.85452E-1\n",
        "Voltage: 1.17678E-1\n"
       ]
      },
      {
       "output_type": "stream",
       "stream": "stdout",
       "text": [
        "\n",
        "Current: 4.96461E-1\n",
        "Voltage: 1.19869E-1\n"
       ]
      },
      {
       "output_type": "stream",
       "stream": "stdout",
       "text": [
        "\n",
        "Current: 4.96461E-1\n",
        "Voltage: 1.19869E-1\n"
       ]
      },
      {
       "output_type": "stream",
       "stream": "stdout",
       "text": [
        "\n",
        "Current: 5.01966E-1\n",
        "Voltage: 1.22060E-1\n"
       ]
      },
      {
       "output_type": "stream",
       "stream": "stdout",
       "text": [
        "\n",
        "Current: 5.07470E-1\n",
        "Voltage: 1.22060E-1\n"
       ]
      },
      {
       "output_type": "stream",
       "stream": "stdout",
       "text": [
        "\n",
        "Current: 5.07470E-1\n",
        "Voltage: 1.24252E-1\n"
       ]
      },
      {
       "output_type": "stream",
       "stream": "stdout",
       "text": [
        "\n",
        "Current: 5.12975E-1\n",
        "Voltage: 1.24252E-1\n"
       ]
      },
      {
       "output_type": "stream",
       "stream": "stdout",
       "text": [
        "\n",
        "Current: 5.07470E-1\n",
        "Voltage: 1.26443E-1\n"
       ]
      },
      {
       "output_type": "stream",
       "stream": "stdout",
       "text": [
        "\n",
        "Current: 5.18480E-1\n",
        "Voltage: 1.26443E-1\n"
       ]
      },
      {
       "output_type": "stream",
       "stream": "stdout",
       "text": [
        "\n",
        "Current: 5.18480E-1\n",
        "Voltage: 1.28634E-1\n"
       ]
      },
      {
       "output_type": "stream",
       "stream": "stdout",
       "text": [
        "\n",
        "Current: 5.23984E-1\n",
        "Voltage: 1.28634E-1\n"
       ]
      },
      {
       "output_type": "stream",
       "stream": "stdout",
       "text": [
        "\n",
        "Current: 5.18480E-1\n",
        "Voltage: 1.30825E-1\n"
       ]
      },
      {
       "output_type": "stream",
       "stream": "stdout",
       "text": [
        "\n",
        "Current: 5.29489E-1\n",
        "Voltage: 1.30825E-1\n"
       ]
      },
      {
       "output_type": "stream",
       "stream": "stdout",
       "text": [
        "\n",
        "Current: 5.23984E-1\n",
        "Voltage: 1.33016E-1\n"
       ]
      },
      {
       "output_type": "stream",
       "stream": "stdout",
       "text": [
        "\n",
        "Current: 5.34994E-1\n",
        "Voltage: 1.33016E-1\n"
       ]
      },
      {
       "output_type": "stream",
       "stream": "stdout",
       "text": [
        "\n",
        "Current: 5.40498E-1\n",
        "Voltage: 1.35208E-1\n"
       ]
      },
      {
       "output_type": "stream",
       "stream": "stdout",
       "text": [
        "\n",
        "Current: 5.40498E-1\n",
        "Voltage: 1.35208E-1\n"
       ]
      },
      {
       "output_type": "stream",
       "stream": "stdout",
       "text": [
        "\n",
        "Current: 5.40498E-1\n",
        "Voltage: 1.37399E-1\n"
       ]
      },
      {
       "output_type": "stream",
       "stream": "stdout",
       "text": [
        "\n",
        "Current: 5.40498E-1\n",
        "Voltage: 1.37399E-1\n"
       ]
      },
      {
       "output_type": "stream",
       "stream": "stdout",
       "text": [
        "\n",
        "Current: 5.51507E-1\n",
        "Voltage: 1.37399E-1\n"
       ]
      },
      {
       "output_type": "stream",
       "stream": "stdout",
       "text": [
        "\n",
        "Current: 5.51507E-1\n",
        "Voltage: 1.39590E-1\n"
       ]
      },
      {
       "output_type": "stream",
       "stream": "stdout",
       "text": [
        "\n",
        "Current: 5.57012E-1\n",
        "Voltage: 1.39590E-1\n"
       ]
      },
      {
       "output_type": "stream",
       "stream": "stdout",
       "text": [
        "\n",
        "Current: 5.57012E-1\n",
        "Voltage: 1.41781E-1\n"
       ]
      },
      {
       "output_type": "stream",
       "stream": "stdout",
       "text": [
        "\n",
        "Current: 5.62517E-1\n",
        "Voltage: 1.41781E-1\n"
       ]
      },
      {
       "output_type": "stream",
       "stream": "stdout",
       "text": [
        "\n",
        "Current: 5.68021E-1\n",
        "Voltage: 1.43973E-1\n"
       ]
      },
      {
       "output_type": "stream",
       "stream": "stdout",
       "text": [
        "\n",
        "Current: 5.68021E-1\n",
        "Voltage: 1.43973E-1\n"
       ]
      },
      {
       "output_type": "stream",
       "stream": "stdout",
       "text": [
        "\n",
        "Current: 5.73526E-1\n",
        "Voltage: 1.46164E-1\n"
       ]
      },
      {
       "output_type": "stream",
       "stream": "stdout",
       "text": [
        "\n",
        "Current: 5.73526E-1\n",
        "Voltage: 1.46164E-1\n"
       ]
      },
      {
       "output_type": "stream",
       "stream": "stdout",
       "text": [
        "\n",
        "Current: 5.79031E-1\n",
        "Voltage: 1.48355E-1\n"
       ]
      },
      {
       "output_type": "stream",
       "stream": "stdout",
       "text": [
        "\n",
        "Current: 5.84535E-1\n",
        "Voltage: 1.48355E-1\n"
       ]
      },
      {
       "output_type": "stream",
       "stream": "stdout",
       "text": [
        "\n",
        "Current: 5.79031E-1\n",
        "Voltage: 1.50546E-1\n"
       ]
      },
      {
       "output_type": "stream",
       "stream": "stdout",
       "text": [
        "\n",
        "Current: 5.90040E-1\n",
        "Voltage: 1.50546E-1\n"
       ]
      },
      {
       "output_type": "stream",
       "stream": "stdout",
       "text": [
        "\n",
        "Current: 5.90040E-1\n",
        "Voltage: 1.52737E-1\n"
       ]
      },
      {
       "output_type": "stream",
       "stream": "stdout",
       "text": [
        "\n",
        "Current: 5.95544E-1\n",
        "Voltage: 1.52737E-1\n"
       ]
      },
      {
       "output_type": "stream",
       "stream": "stdout",
       "text": [
        "\n",
        "Current: 6.01049E-1\n",
        "Voltage: 1.52737E-1\n"
       ]
      },
      {
       "output_type": "stream",
       "stream": "stdout",
       "text": [
        "\n",
        "Current: 6.01049E-1\n",
        "Voltage: 1.52737E-1\n"
       ]
      },
      {
       "output_type": "stream",
       "stream": "stdout",
       "text": [
        "\n",
        "Current: 6.12058E-1\n",
        "Voltage: 1.54929E-1\n"
       ]
      },
      {
       "output_type": "stream",
       "stream": "stdout",
       "text": [
        "\n",
        "Current: 6.06554E-1\n",
        "Voltage: 1.54929E-1\n"
       ]
      },
      {
       "output_type": "stream",
       "stream": "stdout",
       "text": [
        "\n",
        "Current: 6.12058E-1\n",
        "Voltage: 1.57120E-1\n"
       ]
      },
      {
       "output_type": "stream",
       "stream": "stdout",
       "text": [
        "\n",
        "Current: 6.17563E-1\n",
        "Voltage: 1.57120E-1\n"
       ]
      },
      {
       "output_type": "stream",
       "stream": "stdout",
       "text": [
        "\n",
        "Current: 6.23068E-1\n",
        "Voltage: 1.59311E-1\n"
       ]
      },
      {
       "output_type": "stream",
       "stream": "stdout",
       "text": [
        "\n",
        "Current: 6.28572E-1\n",
        "Voltage: 1.59311E-1\n"
       ]
      },
      {
       "output_type": "stream",
       "stream": "stdout",
       "text": [
        "\n",
        "Current: 6.28572E-1\n",
        "Voltage: 1.61502E-1\n"
       ]
      },
      {
       "output_type": "stream",
       "stream": "stdout",
       "text": [
        "\n",
        "Current: 6.34077E-1\n",
        "Voltage: 1.61502E-1\n"
       ]
      },
      {
       "output_type": "stream",
       "stream": "stdout",
       "text": [
        "\n",
        "Current: 6.39582E-1\n",
        "Voltage: 1.63693E-1\n"
       ]
      },
      {
       "output_type": "stream",
       "stream": "stdout",
       "text": [
        "\n",
        "Current: 6.39582E-1\n",
        "Voltage: 1.63693E-1\n"
       ]
      },
      {
       "output_type": "stream",
       "stream": "stdout",
       "text": [
        "\n",
        "Current: 6.45086E-1\n",
        "Voltage: 1.65885E-1\n"
       ]
      },
      {
       "output_type": "stream",
       "stream": "stdout",
       "text": [
        "\n",
        "Current: 6.45086E-1\n",
        "Voltage: 1.65885E-1\n"
       ]
      },
      {
       "output_type": "stream",
       "stream": "stdout",
       "text": [
        "\n",
        "Current: 6.50591E-1\n",
        "Voltage: 1.68076E-1\n"
       ]
      },
      {
       "output_type": "stream",
       "stream": "stdout",
       "text": [
        "\n",
        "Current: 6.61600E-1\n",
        "Voltage: 1.68076E-1\n"
       ]
      },
      {
       "output_type": "stream",
       "stream": "stdout",
       "text": [
        "\n",
        "Current: 6.56096E-1\n",
        "Voltage: 1.70267E-1\n"
       ]
      },
      {
       "output_type": "stream",
       "stream": "stdout",
       "text": [
        "\n",
        "Current: 6.61600E-1\n",
        "Voltage: 1.70267E-1\n"
       ]
      },
      {
       "output_type": "stream",
       "stream": "stdout",
       "text": [
        "\n",
        "Current: 6.67105E-1\n",
        "Voltage: 1.72458E-1\n"
       ]
      },
      {
       "output_type": "stream",
       "stream": "stdout",
       "text": [
        "\n",
        "Current: 6.72609E-1\n",
        "Voltage: 1.72458E-1\n"
       ]
      },
      {
       "output_type": "stream",
       "stream": "stdout",
       "text": [
        "\n",
        "Current: 6.72609E-1\n",
        "Voltage: 1.74650E-1\n"
       ]
      },
      {
       "output_type": "stream",
       "stream": "stdout",
       "text": [
        "\n",
        "Current: 6.83619E-1\n",
        "Voltage: 1.74650E-1\n"
       ]
      },
      {
       "output_type": "stream",
       "stream": "stdout",
       "text": [
        "\n",
        "Current: 6.83619E-1\n",
        "Voltage: 1.74650E-1\n"
       ]
      },
      {
       "output_type": "stream",
       "stream": "stdout",
       "text": [
        "\n",
        "Current: 6.83619E-1\n",
        "Voltage: 1.76841E-1\n"
       ]
      },
      {
       "output_type": "stream",
       "stream": "stdout",
       "text": [
        "\n",
        "Current: 6.89123E-1\n",
        "Voltage: 1.76841E-1\n"
       ]
      },
      {
       "output_type": "stream",
       "stream": "stdout",
       "text": [
        "\n",
        "Current: 7.00132E-1\n",
        "Voltage: 1.79032E-1\n"
       ]
      },
      {
       "output_type": "stream",
       "stream": "stdout",
       "text": [
        "\n",
        "Current: 7.05637E-1\n",
        "Voltage: 1.79032E-1\n"
       ]
      },
      {
       "output_type": "stream",
       "stream": "stdout",
       "text": [
        "\n",
        "Current: 7.11142E-1\n",
        "Voltage: 1.81223E-1\n"
       ]
      },
      {
       "output_type": "stream",
       "stream": "stdout",
       "text": [
        "\n",
        "Current: 7.11142E-1\n",
        "Voltage: 1.81223E-1\n"
       ]
      },
      {
       "output_type": "stream",
       "stream": "stdout",
       "text": [
        "\n",
        "Current: 7.16646E-1\n",
        "Voltage: 1.83414E-1\n"
       ]
      },
      {
       "output_type": "stream",
       "stream": "stdout",
       "text": [
        "\n",
        "Current: 7.16646E-1\n",
        "Voltage: 1.83414E-1\n"
       ]
      },
      {
       "output_type": "stream",
       "stream": "stdout",
       "text": [
        "\n",
        "Current: 7.22151E-1\n",
        "Voltage: 1.85606E-1\n"
       ]
      },
      {
       "output_type": "stream",
       "stream": "stdout",
       "text": [
        "\n",
        "Current: 7.27656E-1\n",
        "Voltage: 1.83414E-1\n"
       ]
      },
      {
       "output_type": "stream",
       "stream": "stdout",
       "text": [
        "\n",
        "Current: 7.27656E-1\n",
        "Voltage: 1.87797E-1\n"
       ]
      },
      {
       "output_type": "stream",
       "stream": "stdout",
       "text": [
        "\n",
        "Current: 7.38665E-1\n",
        "Voltage: 1.87797E-1\n"
       ]
      },
      {
       "output_type": "stream",
       "stream": "stdout",
       "text": [
        "\n",
        "Current: 7.44169E-1\n",
        "Voltage: 1.87797E-1\n"
       ]
      },
      {
       "output_type": "stream",
       "stream": "stdout",
       "text": [
        "\n",
        "Current: 7.38665E-1\n",
        "Voltage: 1.87797E-1\n"
       ]
      },
      {
       "output_type": "stream",
       "stream": "stdout",
       "text": [
        "\n",
        "Current: 7.55179E-1\n",
        "Voltage: 1.89988E-1\n"
       ]
      },
      {
       "output_type": "stream",
       "stream": "stdout",
       "text": [
        "\n",
        "Current: 7.49674E-1\n",
        "Voltage: 1.89988E-1\n"
       ]
      },
      {
       "output_type": "stream",
       "stream": "stdout",
       "text": [
        "\n",
        "Current: 7.55179E-1\n",
        "Voltage: 1.92179E-1\n"
       ]
      },
      {
       "output_type": "stream",
       "stream": "stdout",
       "text": [
        "\n"
       ]
      }
     ],
     "prompt_number": 14
    },
    {
     "cell_type": "code",
     "collapsed": false,
     "input": [
      "for i in np.linspace(254,300,47):\n",
      "    ps.write('VOLT:LEV:IMM ' + str(i) + 'mV')\n",
      "    print(str(i) + \"mV\\n\" + \"Current: \" + ps.ask('MEAS:CURR?') + \"Voltage: \" + ps.ask('MEAS:VOLT?'))\n",
      "    time.sleep(1.2)"
     ],
     "language": "python",
     "metadata": {},
     "outputs": [
      {
       "output_type": "stream",
       "stream": "stdout",
       "text": [
        "254.0mV\n",
        "Current: 1.54785E+0\n",
        "Voltage: 2.46960E-1\n",
        "\n",
        "255.0mV\n",
        "Current: 1.55335E+0\n",
        "Voltage: 2.49151E-1\n"
       ]
      },
      {
       "output_type": "stream",
       "stream": "stdout",
       "text": [
        "\n",
        "256.0mV\n",
        "Current: 1.56986E+0\n",
        "Voltage: 2.49151E-1\n"
       ]
      },
      {
       "output_type": "stream",
       "stream": "stdout",
       "text": [
        "\n",
        "257.0mV\n",
        "Current: 1.56986E+0\n",
        "Voltage: 2.51342E-1\n"
       ]
      },
      {
       "output_type": "stream",
       "stream": "stdout",
       "text": [
        "\n",
        "258.0mV\n",
        "Current: 1.57537E+0\n",
        "Voltage: 2.51342E-1\n"
       ]
      },
      {
       "output_type": "stream",
       "stream": "stdout",
       "text": [
        "\n",
        "259.0mV\n",
        "Current: 1.58087E+0\n",
        "Voltage: 2.51342E-1\n"
       ]
      },
      {
       "output_type": "stream",
       "stream": "stdout",
       "text": [
        "\n",
        "260.0mV\n",
        "Current: 1.58638E+0\n",
        "Voltage: 2.51342E-1\n"
       ]
      },
      {
       "output_type": "stream",
       "stream": "stdout",
       "text": [
        "\n",
        "261.0mV\n",
        "Current: 1.59188E+0\n",
        "Voltage: 2.51342E-1\n"
       ]
      },
      {
       "output_type": "stream",
       "stream": "stdout",
       "text": [
        "\n",
        "262.0mV\n",
        "Current: 1.60289E+0\n",
        "Voltage: 2.53533E-1\n"
       ]
      },
      {
       "output_type": "stream",
       "stream": "stdout",
       "text": [
        "\n",
        "263.0mV\n",
        "Current: 1.60840E+0\n",
        "Voltage: 2.53533E-1\n"
       ]
      },
      {
       "output_type": "stream",
       "stream": "stdout",
       "text": [
        "\n",
        "264.0mV\n",
        "Current: 1.61941E+0\n",
        "Voltage: 2.57916E-1\n"
       ]
      },
      {
       "output_type": "stream",
       "stream": "stdout",
       "text": [
        "\n",
        "265.0mV\n",
        "Current: 1.62491E+0\n",
        "Voltage: 2.57916E-1\n"
       ]
      },
      {
       "output_type": "stream",
       "stream": "stdout",
       "text": [
        "\n",
        "266.0mV\n",
        "Current: 1.63042E+0\n",
        "Voltage: 2.57916E-1\n"
       ]
      },
      {
       "output_type": "stream",
       "stream": "stdout",
       "text": [
        "\n",
        "267.0mV\n",
        "Current: 1.63042E+0\n",
        "Voltage: 2.57916E-1\n"
       ]
      },
      {
       "output_type": "stream",
       "stream": "stdout",
       "text": [
        "\n",
        "268.0mV\n",
        "Current: 1.63592E+0\n",
        "Voltage: 2.60107E-1\n"
       ]
      },
      {
       "output_type": "stream",
       "stream": "stdout",
       "text": [
        "\n",
        "269.0mV\n",
        "Current: 1.64142E+0\n",
        "Voltage: 2.60107E-1\n"
       ]
      },
      {
       "output_type": "stream",
       "stream": "stdout",
       "text": [
        "\n",
        "270.0mV\n",
        "Current: 1.65243E+0\n",
        "Voltage: 2.62298E-1\n"
       ]
      },
      {
       "output_type": "stream",
       "stream": "stdout",
       "text": [
        "\n",
        "271.0mV\n",
        "Current: 1.65243E+0\n",
        "Voltage: 2.62298E-1\n"
       ]
      },
      {
       "output_type": "stream",
       "stream": "stdout",
       "text": [
        "\n",
        "272.0mV\n",
        "Current: 1.66344E+0\n",
        "Voltage: 2.64489E-1\n"
       ]
      },
      {
       "output_type": "stream",
       "stream": "stdout",
       "text": [
        "\n",
        "273.0mV\n",
        "Current: 1.67445E+0\n",
        "Voltage: 2.64489E-1\n"
       ]
      },
      {
       "output_type": "stream",
       "stream": "stdout",
       "text": [
        "\n",
        "274.0mV\n",
        "Current: 1.67445E+0\n",
        "Voltage: 2.66681E-1\n"
       ]
      },
      {
       "output_type": "stream",
       "stream": "stdout",
       "text": [
        "\n",
        "275.0mV\n",
        "Current: 1.67996E+0\n",
        "Voltage: 2.66681E-1\n"
       ]
      },
      {
       "output_type": "stream",
       "stream": "stdout",
       "text": [
        "\n",
        "276.0mV\n",
        "Current: 1.68546E+0\n",
        "Voltage: 2.68872E-1\n"
       ]
      },
      {
       "output_type": "stream",
       "stream": "stdout",
       "text": [
        "\n",
        "277.0mV\n",
        "Current: 1.69647E+0\n",
        "Voltage: 2.68872E-1\n"
       ]
      },
      {
       "output_type": "stream",
       "stream": "stdout",
       "text": [
        "\n",
        "278.0mV\n",
        "Current: 1.70198E+0\n",
        "Voltage: 2.71063E-1\n"
       ]
      },
      {
       "output_type": "stream",
       "stream": "stdout",
       "text": [
        "\n",
        "279.0mV\n",
        "Current: 1.71298E+0\n",
        "Voltage: 2.71063E-1\n"
       ]
      },
      {
       "output_type": "stream",
       "stream": "stdout",
       "text": [
        "\n",
        "280.0mV\n",
        "Current: 1.71849E+0\n",
        "Voltage: 2.73254E-1\n"
       ]
      },
      {
       "output_type": "stream",
       "stream": "stdout",
       "text": [
        "\n",
        "281.0mV\n",
        "Current: 1.71849E+0\n",
        "Voltage: 2.73254E-1\n"
       ]
      },
      {
       "output_type": "stream",
       "stream": "stdout",
       "text": [
        "\n",
        "282.0mV\n",
        "Current: 1.72950E+0\n",
        "Voltage: 2.75446E-1\n"
       ]
      },
      {
       "output_type": "stream",
       "stream": "stdout",
       "text": [
        "\n",
        "283.0mV\n",
        "Current: 1.72950E+0\n",
        "Voltage: 2.75446E-1\n"
       ]
      },
      {
       "output_type": "stream",
       "stream": "stdout",
       "text": [
        "\n",
        "284.0mV\n",
        "Current: 1.74051E+0\n",
        "Voltage: 2.77637E-1\n"
       ]
      },
      {
       "output_type": "stream",
       "stream": "stdout",
       "text": [
        "\n",
        "285.0mV\n",
        "Current: 1.75152E+0\n",
        "Voltage: 2.77637E-1\n"
       ]
      },
      {
       "output_type": "stream",
       "stream": "stdout",
       "text": [
        "\n",
        "286.0mV\n",
        "Current: 1.75702E+0\n",
        "Voltage: 2.79828E-1\n"
       ]
      },
      {
       "output_type": "stream",
       "stream": "stdout",
       "text": [
        "\n",
        "287.0mV\n",
        "Current: 1.75702E+0\n",
        "Voltage: 2.79828E-1\n"
       ]
      },
      {
       "output_type": "stream",
       "stream": "stdout",
       "text": [
        "\n",
        "288.0mV\n",
        "Current: 1.76803E+0\n",
        "Voltage: 2.82019E-1\n"
       ]
      },
      {
       "output_type": "stream",
       "stream": "stdout",
       "text": [
        "\n",
        "289.0mV\n",
        "Current: 1.76803E+0\n",
        "Voltage: 2.82019E-1\n"
       ]
      },
      {
       "output_type": "stream",
       "stream": "stdout",
       "text": [
        "\n",
        "290.0mV\n",
        "Current: 1.77904E+0\n",
        "Voltage: 2.84210E-1\n"
       ]
      },
      {
       "output_type": "stream",
       "stream": "stdout",
       "text": [
        "\n",
        "291.0mV\n",
        "Current: 1.78454E+0\n",
        "Voltage: 2.84210E-1\n"
       ]
      },
      {
       "output_type": "stream",
       "stream": "stdout",
       "text": [
        "\n",
        "292.0mV\n",
        "Current: 1.80106E+0\n",
        "Voltage: 2.86402E-1\n"
       ]
      },
      {
       "output_type": "stream",
       "stream": "stdout",
       "text": [
        "\n",
        "293.0mV\n",
        "Current: 1.80656E+0\n",
        "Voltage: 2.86402E-1\n"
       ]
      },
      {
       "output_type": "stream",
       "stream": "stdout",
       "text": [
        "\n",
        "294.0mV\n",
        "Current: 1.81207E+0\n",
        "Voltage: 2.86402E-1\n"
       ]
      },
      {
       "output_type": "stream",
       "stream": "stdout",
       "text": [
        "\n",
        "295.0mV\n",
        "Current: 1.81207E+0\n",
        "Voltage: 2.86402E-1\n"
       ]
      },
      {
       "output_type": "stream",
       "stream": "stdout",
       "text": [
        "\n",
        "296.0mV\n",
        "Current: 1.82308E+0\n",
        "Voltage: 2.86402E-1\n"
       ]
      },
      {
       "output_type": "stream",
       "stream": "stdout",
       "text": [
        "\n",
        "297.0mV\n",
        "Current: 1.83409E+0\n",
        "Voltage: 2.88593E-1\n"
       ]
      },
      {
       "output_type": "stream",
       "stream": "stdout",
       "text": [
        "\n",
        "298.0mV\n",
        "Current: 1.83409E+0\n",
        "Voltage: 2.88593E-1\n"
       ]
      },
      {
       "output_type": "stream",
       "stream": "stdout",
       "text": [
        "\n",
        "299.0mV\n",
        "Current: 1.83959E+0\n",
        "Voltage: 2.92975E-1\n"
       ]
      },
      {
       "output_type": "stream",
       "stream": "stdout",
       "text": [
        "\n",
        "300.0mV\n",
        "Current: 1.84510E+0\n",
        "Voltage: 2.92975E-1\n"
       ]
      },
      {
       "output_type": "stream",
       "stream": "stdout",
       "text": [
        "\n"
       ]
      }
     ],
     "prompt_number": 17
    },
    {
     "cell_type": "code",
     "collapsed": false,
     "input": [
      "for i in np.linspace(300,350,51):\n",
      "    ps.write('VOLT:LEV:IMM ' + str(i) + 'mV')\n",
      "    print(str(i) + \"mV\\n\" + \"Current: \" + ps.ask('MEAS:CURR?') + \"Voltage: \" + ps.ask('MEAS:VOLT?'))\n",
      "    time.sleep(1.2)"
     ],
     "language": "python",
     "metadata": {},
     "outputs": [
      {
       "output_type": "stream",
       "stream": "stdout",
       "text": [
        "300.0mV\n",
        "Current: 5.20292E+0\n",
        "Voltage: 2.92975E-1\n",
        "\n",
        "301.0mV\n",
        "Current: 5.20292E+0\n",
        "Voltage: 2.92975E-1\n"
       ]
      },
      {
       "output_type": "stream",
       "stream": "stdout",
       "text": [
        "\n",
        "302.0mV\n",
        "Current: 5.20292E+0\n",
        "Voltage: 2.92975E-1\n"
       ]
      },
      {
       "output_type": "stream",
       "stream": "stdout",
       "text": [
        "\n",
        "303.0mV\n",
        "Current: 5.20842E+0\n",
        "Voltage: 2.95166E-1\n"
       ]
      },
      {
       "output_type": "stream",
       "stream": "stdout",
       "text": [
        "\n",
        "304.0mV\n",
        "Current: 5.20292E+0\n",
        "Voltage: 2.95166E-1\n"
       ]
      },
      {
       "output_type": "stream",
       "stream": "stdout",
       "text": [
        "\n",
        "305.0mV\n",
        "Current: 5.20842E+0\n",
        "Voltage: 2.97358E-1\n"
       ]
      },
      {
       "output_type": "stream",
       "stream": "stdout",
       "text": [
        "\n",
        "306.0mV\n",
        "Current: 5.21393E+0\n",
        "Voltage: 2.97358E-1\n"
       ]
      },
      {
       "output_type": "stream",
       "stream": "stdout",
       "text": [
        "\n",
        "307.0mV\n",
        "Current: 5.20842E+0\n",
        "Voltage: 2.99549E-1\n"
       ]
      },
      {
       "output_type": "stream",
       "stream": "stdout",
       "text": [
        "\n",
        "308.0mV\n",
        "Current: 5.21393E+0\n",
        "Voltage: 2.99549E-1\n"
       ]
      },
      {
       "output_type": "stream",
       "stream": "stdout",
       "text": [
        "\n",
        "309.0mV\n",
        "Current: 5.21393E+0\n",
        "Voltage: 3.01740E-1\n"
       ]
      },
      {
       "output_type": "stream",
       "stream": "stdout",
       "text": [
        "\n",
        "310.0mV\n",
        "Current: 5.21943E+0\n",
        "Voltage: 3.01740E-1\n"
       ]
      },
      {
       "output_type": "stream",
       "stream": "stdout",
       "text": [
        "\n",
        "311.0mV\n",
        "Current: 5.21943E+0\n",
        "Voltage: 3.03931E-1\n"
       ]
      },
      {
       "output_type": "stream",
       "stream": "stdout",
       "text": [
        "\n",
        "312.0mV\n",
        "Current: 5.22494E+0\n",
        "Voltage: 3.03931E-1\n"
       ]
      },
      {
       "output_type": "stream",
       "stream": "stdout",
       "text": [
        "\n",
        "313.0mV\n",
        "Current: 5.22494E+0\n",
        "Voltage: 3.06123E-1\n"
       ]
      },
      {
       "output_type": "stream",
       "stream": "stdout",
       "text": [
        "\n",
        "314.0mV\n",
        "Current: 5.23044E+0\n",
        "Voltage: 3.06123E-1\n"
       ]
      },
      {
       "output_type": "stream",
       "stream": "stdout",
       "text": [
        "\n",
        "315.0mV\n",
        "Current: 5.23044E+0\n",
        "Voltage: 3.08314E-1\n"
       ]
      },
      {
       "output_type": "stream",
       "stream": "stdout",
       "text": [
        "\n",
        "316.0mV\n",
        "Current: 5.23044E+0\n",
        "Voltage: 3.08314E-1\n"
       ]
      },
      {
       "output_type": "stream",
       "stream": "stdout",
       "text": [
        "\n",
        "317.0mV\n",
        "Current: 5.23044E+0\n",
        "Voltage: 3.10505E-1\n"
       ]
      },
      {
       "output_type": "stream",
       "stream": "stdout",
       "text": [
        "\n",
        "318.0mV\n",
        "Current: 5.23044E+0\n",
        "Voltage: 3.10505E-1\n"
       ]
      },
      {
       "output_type": "stream",
       "stream": "stdout",
       "text": [
        "\n",
        "319.0mV\n",
        "Current: 5.23595E+0\n",
        "Voltage: 3.12696E-1\n"
       ]
      },
      {
       "output_type": "stream",
       "stream": "stdout",
       "text": [
        "\n",
        "320.0mV\n",
        "Current: 5.24145E+0\n",
        "Voltage: 3.12696E-1\n"
       ]
      },
      {
       "output_type": "stream",
       "stream": "stdout",
       "text": [
        "\n",
        "321.0mV\n",
        "Current: 5.24145E+0\n",
        "Voltage: 3.14887E-1\n"
       ]
      },
      {
       "output_type": "stream",
       "stream": "stdout",
       "text": [
        "\n",
        "322.0mV\n",
        "Current: 5.24145E+0\n",
        "Voltage: 3.14887E-1\n"
       ]
      },
      {
       "output_type": "stream",
       "stream": "stdout",
       "text": [
        "\n",
        "323.0mV\n",
        "Current: 5.24696E+0\n",
        "Voltage: 3.17079E-1\n"
       ]
      },
      {
       "output_type": "stream",
       "stream": "stdout",
       "text": [
        "\n",
        "324.0mV\n",
        "Current: 5.24696E+0\n",
        "Voltage: 3.17079E-1\n"
       ]
      },
      {
       "output_type": "stream",
       "stream": "stdout",
       "text": [
        "\n",
        "325.0mV\n",
        "Current: 5.25246E+0\n",
        "Voltage: 3.19270E-1\n"
       ]
      },
      {
       "output_type": "stream",
       "stream": "stdout",
       "text": [
        "\n",
        "326.0mV\n",
        "Current: 5.25246E+0\n",
        "Voltage: 3.19270E-1\n"
       ]
      },
      {
       "output_type": "stream",
       "stream": "stdout",
       "text": [
        "\n",
        "327.0mV\n",
        "Current: 5.25246E+0\n",
        "Voltage: 3.19270E-1\n"
       ]
      },
      {
       "output_type": "stream",
       "stream": "stdout",
       "text": [
        "\n",
        "328.0mV\n",
        "Current: 5.26347E+0\n",
        "Voltage: 3.19270E-1\n"
       ]
      },
      {
       "output_type": "stream",
       "stream": "stdout",
       "text": [
        "\n",
        "329.0mV\n",
        "Current: 5.26347E+0\n",
        "Voltage: 3.21461E-1\n"
       ]
      },
      {
       "output_type": "stream",
       "stream": "stdout",
       "text": [
        "\n",
        "330.0mV\n",
        "Current: 5.26898E+0\n",
        "Voltage: 3.21461E-1\n"
       ]
      },
      {
       "output_type": "stream",
       "stream": "stdout",
       "text": [
        "\n",
        "331.0mV\n",
        "Current: 5.26347E+0\n",
        "Voltage: 3.23652E-1\n"
       ]
      },
      {
       "output_type": "stream",
       "stream": "stdout",
       "text": [
        "\n",
        "332.0mV\n",
        "Current: 5.26347E+0\n",
        "Voltage: 3.23652E-1\n"
       ]
      },
      {
       "output_type": "stream",
       "stream": "stdout",
       "text": [
        "\n",
        "333.0mV\n",
        "Current: 5.27448E+0\n",
        "Voltage: 3.23652E-1\n"
       ]
      },
      {
       "output_type": "stream",
       "stream": "stdout",
       "text": [
        "\n",
        "334.0mV\n",
        "Current: 5.27448E+0\n",
        "Voltage: 3.25843E-1\n"
       ]
      },
      {
       "output_type": "stream",
       "stream": "stdout",
       "text": [
        "\n",
        "335.0mV\n",
        "Current: 5.27999E+0\n",
        "Voltage: 3.25843E-1\n"
       ]
      },
      {
       "output_type": "stream",
       "stream": "stdout",
       "text": [
        "\n",
        "336.0mV\n",
        "Current: 5.27448E+0\n",
        "Voltage: 3.28035E-1\n"
       ]
      },
      {
       "output_type": "stream",
       "stream": "stdout",
       "text": [
        "\n",
        "337.0mV\n",
        "Current: 5.28549E+0\n",
        "Voltage: 3.28035E-1\n"
       ]
      },
      {
       "output_type": "stream",
       "stream": "stdout",
       "text": [
        "\n",
        "338.0mV\n",
        "Current: 5.28549E+0\n",
        "Voltage: 3.30226E-1\n"
       ]
      },
      {
       "output_type": "stream",
       "stream": "stdout",
       "text": [
        "\n",
        "339.0mV\n",
        "Current: 5.28549E+0\n",
        "Voltage: 3.30226E-1\n"
       ]
      },
      {
       "output_type": "stream",
       "stream": "stdout",
       "text": [
        "\n",
        "340.0mV\n",
        "Current: 5.29099E+0\n",
        "Voltage: 3.32417E-1\n"
       ]
      },
      {
       "output_type": "stream",
       "stream": "stdout",
       "text": [
        "\n",
        "341.0mV\n",
        "Current: 5.29099E+0\n",
        "Voltage: 3.32417E-1\n"
       ]
      },
      {
       "output_type": "stream",
       "stream": "stdout",
       "text": [
        "\n",
        "342.0mV\n",
        "Current: 5.30200E+0\n",
        "Voltage: 3.34608E-1\n"
       ]
      },
      {
       "output_type": "stream",
       "stream": "stdout",
       "text": [
        "\n",
        "343.0mV\n",
        "Current: 5.30200E+0\n",
        "Voltage: 3.34608E-1\n"
       ]
      },
      {
       "output_type": "stream",
       "stream": "stdout",
       "text": [
        "\n",
        "344.0mV\n",
        "Current: 5.30751E+0\n",
        "Voltage: 3.36800E-1\n"
       ]
      },
      {
       "output_type": "stream",
       "stream": "stdout",
       "text": [
        "\n",
        "345.0mV\n",
        "Current: 5.30200E+0\n",
        "Voltage: 3.36800E-1\n"
       ]
      },
      {
       "output_type": "stream",
       "stream": "stdout",
       "text": [
        "\n",
        "346.0mV\n",
        "Current: 5.30751E+0\n",
        "Voltage: 3.38991E-1\n"
       ]
      },
      {
       "output_type": "stream",
       "stream": "stdout",
       "text": [
        "\n",
        "347.0mV\n",
        "Current: 5.31301E+0\n",
        "Voltage: 3.38991E-1\n"
       ]
      },
      {
       "output_type": "stream",
       "stream": "stdout",
       "text": [
        "\n",
        "348.0mV\n",
        "Current: 5.31852E+0\n",
        "Voltage: 3.41182E-1\n"
       ]
      },
      {
       "output_type": "stream",
       "stream": "stdout",
       "text": [
        "\n",
        "349.0mV\n",
        "Current: 5.31301E+0\n",
        "Voltage: 3.41182E-1\n"
       ]
      },
      {
       "output_type": "stream",
       "stream": "stdout",
       "text": [
        "\n",
        "350.0mV\n",
        "Current: 5.32402E+0\n",
        "Voltage: 3.43373E-1\n"
       ]
      },
      {
       "output_type": "stream",
       "stream": "stdout",
       "text": [
        "\n"
       ]
      }
     ],
     "prompt_number": 18
    },
    {
     "cell_type": "code",
     "collapsed": false,
     "input": [
      "for i in np.linspace(350,400,51):\n",
      "    ps.write('VOLT:LEV:IMM ' + str(i) + 'mV')\n",
      "    print(str(i) + \"mV\\n\" + \"Current: \" + ps.ask('MEAS:CURR?') + \"Voltage: \" + ps.ask('MEAS:VOLT?'))\n",
      "    time.sleep(1)"
     ],
     "language": "python",
     "metadata": {},
     "outputs": [
      {
       "output_type": "stream",
       "stream": "stdout",
       "text": [
        "350.0mV\n",
        "Current: 5.90751E+0\n",
        "Voltage: 3.43373E-1\n",
        "\n",
        "351.0mV\n",
        "Current: 5.91302E+0\n",
        "Voltage: 3.43373E-1\n"
       ]
      },
      {
       "output_type": "stream",
       "stream": "stdout",
       "text": [
        "\n",
        "352.0mV\n",
        "Current: 5.90751E+0\n",
        "Voltage: 3.45564E-1\n"
       ]
      },
      {
       "output_type": "stream",
       "stream": "stdout",
       "text": [
        "\n",
        "353.0mV\n",
        "Current: 5.91852E+0\n",
        "Voltage: 3.45564E-1\n"
       ]
      },
      {
       "output_type": "stream",
       "stream": "stdout",
       "text": [
        "\n",
        "354.0mV\n",
        "Current: 5.92403E+0\n",
        "Voltage: 3.47756E-1\n"
       ]
      },
      {
       "output_type": "stream",
       "stream": "stdout",
       "text": [
        "\n",
        "355.0mV\n",
        "Current: 5.92403E+0\n",
        "Voltage: 3.47756E-1\n"
       ]
      },
      {
       "output_type": "stream",
       "stream": "stdout",
       "text": [
        "\n",
        "356.0mV\n",
        "Current: 5.91852E+0\n",
        "Voltage: 3.47756E-1\n"
       ]
      },
      {
       "output_type": "stream",
       "stream": "stdout",
       "text": [
        "\n",
        "357.0mV\n",
        "Current: 5.92403E+0\n",
        "Voltage: 3.49947E-1\n"
       ]
      },
      {
       "output_type": "stream",
       "stream": "stdout",
       "text": [
        "\n",
        "358.0mV\n",
        "Current: 5.92953E+0\n",
        "Voltage: 3.52138E-1\n"
       ]
      },
      {
       "output_type": "stream",
       "stream": "stdout",
       "text": [
        "\n",
        "359.0mV\n",
        "Current: 5.92403E+0\n",
        "Voltage: 3.52138E-1\n"
       ]
      },
      {
       "output_type": "stream",
       "stream": "stdout",
       "text": [
        "\n",
        "360.0mV\n",
        "Current: 5.93504E+0\n",
        "Voltage: 3.54329E-1\n"
       ]
      },
      {
       "output_type": "stream",
       "stream": "stdout",
       "text": [
        "\n",
        "361.0mV\n",
        "Current: 5.93504E+0\n",
        "Voltage: 3.54329E-1\n"
       ]
      },
      {
       "output_type": "stream",
       "stream": "stdout",
       "text": [
        "\n",
        "362.0mV\n",
        "Current: 5.93504E+0\n",
        "Voltage: 3.54329E-1\n"
       ]
      },
      {
       "output_type": "stream",
       "stream": "stdout",
       "text": [
        "\n",
        "363.0mV\n",
        "Current: 5.92953E+0\n",
        "Voltage: 3.54329E-1\n"
       ]
      },
      {
       "output_type": "stream",
       "stream": "stdout",
       "text": [
        "\n",
        "364.0mV\n",
        "Current: 5.93504E+0\n",
        "Voltage: 3.56521E-1\n"
       ]
      },
      {
       "output_type": "stream",
       "stream": "stdout",
       "text": [
        "\n",
        "365.0mV\n",
        "Current: 5.94605E+0\n",
        "Voltage: 3.56521E-1\n"
       ]
      },
      {
       "output_type": "stream",
       "stream": "stdout",
       "text": [
        "\n",
        "366.0mV\n",
        "Current: 5.94605E+0\n",
        "Voltage: 3.58712E-1\n"
       ]
      },
      {
       "output_type": "stream",
       "stream": "stdout",
       "text": [
        "\n",
        "367.0mV\n",
        "Current: 5.94605E+0\n",
        "Voltage: 3.58712E-1\n"
       ]
      },
      {
       "output_type": "stream",
       "stream": "stdout",
       "text": [
        "\n",
        "368.0mV\n",
        "Current: 5.94605E+0\n",
        "Voltage: 3.60903E-1\n"
       ]
      },
      {
       "output_type": "stream",
       "stream": "stdout",
       "text": [
        "\n",
        "369.0mV\n",
        "Current: 5.95155E+0\n",
        "Voltage: 3.60903E-1\n"
       ]
      },
      {
       "output_type": "stream",
       "stream": "stdout",
       "text": [
        "\n",
        "370.0mV\n",
        "Current: 5.94605E+0\n",
        "Voltage: 3.60903E-1\n"
       ]
      },
      {
       "output_type": "stream",
       "stream": "stdout",
       "text": [
        "\n",
        "371.0mV\n",
        "Current: 5.95706E+0\n",
        "Voltage: 3.63094E-1\n"
       ]
      },
      {
       "output_type": "stream",
       "stream": "stdout",
       "text": [
        "\n",
        "372.0mV\n",
        "Current: 5.95155E+0\n",
        "Voltage: 3.63094E-1\n"
       ]
      },
      {
       "output_type": "stream",
       "stream": "stdout",
       "text": [
        "\n",
        "373.0mV\n",
        "Current: 5.95706E+0\n",
        "Voltage: 3.65285E-1\n"
       ]
      },
      {
       "output_type": "stream",
       "stream": "stdout",
       "text": [
        "\n",
        "374.0mV\n",
        "Current: 5.96256E+0\n",
        "Voltage: 3.65285E-1\n"
       ]
      },
      {
       "output_type": "stream",
       "stream": "stdout",
       "text": [
        "\n",
        "375.0mV\n",
        "Current: 5.96806E+0\n",
        "Voltage: 3.67477E-1\n"
       ]
      },
      {
       "output_type": "stream",
       "stream": "stdout",
       "text": [
        "\n",
        "376.0mV\n",
        "Current: 5.96806E+0\n",
        "Voltage: 3.67477E-1\n"
       ]
      },
      {
       "output_type": "stream",
       "stream": "stdout",
       "text": [
        "\n",
        "377.0mV\n",
        "Current: 5.96806E+0\n",
        "Voltage: 3.69668E-1\n"
       ]
      },
      {
       "output_type": "stream",
       "stream": "stdout",
       "text": [
        "\n",
        "378.0mV\n",
        "Current: 5.97357E+0\n",
        "Voltage: 3.69668E-1\n"
       ]
      },
      {
       "output_type": "stream",
       "stream": "stdout",
       "text": [
        "\n",
        "379.0mV\n",
        "Current: 5.97357E+0\n",
        "Voltage: 3.71859E-1\n"
       ]
      },
      {
       "output_type": "stream",
       "stream": "stdout",
       "text": [
        "\n",
        "380.0mV\n",
        "Current: 5.97357E+0\n",
        "Voltage: 3.71859E-1\n"
       ]
      },
      {
       "output_type": "stream",
       "stream": "stdout",
       "text": [
        "\n",
        "381.0mV\n",
        "Current: 5.98458E+0\n",
        "Voltage: 3.74050E-1\n"
       ]
      },
      {
       "output_type": "stream",
       "stream": "stdout",
       "text": [
        "\n",
        "382.0mV\n",
        "Current: 5.98458E+0\n",
        "Voltage: 3.74050E-1\n"
       ]
      },
      {
       "output_type": "stream",
       "stream": "stdout",
       "text": [
        "\n",
        "383.0mV\n",
        "Current: 5.97907E+0\n",
        "Voltage: 3.76241E-1\n"
       ]
      },
      {
       "output_type": "stream",
       "stream": "stdout",
       "text": [
        "\n",
        "384.0mV\n",
        "Current: 5.98458E+0\n",
        "Voltage: 3.76241E-1\n"
       ]
      },
      {
       "output_type": "stream",
       "stream": "stdout",
       "text": [
        "\n",
        "385.0mV\n",
        "Current: 5.99559E+0\n",
        "Voltage: 3.78433E-1\n"
       ]
      },
      {
       "output_type": "stream",
       "stream": "stdout",
       "text": [
        "\n",
        "386.0mV\n",
        "Current: 5.99559E+0\n",
        "Voltage: 3.78433E-1\n"
       ]
      },
      {
       "output_type": "stream",
       "stream": "stdout",
       "text": [
        "\n",
        "387.0mV\n",
        "Current: 5.99559E+0\n",
        "Voltage: 3.80624E-1\n"
       ]
      },
      {
       "output_type": "stream",
       "stream": "stdout",
       "text": [
        "\n",
        "388.0mV\n",
        "Current: 6.00109E+0\n",
        "Voltage: 3.80624E-1\n"
       ]
      },
      {
       "output_type": "stream",
       "stream": "stdout",
       "text": [
        "\n",
        "389.0mV\n",
        "Current: 6.00109E+0\n",
        "Voltage: 3.82815E-1\n"
       ]
      },
      {
       "output_type": "stream",
       "stream": "stdout",
       "text": [
        "\n",
        "390.0mV\n",
        "Current: 6.00109E+0\n",
        "Voltage: 3.82815E-1\n"
       ]
      },
      {
       "output_type": "stream",
       "stream": "stdout",
       "text": [
        "\n",
        "391.0mV\n",
        "Current: 6.01210E+0\n",
        "Voltage: 3.82815E-1\n"
       ]
      },
      {
       "output_type": "stream",
       "stream": "stdout",
       "text": [
        "\n",
        "392.0mV\n",
        "Current: 6.00660E+0\n",
        "Voltage: 3.85006E-1\n"
       ]
      },
      {
       "output_type": "stream",
       "stream": "stdout",
       "text": [
        "\n",
        "393.0mV\n",
        "Current: 6.01210E+0\n",
        "Voltage: 3.87198E-1\n"
       ]
      },
      {
       "output_type": "stream",
       "stream": "stdout",
       "text": [
        "\n",
        "394.0mV\n",
        "Current: 6.01761E+0\n",
        "Voltage: 3.87198E-1\n"
       ]
      },
      {
       "output_type": "stream",
       "stream": "stdout",
       "text": [
        "\n",
        "395.0mV\n",
        "Current: 6.02311E+0\n",
        "Voltage: 3.89389E-1\n"
       ]
      },
      {
       "output_type": "stream",
       "stream": "stdout",
       "text": [
        "\n",
        "396.0mV\n",
        "Current: 6.02861E+0\n",
        "Voltage: 3.89389E-1\n"
       ]
      },
      {
       "output_type": "stream",
       "stream": "stdout",
       "text": [
        "\n",
        "397.0mV\n",
        "Current: 6.02861E+0\n",
        "Voltage: 3.91580E-1\n"
       ]
      },
      {
       "output_type": "stream",
       "stream": "stdout",
       "text": [
        "\n",
        "398.0mV\n",
        "Current: 6.03412E+0\n",
        "Voltage: 3.91580E-1\n"
       ]
      },
      {
       "output_type": "stream",
       "stream": "stdout",
       "text": [
        "\n",
        "399.0mV\n",
        "Current: 6.02861E+0\n",
        "Voltage: 3.91580E-1\n"
       ]
      },
      {
       "output_type": "stream",
       "stream": "stdout",
       "text": [
        "\n",
        "400.0mV\n",
        "Current: 6.03412E+0\n",
        "Voltage: 3.91580E-1\n"
       ]
      },
      {
       "output_type": "stream",
       "stream": "stdout",
       "text": [
        "\n"
       ]
      }
     ],
     "prompt_number": 19
    },
    {
     "cell_type": "code",
     "collapsed": false,
     "input": [
      "for i in np.linspace(400,420,21):\n",
      "    ps.write('VOLT:LEV:IMM ' + str(i) + 'mV')\n",
      "    print(str(i) + \"mV\\n\" + \"Current: \" + ps.ask('MEAS:CURR?') + \"Voltage: \" + ps.ask('MEAS:VOLT?'))\n",
      "    time.sleep(1)"
     ],
     "language": "python",
     "metadata": {},
     "outputs": [
      {
       "output_type": "stream",
       "stream": "stdout",
       "text": [
        "400.0mV\n",
        "Current: 7.38826E+0\n",
        "Voltage: 3.91580E-1\n",
        "\n",
        "401.0mV\n",
        "Current: 7.38275E+0\n",
        "Voltage: 3.93771E-1\n"
       ]
      },
      {
       "output_type": "stream",
       "stream": "stdout",
       "text": [
        "\n",
        "402.0mV\n",
        "Current: 7.38826E+0\n",
        "Voltage: 3.93771E-1\n"
       ]
      },
      {
       "output_type": "stream",
       "stream": "stdout",
       "text": [
        "\n",
        "403.0mV\n",
        "Current: 7.39376E+0\n",
        "Voltage: 3.95962E-1\n"
       ]
      },
      {
       "output_type": "stream",
       "stream": "stdout",
       "text": [
        "\n",
        "404.0mV\n",
        "Current: 7.38826E+0\n",
        "Voltage: 3.95962E-1\n"
       ]
      },
      {
       "output_type": "stream",
       "stream": "stdout",
       "text": [
        "\n",
        "405.0mV\n",
        "Current: 7.38826E+0\n",
        "Voltage: 3.98154E-1\n"
       ]
      },
      {
       "output_type": "stream",
       "stream": "stdout",
       "text": [
        "\n",
        "406.0mV\n",
        "Current: 7.39376E+0\n",
        "Voltage: 3.98154E-1\n"
       ]
      },
      {
       "output_type": "stream",
       "stream": "stdout",
       "text": [
        "\n",
        "407.0mV\n",
        "Current: 7.39376E+0\n",
        "Voltage: 4.00345E-1\n"
       ]
      },
      {
       "output_type": "stream",
       "stream": "stdout",
       "text": [
        "\n",
        "408.0mV\n",
        "Current: 7.39376E+0\n",
        "Voltage: 4.00345E-1\n"
       ]
      },
      {
       "output_type": "stream",
       "stream": "stdout",
       "text": [
        "\n",
        "409.0mV\n",
        "Current: 7.39927E+0\n",
        "Voltage: 4.00345E-1\n"
       ]
      },
      {
       "output_type": "stream",
       "stream": "stdout",
       "text": [
        "\n",
        "410.0mV\n",
        "Current: 7.39376E+0\n",
        "Voltage: 4.02536E-1\n"
       ]
      },
      {
       "output_type": "stream",
       "stream": "stdout",
       "text": [
        "\n",
        "411.0mV\n",
        "Current: 7.39927E+0\n",
        "Voltage: 4.02536E-1\n"
       ]
      },
      {
       "output_type": "stream",
       "stream": "stdout",
       "text": [
        "\n",
        "412.0mV\n",
        "Current: 7.40477E+0\n",
        "Voltage: 4.04727E-1\n"
       ]
      },
      {
       "output_type": "stream",
       "stream": "stdout",
       "text": [
        "\n",
        "413.0mV\n",
        "Current: 7.39927E+0\n",
        "Voltage: 4.04727E-1\n"
       ]
      },
      {
       "output_type": "stream",
       "stream": "stdout",
       "text": [
        "\n",
        "414.0mV\n",
        "Current: 7.39927E+0\n",
        "Voltage: 4.06918E-1\n"
       ]
      },
      {
       "output_type": "stream",
       "stream": "stdout",
       "text": [
        "\n",
        "415.0mV\n",
        "Current: 7.41028E+0\n",
        "Voltage: 4.06918E-1\n"
       ]
      },
      {
       "output_type": "stream",
       "stream": "stdout",
       "text": [
        "\n",
        "416.0mV\n",
        "Current: 7.40477E+0\n",
        "Voltage: 4.09110E-1\n"
       ]
      },
      {
       "output_type": "stream",
       "stream": "stdout",
       "text": [
        "\n",
        "417.0mV\n",
        "Current: 7.40477E+0\n",
        "Voltage: 4.09110E-1\n"
       ]
      },
      {
       "output_type": "stream",
       "stream": "stdout",
       "text": [
        "\n",
        "418.0mV\n",
        "Current: 7.41028E+0\n",
        "Voltage: 4.11301E-1\n"
       ]
      },
      {
       "output_type": "stream",
       "stream": "stdout",
       "text": [
        "\n",
        "419.0mV\n",
        "Current: 7.41578E+0\n",
        "Voltage: 4.11301E-1\n"
       ]
      },
      {
       "output_type": "stream",
       "stream": "stdout",
       "text": [
        "\n",
        "420.0mV\n",
        "Current: 7.41578E+0\n",
        "Voltage: 4.13492E-1\n"
       ]
      },
      {
       "output_type": "stream",
       "stream": "stdout",
       "text": [
        "\n"
       ]
      }
     ],
     "prompt_number": 20
    },
    {
     "cell_type": "code",
     "collapsed": false,
     "input": [
      "for i in np.linspace(420,480,61):\n",
      "    ps.write('VOLT:LEV:IMM ' + str(i) + 'mV')\n",
      "    print(str(i) + \"mV\\n\" + \"Current: \" + ps.ask('MEAS:CURR?') + \"Voltage: \" + ps.ask('MEAS:VOLT?'))\n",
      "    time.sleep(1)"
     ],
     "language": "python",
     "metadata": {},
     "outputs": [
      {
       "output_type": "stream",
       "stream": "stdout",
       "text": [
        "420.0mV\n",
        "Current: 7.62496E+0\n",
        "Voltage: 4.13492E-1\n",
        "\n",
        "421.0mV\n",
        "Current: 7.62496E+0\n",
        "Voltage: 4.13492E-1\n"
       ]
      },
      {
       "output_type": "stream",
       "stream": "stdout",
       "text": [
        "\n",
        "422.0mV\n",
        "Current: 7.62496E+0\n",
        "Voltage: 4.15683E-1\n"
       ]
      },
      {
       "output_type": "stream",
       "stream": "stdout",
       "text": [
        "\n",
        "423.0mV\n",
        "Current: 7.63046E+0\n",
        "Voltage: 4.15683E-1\n"
       ]
      },
      {
       "output_type": "stream",
       "stream": "stdout",
       "text": [
        "\n",
        "424.0mV\n",
        "Current: 7.63046E+0\n",
        "Voltage: 4.17875E-1\n"
       ]
      },
      {
       "output_type": "stream",
       "stream": "stdout",
       "text": [
        "\n",
        "425.0mV\n",
        "Current: 7.63046E+0\n",
        "Voltage: 4.17875E-1\n"
       ]
      },
      {
       "output_type": "stream",
       "stream": "stdout",
       "text": [
        "\n",
        "426.0mV\n",
        "Current: 7.63046E+0\n",
        "Voltage: 4.17875E-1\n"
       ]
      },
      {
       "output_type": "stream",
       "stream": "stdout",
       "text": [
        "\n",
        "427.0mV\n",
        "Current: 7.63046E+0\n",
        "Voltage: 4.17875E-1\n"
       ]
      },
      {
       "output_type": "stream",
       "stream": "stdout",
       "text": [
        "\n",
        "428.0mV\n",
        "Current: 7.63597E+0\n",
        "Voltage: 4.22257E-1\n"
       ]
      },
      {
       "output_type": "stream",
       "stream": "stdout",
       "text": [
        "\n",
        "429.0mV\n",
        "Current: 7.63597E+0\n",
        "Voltage: 4.22257E-1\n"
       ]
      },
      {
       "output_type": "stream",
       "stream": "stdout",
       "text": [
        "\n",
        "430.0mV\n",
        "Current: 7.64147E+0\n",
        "Voltage: 4.22257E-1\n"
       ]
      },
      {
       "output_type": "stream",
       "stream": "stdout",
       "text": [
        "\n",
        "431.0mV\n",
        "Current: 7.64698E+0\n",
        "Voltage: 4.24448E-1\n"
       ]
      },
      {
       "output_type": "stream",
       "stream": "stdout",
       "text": [
        "\n",
        "432.0mV\n",
        "Current: 7.64147E+0\n",
        "Voltage: 4.24448E-1\n"
       ]
      },
      {
       "output_type": "stream",
       "stream": "stdout",
       "text": [
        "\n",
        "433.0mV\n",
        "Current: 7.64698E+0\n",
        "Voltage: 4.24448E-1\n"
       ]
      },
      {
       "output_type": "stream",
       "stream": "stdout",
       "text": [
        "\n",
        "434.0mV\n",
        "Current: 7.64698E+0\n",
        "Voltage: 4.26639E-1\n"
       ]
      },
      {
       "output_type": "stream",
       "stream": "stdout",
       "text": [
        "\n",
        "435.0mV\n",
        "Current: 7.64698E+0\n",
        "Voltage: 4.26639E-1\n"
       ]
      },
      {
       "output_type": "stream",
       "stream": "stdout",
       "text": [
        "\n",
        "436.0mV\n",
        "Current: 7.65248E+0\n",
        "Voltage: 4.28831E-1\n"
       ]
      },
      {
       "output_type": "stream",
       "stream": "stdout",
       "text": [
        "\n",
        "437.0mV\n",
        "Current: 7.65798E+0\n",
        "Voltage: 4.28831E-1\n"
       ]
      },
      {
       "output_type": "stream",
       "stream": "stdout",
       "text": [
        "\n",
        "438.0mV\n",
        "Current: 7.65798E+0\n",
        "Voltage: 4.31022E-1\n"
       ]
      },
      {
       "output_type": "stream",
       "stream": "stdout",
       "text": [
        "\n",
        "439.0mV\n",
        "Current: 7.65798E+0\n",
        "Voltage: 4.31022E-1\n"
       ]
      },
      {
       "output_type": "stream",
       "stream": "stdout",
       "text": [
        "\n",
        "440.0mV\n",
        "Current: 7.65798E+0\n",
        "Voltage: 4.33213E-1\n"
       ]
      },
      {
       "output_type": "stream",
       "stream": "stdout",
       "text": [
        "\n",
        "441.0mV\n",
        "Current: 7.65798E+0\n",
        "Voltage: 4.33213E-1\n"
       ]
      },
      {
       "output_type": "stream",
       "stream": "stdout",
       "text": [
        "\n",
        "442.0mV\n",
        "Current: 7.66349E+0\n",
        "Voltage: 4.35404E-1\n"
       ]
      },
      {
       "output_type": "stream",
       "stream": "stdout",
       "text": [
        "\n",
        "443.0mV\n",
        "Current: 7.66349E+0\n",
        "Voltage: 4.35404E-1\n"
       ]
      },
      {
       "output_type": "stream",
       "stream": "stdout",
       "text": [
        "\n",
        "444.0mV\n",
        "Current: 7.66349E+0\n",
        "Voltage: 4.37595E-1\n"
       ]
      },
      {
       "output_type": "stream",
       "stream": "stdout",
       "text": [
        "\n",
        "445.0mV\n",
        "Current: 7.66899E+0\n",
        "Voltage: 4.37595E-1\n"
       ]
      },
      {
       "output_type": "stream",
       "stream": "stdout",
       "text": [
        "\n",
        "446.0mV\n",
        "Current: 7.66349E+0\n",
        "Voltage: 4.37595E-1\n"
       ]
      },
      {
       "output_type": "stream",
       "stream": "stdout",
       "text": [
        "\n",
        "447.0mV\n",
        "Current: 7.66899E+0\n",
        "Voltage: 4.39787E-1\n"
       ]
      },
      {
       "output_type": "stream",
       "stream": "stdout",
       "text": [
        "\n",
        "448.0mV\n",
        "Current: 7.67450E+0\n",
        "Voltage: 4.39787E-1\n"
       ]
      },
      {
       "output_type": "stream",
       "stream": "stdout",
       "text": [
        "\n",
        "449.0mV\n",
        "Current: 7.67450E+0\n",
        "Voltage: 4.41978E-1\n"
       ]
      },
      {
       "output_type": "stream",
       "stream": "stdout",
       "text": [
        "\n",
        "450.0mV\n",
        "Current: 7.68000E+0\n",
        "Voltage: 4.41978E-1\n"
       ]
      },
      {
       "output_type": "stream",
       "stream": "stdout",
       "text": [
        "\n",
        "451.0mV\n",
        "Current: 7.68000E+0\n",
        "Voltage: 4.44169E-1\n"
       ]
      },
      {
       "output_type": "stream",
       "stream": "stdout",
       "text": [
        "\n",
        "452.0mV\n",
        "Current: 7.68551E+0\n",
        "Voltage: 4.44169E-1\n"
       ]
      },
      {
       "output_type": "stream",
       "stream": "stdout",
       "text": [
        "\n",
        "453.0mV\n",
        "Current: 7.68551E+0\n",
        "Voltage: 4.46360E-1\n"
       ]
      },
      {
       "output_type": "stream",
       "stream": "stdout",
       "text": [
        "\n",
        "454.0mV\n",
        "Current: 7.68551E+0\n",
        "Voltage: 4.46360E-1\n"
       ]
      },
      {
       "output_type": "stream",
       "stream": "stdout",
       "text": [
        "\n",
        "455.0mV\n",
        "Current: 7.69101E+0\n",
        "Voltage: 4.48552E-1\n"
       ]
      },
      {
       "output_type": "stream",
       "stream": "stdout",
       "text": [
        "\n",
        "456.0mV\n",
        "Current: 7.69101E+0\n",
        "Voltage: 4.48552E-1\n"
       ]
      },
      {
       "output_type": "stream",
       "stream": "stdout",
       "text": [
        "\n",
        "457.0mV\n",
        "Current: 7.69652E+0\n",
        "Voltage: 4.50743E-1\n"
       ]
      },
      {
       "output_type": "stream",
       "stream": "stdout",
       "text": [
        "\n",
        "458.0mV\n",
        "Current: 7.69101E+0\n",
        "Voltage: 4.50743E-1\n"
       ]
      },
      {
       "output_type": "stream",
       "stream": "stdout",
       "text": [
        "\n",
        "459.0mV\n",
        "Current: 7.70202E+0\n",
        "Voltage: 4.52934E-1\n"
       ]
      },
      {
       "output_type": "stream",
       "stream": "stdout",
       "text": [
        "\n",
        "460.0mV\n",
        "Current: 7.70202E+0\n",
        "Voltage: 4.52934E-1\n"
       ]
      },
      {
       "output_type": "stream",
       "stream": "stdout",
       "text": [
        "\n",
        "461.0mV\n",
        "Current: 7.70753E+0\n",
        "Voltage: 4.52934E-1\n"
       ]
      },
      {
       "output_type": "stream",
       "stream": "stdout",
       "text": [
        "\n",
        "462.0mV\n",
        "Current: 7.70753E+0\n",
        "Voltage: 4.52934E-1\n"
       ]
      },
      {
       "output_type": "stream",
       "stream": "stdout",
       "text": [
        "\n",
        "463.0mV\n",
        "Current: 7.70753E+0\n",
        "Voltage: 4.57316E-1\n"
       ]
      },
      {
       "output_type": "stream",
       "stream": "stdout",
       "text": [
        "\n",
        "464.0mV\n",
        "Current: 7.71303E+0\n",
        "Voltage: 4.57316E-1\n"
       ]
      },
      {
       "output_type": "stream",
       "stream": "stdout",
       "text": [
        "\n",
        "465.0mV\n",
        "Current: 7.71303E+0\n",
        "Voltage: 4.57316E-1\n"
       ]
      },
      {
       "output_type": "stream",
       "stream": "stdout",
       "text": [
        "\n",
        "466.0mV\n",
        "Current: 7.71854E+0\n",
        "Voltage: 4.59508E-1\n"
       ]
      },
      {
       "output_type": "stream",
       "stream": "stdout",
       "text": [
        "\n",
        "467.0mV\n",
        "Current: 7.71854E+0\n",
        "Voltage: 4.59508E-1\n"
       ]
      },
      {
       "output_type": "stream",
       "stream": "stdout",
       "text": [
        "\n",
        "468.0mV\n",
        "Current: 7.72404E+0\n",
        "Voltage: 4.59508E-1\n"
       ]
      },
      {
       "output_type": "stream",
       "stream": "stdout",
       "text": [
        "\n",
        "469.0mV\n",
        "Current: 7.72404E+0\n",
        "Voltage: 4.61699E-1\n"
       ]
      },
      {
       "output_type": "stream",
       "stream": "stdout",
       "text": [
        "\n",
        "470.0mV\n",
        "Current: 7.72404E+0\n",
        "Voltage: 4.61699E-1\n"
       ]
      },
      {
       "output_type": "stream",
       "stream": "stdout",
       "text": [
        "\n",
        "471.0mV\n",
        "Current: 7.72955E+0\n",
        "Voltage: 4.63890E-1\n"
       ]
      },
      {
       "output_type": "stream",
       "stream": "stdout",
       "text": [
        "\n",
        "472.0mV\n",
        "Current: 7.72955E+0\n",
        "Voltage: 4.63890E-1\n"
       ]
      },
      {
       "output_type": "stream",
       "stream": "stdout",
       "text": [
        "\n",
        "473.0mV\n",
        "Current: 7.73505E+0\n",
        "Voltage: 4.66081E-1\n"
       ]
      },
      {
       "output_type": "stream",
       "stream": "stdout",
       "text": [
        "\n",
        "474.0mV\n",
        "Current: 7.73505E+0\n",
        "Voltage: 4.66081E-1\n"
       ]
      },
      {
       "output_type": "stream",
       "stream": "stdout",
       "text": [
        "\n",
        "475.0mV\n",
        "Current: 7.73505E+0\n",
        "Voltage: 4.68272E-1\n"
       ]
      },
      {
       "output_type": "stream",
       "stream": "stdout",
       "text": [
        "\n",
        "476.0mV\n",
        "Current: 7.74056E+0\n",
        "Voltage: 4.68272E-1\n"
       ]
      },
      {
       "output_type": "stream",
       "stream": "stdout",
       "text": [
        "\n",
        "477.0mV\n",
        "Current: 7.74606E+0\n",
        "Voltage: 4.70464E-1\n"
       ]
      },
      {
       "output_type": "stream",
       "stream": "stdout",
       "text": [
        "\n",
        "478.0mV\n",
        "Current: 7.75156E+0\n",
        "Voltage: 4.70464E-1\n"
       ]
      },
      {
       "output_type": "stream",
       "stream": "stdout",
       "text": [
        "\n",
        "479.0mV\n",
        "Current: 7.75156E+0\n",
        "Voltage: 4.72655E-1\n"
       ]
      },
      {
       "output_type": "stream",
       "stream": "stdout",
       "text": [
        "\n",
        "480.0mV\n",
        "Current: 7.75707E+0\n",
        "Voltage: 4.72655E-1\n"
       ]
      },
      {
       "output_type": "stream",
       "stream": "stdout",
       "text": [
        "\n"
       ]
      }
     ],
     "prompt_number": 23
    },
    {
     "cell_type": "code",
     "collapsed": false,
     "input": [
      "for i in np.linspace(480,500,21):\n",
      "    ps.write('VOLT:LEV:IMM ' + str(i) + 'mV')\n",
      "    print(str(i) + \"mV\\n\" + \"Current: \" + ps.ask('MEAS:CURR?') + \"Voltage: \" + ps.ask('MEAS:VOLT?'))\n",
      "    time.sleep(1)"
     ],
     "language": "python",
     "metadata": {},
     "outputs": [
      {
       "output_type": "stream",
       "stream": "stdout",
       "text": [
        "480.0mV\n",
        "Current: 8.08184E+0\n",
        "Voltage: 4.72655E-1\n",
        "\n",
        "481.0mV\n",
        "Current: 8.08184E+0\n",
        "Voltage: 4.74846E-1\n"
       ]
      },
      {
       "output_type": "stream",
       "stream": "stdout",
       "text": [
        "\n",
        "482.0mV\n",
        "Current: 8.08735E+0\n",
        "Voltage: 4.74846E-1\n"
       ]
      },
      {
       "output_type": "stream",
       "stream": "stdout",
       "text": [
        "\n",
        "483.0mV\n",
        "Current: 8.09285E+0\n",
        "Voltage: 4.74846E-1\n"
       ]
      },
      {
       "output_type": "stream",
       "stream": "stdout",
       "text": [
        "\n",
        "484.0mV\n",
        "Current: 8.08735E+0\n",
        "Voltage: 4.77037E-1\n"
       ]
      },
      {
       "output_type": "stream",
       "stream": "stdout",
       "text": [
        "\n",
        "485.0mV\n",
        "Current: 8.08735E+0\n",
        "Voltage: 4.77037E-1\n"
       ]
      },
      {
       "output_type": "stream",
       "stream": "stdout",
       "text": [
        "\n",
        "486.0mV\n",
        "Current: 8.09285E+0\n",
        "Voltage: 4.77037E-1\n"
       ]
      },
      {
       "output_type": "stream",
       "stream": "stdout",
       "text": [
        "\n",
        "487.0mV\n",
        "Current: 8.09836E+0\n",
        "Voltage: 4.79229E-1\n"
       ]
      },
      {
       "output_type": "stream",
       "stream": "stdout",
       "text": [
        "\n",
        "488.0mV\n",
        "Current: 8.09836E+0\n",
        "Voltage: 4.79229E-1\n"
       ]
      },
      {
       "output_type": "stream",
       "stream": "stdout",
       "text": [
        "\n",
        "489.0mV\n",
        "Current: 8.10936E+0\n",
        "Voltage: 4.79229E-1\n"
       ]
      },
      {
       "output_type": "stream",
       "stream": "stdout",
       "text": [
        "\n",
        "490.0mV\n",
        "Current: 8.10386E+0\n",
        "Voltage: 4.81420E-1\n"
       ]
      },
      {
       "output_type": "stream",
       "stream": "stdout",
       "text": [
        "\n",
        "491.0mV\n",
        "Current: 8.10936E+0\n",
        "Voltage: 4.81420E-1\n"
       ]
      },
      {
       "output_type": "stream",
       "stream": "stdout",
       "text": [
        "\n",
        "492.0mV\n",
        "Current: 8.10936E+0\n",
        "Voltage: 4.85802E-1\n"
       ]
      },
      {
       "output_type": "stream",
       "stream": "stdout",
       "text": [
        "\n",
        "493.0mV\n",
        "Current: 8.10936E+0\n",
        "Voltage: 4.85802E-1\n"
       ]
      },
      {
       "output_type": "stream",
       "stream": "stdout",
       "text": [
        "\n",
        "494.0mV\n",
        "Current: 8.11487E+0\n",
        "Voltage: 4.85802E-1\n"
       ]
      },
      {
       "output_type": "stream",
       "stream": "stdout",
       "text": [
        "\n",
        "495.0mV\n",
        "Current: 8.12037E+0\n",
        "Voltage: 4.85802E-1\n"
       ]
      },
      {
       "output_type": "stream",
       "stream": "stdout",
       "text": [
        "\n",
        "496.0mV\n",
        "Current: 8.12588E+0\n",
        "Voltage: 4.87993E-1\n"
       ]
      },
      {
       "output_type": "stream",
       "stream": "stdout",
       "text": [
        "\n",
        "497.0mV\n",
        "Current: 8.12588E+0\n",
        "Voltage: 4.87993E-1\n"
       ]
      },
      {
       "output_type": "stream",
       "stream": "stdout",
       "text": [
        "\n",
        "498.0mV\n",
        "Current: 8.13138E+0\n",
        "Voltage: 4.90185E-1\n"
       ]
      },
      {
       "output_type": "stream",
       "stream": "stdout",
       "text": [
        "\n",
        "499.0mV\n",
        "Current: 8.13138E+0\n",
        "Voltage: 4.90185E-1\n"
       ]
      },
      {
       "output_type": "stream",
       "stream": "stdout",
       "text": [
        "\n",
        "500.0mV\n",
        "Current: 8.13689E+0\n",
        "Voltage: 4.92376E-1\n"
       ]
      },
      {
       "output_type": "stream",
       "stream": "stdout",
       "text": [
        "\n"
       ]
      }
     ],
     "prompt_number": 24
    },
    {
     "cell_type": "code",
     "collapsed": false,
     "input": [
      "for i in np.linspace(500,480,21):\n",
      "    ps.write('VOLT:LEV:IMM ' + str(i) + 'mV')\n",
      "    print(str(i) + \"mV\\n\" + \"Current: \" + ps.ask('MEAS:CURR?') + \"Voltage: \" + ps.ask('MEAS:VOLT?'))\n",
      "    time.sleep(1)"
     ],
     "language": "python",
     "metadata": {},
     "outputs": [
      {
       "output_type": "stream",
       "stream": "stdout",
       "text": [
        "500.0mV\n",
        "Current: 8.50019E+0\n",
        "Voltage: 4.92376E-1\n",
        "\n",
        "499.0mV\n",
        "Current: 8.50570E+0\n",
        "Voltage: 4.90185E-1\n"
       ]
      },
      {
       "output_type": "stream",
       "stream": "stdout",
       "text": [
        "\n",
        "498.0mV\n",
        "Current: 8.51120E+0\n",
        "Voltage: 4.90185E-1\n"
       ]
      },
      {
       "output_type": "stream",
       "stream": "stdout",
       "text": [
        "\n",
        "497.0mV\n",
        "Current: 8.51120E+0\n",
        "Voltage: 4.87993E-1\n"
       ]
      },
      {
       "output_type": "stream",
       "stream": "stdout",
       "text": [
        "\n",
        "496.0mV\n",
        "Current: 8.51120E+0\n",
        "Voltage: 4.87993E-1\n"
       ]
      },
      {
       "output_type": "stream",
       "stream": "stdout",
       "text": [
        "\n",
        "495.0mV\n",
        "Current: 8.51120E+0\n",
        "Voltage: 4.85802E-1\n"
       ]
      },
      {
       "output_type": "stream",
       "stream": "stdout",
       "text": [
        "\n",
        "494.0mV\n",
        "Current: 8.51671E+0\n",
        "Voltage: 4.85802E-1\n"
       ]
      },
      {
       "output_type": "stream",
       "stream": "stdout",
       "text": [
        "\n",
        "493.0mV\n",
        "Current: 8.52221E+0\n",
        "Voltage: 4.85802E-1\n"
       ]
      },
      {
       "output_type": "stream",
       "stream": "stdout",
       "text": [
        "\n",
        "492.0mV\n",
        "Current: 8.52221E+0\n",
        "Voltage: 4.85802E-1\n"
       ]
      },
      {
       "output_type": "stream",
       "stream": "stdout",
       "text": [
        "\n",
        "491.0mV\n",
        "Current: 8.52221E+0\n",
        "Voltage: 4.81420E-1\n"
       ]
      },
      {
       "output_type": "stream",
       "stream": "stdout",
       "text": [
        "\n",
        "490.0mV\n",
        "Current: 8.52772E+0\n",
        "Voltage: 4.81420E-1\n"
       ]
      },
      {
       "output_type": "stream",
       "stream": "stdout",
       "text": [
        "\n",
        "489.0mV\n",
        "Current: 8.52772E+0\n",
        "Voltage: 4.79229E-1\n"
       ]
      },
      {
       "output_type": "stream",
       "stream": "stdout",
       "text": [
        "\n",
        "488.0mV\n",
        "Current: 8.53322E+0\n",
        "Voltage: 4.79229E-1\n"
       ]
      },
      {
       "output_type": "stream",
       "stream": "stdout",
       "text": [
        "\n",
        "487.0mV\n",
        "Current: 8.53322E+0\n",
        "Voltage: 4.79229E-1\n"
       ]
      },
      {
       "output_type": "stream",
       "stream": "stdout",
       "text": [
        "\n",
        "486.0mV\n",
        "Current: 8.53873E+0\n",
        "Voltage: 4.79229E-1\n"
       ]
      },
      {
       "output_type": "stream",
       "stream": "stdout",
       "text": [
        "\n",
        "485.0mV\n",
        "Current: 8.53322E+0\n",
        "Voltage: 4.77037E-1\n"
       ]
      },
      {
       "output_type": "stream",
       "stream": "stdout",
       "text": [
        "\n",
        "484.0mV\n",
        "Current: 8.53873E+0\n",
        "Voltage: 4.77037E-1\n"
       ]
      },
      {
       "output_type": "stream",
       "stream": "stdout",
       "text": [
        "\n",
        "483.0mV\n",
        "Current: 8.53873E+0\n",
        "Voltage: 4.74846E-1\n"
       ]
      },
      {
       "output_type": "stream",
       "stream": "stdout",
       "text": [
        "\n",
        "482.0mV\n",
        "Current: 8.54423E+0\n",
        "Voltage: 4.74846E-1\n"
       ]
      },
      {
       "output_type": "stream",
       "stream": "stdout",
       "text": [
        "\n",
        "481.0mV\n",
        "Current: 8.54423E+0\n",
        "Voltage: 4.74846E-1\n"
       ]
      },
      {
       "output_type": "stream",
       "stream": "stdout",
       "text": [
        "\n",
        "480.0mV\n",
        "Current: 8.54423E+0\n",
        "Voltage: 4.72655E-1\n"
       ]
      },
      {
       "output_type": "stream",
       "stream": "stdout",
       "text": [
        "\n"
       ]
      }
     ],
     "prompt_number": 25
    },
    {
     "cell_type": "code",
     "collapsed": false,
     "input": [
      "for i in np.linspace(100,0,101):\n",
      "    ps.write('VOLT:LEV:IMM ' + str(i) + 'mV')\n",
      "    print(str(i) + \"mV\\n\" + \"Current: \" + ps.ask('MEAS:CURR?') + \"Voltage: \" + ps.ask('MEAS:VOLT?'))\n",
      "    time.sleep(1)"
     ],
     "language": "python",
     "metadata": {},
     "outputs": [
      {
       "output_type": "stream",
       "stream": "stdout",
       "text": [
        "100.0mV\n",
        "Current: 5.13136E+0\n",
        "Voltage: 9.13834E-2\n",
        "\n",
        "99.0mV\n",
        "Current: 5.12586E+0\n",
        "Voltage: 9.13834E-2\n"
       ]
      },
      {
       "output_type": "stream",
       "stream": "stdout",
       "text": [
        "\n",
        "98.0mV\n",
        "Current: 5.12586E+0\n",
        "Voltage: 8.91921E-2\n"
       ]
      },
      {
       "output_type": "stream",
       "stream": "stdout",
       "text": [
        "\n",
        "97.0mV\n",
        "Current: 5.12035E+0\n",
        "Voltage: 8.91921E-2\n"
       ]
      },
      {
       "output_type": "stream",
       "stream": "stdout",
       "text": [
        "\n",
        "96.0mV\n",
        "Current: 5.10934E+0\n",
        "Voltage: 8.91921E-2\n"
       ]
      },
      {
       "output_type": "stream",
       "stream": "stdout",
       "text": [
        "\n",
        "95.0mV\n",
        "Current: 5.11485E+0\n",
        "Voltage: 8.91921E-2\n"
       ]
      },
      {
       "output_type": "stream",
       "stream": "stdout",
       "text": [
        "\n",
        "94.0mV\n",
        "Current: 5.10934E+0\n",
        "Voltage: 8.48097E-2\n"
       ]
      },
      {
       "output_type": "stream",
       "stream": "stdout",
       "text": [
        "\n",
        "93.0mV\n",
        "Current: 5.10384E+0\n",
        "Voltage: 8.48097E-2\n"
       ]
      },
      {
       "output_type": "stream",
       "stream": "stdout",
       "text": [
        "\n",
        "92.0mV\n",
        "Current: 5.09833E+0\n",
        "Voltage: 8.26185E-2\n"
       ]
      },
      {
       "output_type": "stream",
       "stream": "stdout",
       "text": [
        "\n",
        "91.0mV\n",
        "Current: 5.09283E+0\n",
        "Voltage: 8.26185E-2\n"
       ]
      },
      {
       "output_type": "stream",
       "stream": "stdout",
       "text": [
        "\n",
        "90.0mV\n",
        "Current: 5.09283E+0\n",
        "Voltage: 8.26185E-2\n"
       ]
      },
      {
       "output_type": "stream",
       "stream": "stdout",
       "text": [
        "\n",
        "89.0mV\n",
        "Current: 5.08732E+0\n",
        "Voltage: 8.26185E-2\n"
       ]
      },
      {
       "output_type": "stream",
       "stream": "stdout",
       "text": [
        "\n",
        "88.0mV\n",
        "Current: 5.08182E+0\n",
        "Voltage: 8.04273E-2\n"
       ]
      },
      {
       "output_type": "stream",
       "stream": "stdout",
       "text": [
        "\n",
        "87.0mV\n",
        "Current: 5.07631E+0\n",
        "Voltage: 8.04273E-2\n"
       ]
      },
      {
       "output_type": "stream",
       "stream": "stdout",
       "text": [
        "\n",
        "86.0mV\n",
        "Current: 5.07631E+0\n",
        "Voltage: 7.82361E-2\n"
       ]
      },
      {
       "output_type": "stream",
       "stream": "stdout",
       "text": [
        "\n",
        "85.0mV\n",
        "Current: 5.06530E+0\n",
        "Voltage: 7.82361E-2\n"
       ]
      },
      {
       "output_type": "stream",
       "stream": "stdout",
       "text": [
        "\n",
        "84.0mV\n",
        "Current: 5.06530E+0\n",
        "Voltage: 7.60449E-2\n"
       ]
      },
      {
       "output_type": "stream",
       "stream": "stdout",
       "text": [
        "\n",
        "83.0mV\n",
        "Current: 5.05980E+0\n",
        "Voltage: 7.60449E-2\n"
       ]
      },
      {
       "output_type": "stream",
       "stream": "stdout",
       "text": [
        "\n",
        "82.0mV\n",
        "Current: 5.05430E+0\n",
        "Voltage: 7.38536E-2\n"
       ]
      },
      {
       "output_type": "stream",
       "stream": "stdout",
       "text": [
        "\n",
        "81.0mV\n",
        "Current: 5.04879E+0\n",
        "Voltage: 7.38536E-2\n"
       ]
      },
      {
       "output_type": "stream",
       "stream": "stdout",
       "text": [
        "\n",
        "80.0mV\n",
        "Current: 5.04329E+0\n",
        "Voltage: 7.16624E-2\n"
       ]
      },
      {
       "output_type": "stream",
       "stream": "stdout",
       "text": [
        "\n",
        "79.0mV\n",
        "Current: 5.04329E+0\n",
        "Voltage: 7.16624E-2\n"
       ]
      },
      {
       "output_type": "stream",
       "stream": "stdout",
       "text": [
        "\n",
        "78.0mV\n",
        "Current: 5.03778E+0\n",
        "Voltage: 6.94712E-2\n"
       ]
      },
      {
       "output_type": "stream",
       "stream": "stdout",
       "text": [
        "\n",
        "77.0mV\n",
        "Current: 5.02677E+0\n",
        "Voltage: 6.94712E-2\n"
       ]
      },
      {
       "output_type": "stream",
       "stream": "stdout",
       "text": [
        "\n",
        "76.0mV\n",
        "Current: 5.02677E+0\n",
        "Voltage: 6.72800E-2\n"
       ]
      },
      {
       "output_type": "stream",
       "stream": "stdout",
       "text": [
        "\n",
        "75.0mV\n",
        "Current: 5.01576E+0\n",
        "Voltage: 6.72800E-2\n"
       ]
      },
      {
       "output_type": "stream",
       "stream": "stdout",
       "text": [
        "\n",
        "74.0mV\n",
        "Current: 5.01576E+0\n",
        "Voltage: 6.50888E-2\n"
       ]
      },
      {
       "output_type": "stream",
       "stream": "stdout",
       "text": [
        "\n",
        "73.0mV\n",
        "Current: 5.01576E+0\n",
        "Voltage: 6.50888E-2\n"
       ]
      },
      {
       "output_type": "stream",
       "stream": "stdout",
       "text": [
        "\n",
        "72.0mV\n",
        "Current: 5.00475E+0\n",
        "Voltage: 6.28976E-2\n"
       ]
      },
      {
       "output_type": "stream",
       "stream": "stdout",
       "text": [
        "\n",
        "71.0mV\n",
        "Current: 4.99925E+0\n",
        "Voltage: 6.28976E-2\n"
       ]
      },
      {
       "output_type": "stream",
       "stream": "stdout",
       "text": [
        "\n",
        "70.0mV\n",
        "Current: 4.99374E+0\n",
        "Voltage: 6.28976E-2\n"
       ]
      },
      {
       "output_type": "stream",
       "stream": "stdout",
       "text": [
        "\n",
        "69.0mV\n",
        "Current: 4.98824E+0\n",
        "Voltage: 6.07063E-2\n"
       ]
      },
      {
       "output_type": "stream",
       "stream": "stdout",
       "text": [
        "\n",
        "68.0mV\n",
        "Current: 4.98824E+0\n",
        "Voltage: 6.07063E-2\n"
       ]
      },
      {
       "output_type": "stream",
       "stream": "stdout",
       "text": [
        "\n",
        "67.0mV\n",
        "Current: 4.98273E+0\n",
        "Voltage: 5.85151E-2\n"
       ]
      },
      {
       "output_type": "stream",
       "stream": "stdout",
       "text": [
        "\n",
        "66.0mV\n",
        "Current: 4.97723E+0\n",
        "Voltage: 5.85151E-2\n"
       ]
      },
      {
       "output_type": "stream",
       "stream": "stdout",
       "text": [
        "\n",
        "65.0mV\n",
        "Current: 4.97173E+0\n",
        "Voltage: 5.63239E-2\n"
       ]
      },
      {
       "output_type": "stream",
       "stream": "stdout",
       "text": [
        "\n",
        "64.0mV\n",
        "Current: 4.97173E+0\n",
        "Voltage: 5.63239E-2\n"
       ]
      },
      {
       "output_type": "stream",
       "stream": "stdout",
       "text": [
        "\n",
        "63.0mV\n",
        "Current: 4.96072E+0\n",
        "Voltage: 5.63239E-2\n"
       ]
      },
      {
       "output_type": "stream",
       "stream": "stdout",
       "text": [
        "\n",
        "62.0mV\n",
        "Current: 4.95521E+0\n",
        "Voltage: 5.63239E-2\n"
       ]
      },
      {
       "output_type": "stream",
       "stream": "stdout",
       "text": [
        "\n",
        "61.0mV\n",
        "Current: 4.94971E+0\n",
        "Voltage: 5.41327E-2\n"
       ]
      },
      {
       "output_type": "stream",
       "stream": "stdout",
       "text": [
        "\n",
        "60.0mV\n",
        "Current: 4.94420E+0\n",
        "Voltage: 5.41327E-2\n"
       ]
      },
      {
       "output_type": "stream",
       "stream": "stdout",
       "text": [
        "\n",
        "59.0mV\n",
        "Current: 4.93870E+0\n",
        "Voltage: 4.97503E-2\n"
       ]
      },
      {
       "output_type": "stream",
       "stream": "stdout",
       "text": [
        "\n",
        "58.0mV\n",
        "Current: 4.93870E+0\n",
        "Voltage: 4.97503E-2\n"
       ]
      },
      {
       "output_type": "stream",
       "stream": "stdout",
       "text": [
        "\n",
        "57.0mV\n",
        "Current: 4.93319E+0\n",
        "Voltage: 4.75590E-2\n"
       ]
      },
      {
       "output_type": "stream",
       "stream": "stdout",
       "text": [
        "\n",
        "56.0mV\n",
        "Current: 4.92769E+0\n",
        "Voltage: 4.75590E-2\n"
       ]
      },
      {
       "output_type": "stream",
       "stream": "stdout",
       "text": [
        "\n",
        "55.0mV\n",
        "Current: 4.91668E+0\n",
        "Voltage: 4.75590E-2\n"
       ]
      },
      {
       "output_type": "stream",
       "stream": "stdout",
       "text": [
        "\n",
        "54.0mV\n",
        "Current: 4.91118E+0\n",
        "Voltage: 4.75590E-2\n"
       ]
      },
      {
       "output_type": "stream",
       "stream": "stdout",
       "text": [
        "\n",
        "53.0mV\n",
        "Current: 4.91118E+0\n",
        "Voltage: 4.53678E-2\n"
       ]
      },
      {
       "output_type": "stream",
       "stream": "stdout",
       "text": [
        "\n",
        "52.0mV\n",
        "Current: 4.90017E+0\n",
        "Voltage: 4.53678E-2\n"
       ]
      },
      {
       "output_type": "stream",
       "stream": "stdout",
       "text": [
        "\n",
        "51.0mV\n",
        "Current: 4.89466E+0\n",
        "Voltage: 4.31766E-2\n"
       ]
      },
      {
       "output_type": "stream",
       "stream": "stdout",
       "text": [
        "\n",
        "50.0mV\n",
        "Current: 4.88916E+0\n",
        "Voltage: 4.31766E-2\n"
       ]
      },
      {
       "output_type": "stream",
       "stream": "stdout",
       "text": [
        "\n",
        "49.0mV\n",
        "Current: 4.88916E+0\n",
        "Voltage: 4.09854E-2\n"
       ]
      },
      {
       "output_type": "stream",
       "stream": "stdout",
       "text": [
        "\n",
        "48.0mV\n",
        "Current: 4.88365E+0\n",
        "Voltage: 4.09854E-2\n"
       ]
      },
      {
       "output_type": "stream",
       "stream": "stdout",
       "text": [
        "\n",
        "47.0mV\n",
        "Current: 4.87264E+0\n",
        "Voltage: 3.87942E-2\n"
       ]
      },
      {
       "output_type": "stream",
       "stream": "stdout",
       "text": [
        "\n",
        "46.0mV\n",
        "Current: 4.87264E+0\n",
        "Voltage: 3.87942E-2\n"
       ]
      },
      {
       "output_type": "stream",
       "stream": "stdout",
       "text": [
        "\n",
        "45.0mV\n",
        "Current: 4.86714E+0\n",
        "Voltage: 3.66030E-2\n"
       ]
      },
      {
       "output_type": "stream",
       "stream": "stdout",
       "text": [
        "\n",
        "44.0mV\n",
        "Current: 4.86163E+0\n",
        "Voltage: 3.66030E-2\n"
       ]
      },
      {
       "output_type": "stream",
       "stream": "stdout",
       "text": [
        "\n",
        "43.0mV\n",
        "Current: 4.85613E+0\n",
        "Voltage: 3.44117E-2\n"
       ]
      },
      {
       "output_type": "stream",
       "stream": "stdout",
       "text": [
        "\n",
        "42.0mV\n",
        "Current: 4.85613E+0\n",
        "Voltage: 3.44117E-2\n"
       ]
      },
      {
       "output_type": "stream",
       "stream": "stdout",
       "text": [
        "\n",
        "41.0mV\n",
        "Current: 4.84512E+0\n",
        "Voltage: 3.22205E-2\n"
       ]
      },
      {
       "output_type": "stream",
       "stream": "stdout",
       "text": [
        "\n",
        "40.0mV\n",
        "Current: 4.83962E+0\n",
        "Voltage: 3.22205E-2\n"
       ]
      },
      {
       "output_type": "stream",
       "stream": "stdout",
       "text": [
        "\n",
        "39.0mV\n",
        "Current: 4.83962E+0\n",
        "Voltage: 3.00293E-2\n"
       ]
      },
      {
       "output_type": "stream",
       "stream": "stdout",
       "text": [
        "\n",
        "38.0mV\n",
        "Current: 4.82861E+0\n",
        "Voltage: 3.00293E-2\n"
       ]
      },
      {
       "output_type": "stream",
       "stream": "stdout",
       "text": [
        "\n",
        "37.0mV\n",
        "Current: 4.82861E+0\n",
        "Voltage: 2.78381E-2\n"
       ]
      },
      {
       "output_type": "stream",
       "stream": "stdout",
       "text": [
        "\n",
        "36.0mV\n",
        "Current: 4.82310E+0\n",
        "Voltage: 2.78381E-2\n"
       ]
      },
      {
       "output_type": "stream",
       "stream": "stdout",
       "text": [
        "\n",
        "35.0mV\n",
        "Current: 4.80659E+0\n",
        "Voltage: 2.56469E-2\n"
       ]
      },
      {
       "output_type": "stream",
       "stream": "stdout",
       "text": [
        "\n",
        "34.0mV\n",
        "Current: 4.80659E+0\n",
        "Voltage: 2.56469E-2\n"
       ]
      },
      {
       "output_type": "stream",
       "stream": "stdout",
       "text": [
        "\n",
        "33.0mV\n",
        "Current: 4.80108E+0\n",
        "Voltage: 2.56469E-2\n"
       ]
      },
      {
       "output_type": "stream",
       "stream": "stdout",
       "text": [
        "\n",
        "32.0mV\n",
        "Current: 4.80108E+0\n",
        "Voltage: 2.34557E-2\n"
       ]
      },
      {
       "output_type": "stream",
       "stream": "stdout",
       "text": [
        "\n",
        "31.0mV\n",
        "Current: 4.78457E+0\n",
        "Voltage: 2.34557E-2\n"
       ]
      },
      {
       "output_type": "stream",
       "stream": "stdout",
       "text": [
        "\n",
        "30.0mV\n",
        "Current: 4.78457E+0\n",
        "Voltage: 2.34557E-2\n"
       ]
      },
      {
       "output_type": "stream",
       "stream": "stdout",
       "text": [
        "\n",
        "29.0mV\n",
        "Current: 4.77906E+0\n",
        "Voltage: 2.34557E-2\n"
       ]
      },
      {
       "output_type": "stream",
       "stream": "stdout",
       "text": [
        "\n",
        "28.0mV\n",
        "Current: 4.76805E+0\n",
        "Voltage: 2.12645E-2\n"
       ]
      },
      {
       "output_type": "stream",
       "stream": "stdout",
       "text": [
        "\n",
        "27.0mV\n",
        "Current: 4.76805E+0\n",
        "Voltage: 2.12645E-2\n"
       ]
      },
      {
       "output_type": "stream",
       "stream": "stdout",
       "text": [
        "\n",
        "26.0mV\n",
        "Current: 4.75705E+0\n",
        "Voltage: 1.90732E-2\n"
       ]
      },
      {
       "output_type": "stream",
       "stream": "stdout",
       "text": [
        "\n",
        "25.0mV\n",
        "Current: 4.75154E+0\n",
        "Voltage: 1.90732E-2\n"
       ]
      },
      {
       "output_type": "stream",
       "stream": "stdout",
       "text": [
        "\n",
        "24.0mV\n",
        "Current: 4.74604E+0\n",
        "Voltage: 1.46908E-2\n"
       ]
      },
      {
       "output_type": "stream",
       "stream": "stdout",
       "text": [
        "\n",
        "23.0mV\n",
        "Current: 4.74604E+0\n",
        "Voltage: 1.46908E-2\n"
       ]
      },
      {
       "output_type": "stream",
       "stream": "stdout",
       "text": [
        "\n",
        "22.0mV\n",
        "Current: 4.73503E+0\n",
        "Voltage: 1.46908E-2\n"
       ]
      },
      {
       "output_type": "stream",
       "stream": "stdout",
       "text": [
        "\n",
        "21.0mV\n",
        "Current: 4.72952E+0\n",
        "Voltage: 1.46908E-2\n"
       ]
      },
      {
       "output_type": "stream",
       "stream": "stdout",
       "text": [
        "\n",
        "20.0mV\n",
        "Current: 4.72402E+0\n",
        "Voltage: 1.24996E-2\n"
       ]
      },
      {
       "output_type": "stream",
       "stream": "stdout",
       "text": [
        "\n",
        "19.0mV\n",
        "Current: 4.71851E+0\n",
        "Voltage: 1.24996E-2\n"
       ]
      },
      {
       "output_type": "stream",
       "stream": "stdout",
       "text": [
        "\n",
        "18.0mV\n",
        "Current: 4.71301E+0\n",
        "Voltage: 1.03084E-2\n"
       ]
      },
      {
       "output_type": "stream",
       "stream": "stdout",
       "text": [
        "\n",
        "17.0mV\n",
        "Current: 4.71301E+0\n",
        "Voltage: 1.03084E-2\n"
       ]
      },
      {
       "output_type": "stream",
       "stream": "stdout",
       "text": [
        "\n",
        "16.0mV\n",
        "Current: 4.70750E+0\n",
        "Voltage: 8.11716E-3\n"
       ]
      },
      {
       "output_type": "stream",
       "stream": "stdout",
       "text": [
        "\n",
        "15.0mV\n",
        "Current: 4.69099E+0\n",
        "Voltage: 8.11716E-3\n"
       ]
      },
      {
       "output_type": "stream",
       "stream": "stdout",
       "text": [
        "\n",
        "14.0mV\n",
        "Current: 4.68549E+0\n",
        "Voltage: 5.92594E-3\n"
       ]
      },
      {
       "output_type": "stream",
       "stream": "stdout",
       "text": [
        "\n",
        "13.0mV\n",
        "Current: 4.67998E+0\n",
        "Voltage: 5.92594E-3\n"
       ]
      },
      {
       "output_type": "stream",
       "stream": "stdout",
       "text": [
        "\n",
        "12.0mV\n",
        "Current: 4.67998E+0\n",
        "Voltage: 3.73472E-3\n"
       ]
      },
      {
       "output_type": "stream",
       "stream": "stdout",
       "text": [
        "\n",
        "11.0mV\n",
        "Current: 4.67448E+0\n",
        "Voltage: 3.73472E-3\n"
       ]
      },
      {
       "output_type": "stream",
       "stream": "stdout",
       "text": [
        "\n",
        "10.0mV\n",
        "Current: 4.66347E+0\n",
        "Voltage: 1.54351E-3\n"
       ]
      },
      {
       "output_type": "stream",
       "stream": "stdout",
       "text": [
        "\n",
        "9.0mV\n",
        "Current: 4.65796E+0\n",
        "Voltage: 1.54351E-3\n"
       ]
      },
      {
       "output_type": "stream",
       "stream": "stdout",
       "text": [
        "\n",
        "8.0mV\n",
        "Current: 4.64695E+0\n",
        "Voltage: -6.47709E-4\n"
       ]
      },
      {
       "output_type": "stream",
       "stream": "stdout",
       "text": [
        "\n",
        "7.0mV\n",
        "Current: 4.64145E+0\n",
        "Voltage: -6.47709E-4\n"
       ]
      },
      {
       "output_type": "stream",
       "stream": "stdout",
       "text": [
        "\n",
        "6.0mV\n",
        "Current: 4.64695E+0\n",
        "Voltage: -2.83892E-3\n"
       ]
      },
      {
       "output_type": "stream",
       "stream": "stdout",
       "text": [
        "\n",
        "5.0mV\n",
        "Current: 4.63594E+0\n",
        "Voltage: -2.83892E-3\n"
       ]
      },
      {
       "output_type": "stream",
       "stream": "stdout",
       "text": [
        "\n",
        "4.0mV\n",
        "Current: 4.63044E+0\n",
        "Voltage: -5.03014E-3\n"
       ]
      },
      {
       "output_type": "stream",
       "stream": "stdout",
       "text": [
        "\n",
        "3.0mV\n",
        "Current: 4.61943E+0\n",
        "Voltage: -5.03014E-3\n"
       ]
      },
      {
       "output_type": "stream",
       "stream": "stdout",
       "text": [
        "\n",
        "2.0mV\n",
        "Current: 4.60842E+0\n",
        "Voltage: -7.22136E-3\n"
       ]
      },
      {
       "output_type": "stream",
       "stream": "stdout",
       "text": [
        "\n",
        "1.0mV\n",
        "Current: 4.61393E+0\n",
        "Voltage: -7.22136E-3\n"
       ]
      },
      {
       "output_type": "stream",
       "stream": "stdout",
       "text": [
        "\n",
        "0.0mV\n",
        "Current: 4.60292E+0\n",
        "Voltage: -9.41257E-3\n"
       ]
      },
      {
       "output_type": "stream",
       "stream": "stdout",
       "text": [
        "\n"
       ]
      }
     ],
     "prompt_number": 31
    },
    {
     "cell_type": "code",
     "collapsed": false,
     "input": [],
     "language": "python",
     "metadata": {},
     "outputs": []
    }
   ],
   "metadata": {}
  }
 ]
}