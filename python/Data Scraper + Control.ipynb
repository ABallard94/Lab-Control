{
 "cells": [
  {
   "cell_type": "code",
   "execution_count": 49,
   "metadata": {
    "collapsed": false
   },
   "outputs": [],
   "source": [
    "import time\n",
    "import numpy as np\n",
    "from datetime import datetime\n",
    "from calendar import timegm\n",
    "from pymongo import MongoClient, ASCENDING, DESCENDING, ReturnDocument\n",
    "import pyvisa\n",
    "import serial\n",
    "from pprint import pprint"
   ]
  },
  {
   "cell_type": "markdown",
   "metadata": {},
   "source": [
    "## Connect to Database"
   ]
  },
  {
   "cell_type": "code",
   "execution_count": 55,
   "metadata": {
    "collapsed": true
   },
   "outputs": [],
   "source": [
    "def dbConnect():\n",
    "    client = MongoClient('mongodb://localhost/')\n",
    "    db = client.data\n",
    "    collection = db.adr2datas\n",
    "    db.collection_names()\n",
    "    infocollection = db.adr2controls\n",
    "    return collection, infocollection\n",
    "collection,infocollection = dbConnect()"
   ]
  },
  {
   "cell_type": "markdown",
   "metadata": {},
   "source": [
    "##Connect to Instruments"
   ]
  },
  {
   "cell_type": "code",
   "execution_count": 40,
   "metadata": {
    "collapsed": true
   },
   "outputs": [],
   "source": [
    "def connectInstruments():\n",
    "    rm = pyvisa.ResourceManager()\n",
    "    rm.list_resources()\n",
    "    inst1 = rm.open_resource('GPIB0::1::INSTR', read_termination = '\\x00')\n",
    "    inst2 = rm.open_resource('GPIB0::2::INSTR', read_termination = '\\x00')\n",
    "    inst3 = rm.open_resource('GPIB0::6::INSTR', read_termination = '\\x00')\n",
    "    return [inst1,inst2,inst3]"
   ]
  },
  {
   "cell_type": "markdown",
   "metadata": {},
   "source": [
    "##Create Information and Data Entries"
   ]
  },
  {
   "cell_type": "code",
   "execution_count": 58,
   "metadata": {
    "collapsed": true
   },
   "outputs": [],
   "source": [
    "def get_info():\n",
    "    post = {\n",
    "        \"timeStamp\": timegm(datetime.now().timetuple()),\n",
    "        \"fridgeStatus\": \"Warm\",\n",
    "        \"currentJob\": \"None\",\n",
    "        \"switchState\": \"Closed\",\n",
    "        \"currentLimit\": 9.2,\n",
    "        \"maxVoltage\": 380,\n",
    "        \"voltageStep\": 1,\n",
    "        \"command\": \"None\"\n",
    "    }\n",
    "    return post\n"
   ]
  },
  {
   "cell_type": "code",
   "execution_count": 59,
   "metadata": {
    "collapsed": false
   },
   "outputs": [
    {
     "data": {
      "text/plain": [
       "ObjectId('55f597a86545eb56047e1f82')"
      ]
     },
     "execution_count": 59,
     "metadata": {},
     "output_type": "execute_result"
    }
   ],
   "source": [
    "infocollection.insert(get_info())"
   ]
  },
  {
   "cell_type": "code",
   "execution_count": 61,
   "metadata": {
    "collapsed": false
   },
   "outputs": [
    {
     "data": {
      "text/plain": [
       "{u'_id': ObjectId('55f5979f6545eb56047e1f81'),\n",
       " u'command': u'None',\n",
       " u'currentJob': u'None',\n",
       " u'currentLimit': 9.2,\n",
       " u'fridgeStatus': u'Warm',\n",
       " u'maxVoltage': 380,\n",
       " u'switchState': u'Closed',\n",
       " u'timeStamp': 1442144095,\n",
       " u'voltageStep': 1}"
      ]
     },
     "execution_count": 61,
     "metadata": {},
     "output_type": "execute_result"
    }
   ],
   "source": [
    "x = infocollection.find_one()\n",
    "x"
   ]
  },
  {
   "cell_type": "code",
   "execution_count": 41,
   "metadata": {
    "collapsed": false
   },
   "outputs": [
    {
     "name": "stderr",
     "output_type": "stream",
     "text": [
      "C:\\Anaconda\\lib\\site-packages\\pyvisa\\resources\\messagebased.py:387: UserWarning: read string doesn't end with termination characters\n",
      "  return self.read()\n"
     ]
    },
    {
     "data": {
      "text/plain": [
       "{'baseTemp': 0.0,\n",
       " 'currentJob': 'None',\n",
       " 'magnetVoltage': -0.0005,\n",
       " 'oneKTemp': 183.555,\n",
       " 'percentComplete': 0,\n",
       " 'psCurrent': 0,\n",
       " 'psVoltage': -0.00941257,\n",
       " 'sixtyKTemp': 254.054,\n",
       " 'switchState': 'Closed',\n",
       " 'threeKTemp': 199.048,\n",
       " 'timeStamp': 1442089425}"
      ]
     },
     "execution_count": 41,
     "metadata": {},
     "output_type": "execute_result"
    }
   ],
   "source": [
    "def get_data(inst):\n",
    "    post = {\n",
    "        \"timeStamp\": timegm(datetime.now().timetuple()),\n",
    "        \"baseTemp\": float(inst[1].ask('KRDG? B')),\n",
    "        \"oneKTemp\": float(inst[0].ask('KRDG? C')),\n",
    "        \"threeKTemp\": float(inst[0].ask('KRDG? A')),\n",
    "        \"sixtyKTemp\": float(inst[0].ask('KRDG? B')),\n",
    "        \"magnetVoltage\": float(inst[0].ask('SRDG? D')),\n",
    "        \"psVoltage\": float(inst[2].ask('MEAS:VOLT?')),\n",
    "        \"psCurrent\": 0,\n",
    "        \"currentJob\": \"None\",\n",
    "        \"percentComplete\": 0,\n",
    "        \"switchState\": \"Closed\"\n",
    "    }\n",
    "    return post\n",
    "get_data(connectInstruments())"
   ]
  },
  {
   "cell_type": "markdown",
   "metadata": {},
   "source": [
    "## Setup Log File"
   ]
  },
  {
   "cell_type": "code",
   "execution_count": 43,
   "metadata": {
    "collapsed": true
   },
   "outputs": [],
   "source": [
    "logFileName = 'ADR2Log.txt'\n",
    "inst = connectInstruments()"
   ]
  },
  {
   "cell_type": "code",
   "execution_count": 78,
   "metadata": {
    "collapsed": false
   },
   "outputs": [
    {
     "name": "stdout",
     "output_type": "stream",
     "text": [
      "Fridge Status:\n",
      "{u'_id': ObjectId('55f5979f6545eb56047e1f81'),\n",
      " u'command': u'Magdown',\n",
      " u'currentJob': u'Magdown',\n",
      " u'currentLimit': 9.2,\n",
      " u'fridgeStatus': u'Warm',\n",
      " u'maxVoltage': 380,\n",
      " u'switchState': u'Closed',\n",
      " u'timeStamp': 1442144095,\n",
      " u'voltageStep': 1}\n",
      "Magdown\n",
      "magdown\n"
     ]
    }
   ],
   "source": [
    "# Open Log File\n",
    "logFile = open(logFileName, 'a')\n",
    "\n",
    "# Read Data\n",
    "try:\n",
    "    data = get_data(inst)\n",
    "\n",
    "# Log errors if they occur and reconnect\n",
    "except UnicodeDecodeError:\n",
    "    string = \"Read error at \" + datetime.now().strftime('%H:%M:%S') + '\\n'\n",
    "    print(string)\n",
    "    logFile.write(string)\n",
    "    inst = connectInstruments()\n",
    "\n",
    "# Insert Data into Database\n",
    "else:\n",
    "    if (data['sixtyKTemp'] <= 300):\n",
    "        try:\n",
    "            collection.insert(data)\n",
    "        except:\n",
    "            print(\"Database error at \" + datetime.now().strftime('%H:%M:%S'))\n",
    "\n",
    "\n",
    "# Get information from Database\n",
    "\n",
    "info = infocollection.find().next()\n",
    "# print('Fridge Status:')\n",
    "# pprint(info)\n",
    "\n",
    "# Control\n",
    "\n",
    "# Change Fridge Status\n",
    "\n",
    "# Change Job\n",
    "print info['command']\n",
    "if info['command'] == 'Magup':\n",
    "    if info['currentJob'] != 'Magup':\n",
    "        info = infocollection.find_one_and_update({},{'$set': {'currentJob': 'Magup'}})\n",
    "        logString = \"Start Magup at \" + datetime.now().strftime('%H:%M:%S')\n",
    "        print(logString)\n",
    "        logFile.writelines([logString, '\\n'])\n",
    "\n",
    "elif info['command'] == 'Magdown':\n",
    "    if info['currentJob'] != 'Magdown':\n",
    "        info = infocollection.find_one_and_update({},{'$set': {'currentJob': 'Magdown'}})\n",
    "        logString = \"Start Magdown at \" + datetime.now().strftime('%H:%M:%S')\n",
    "        print(logString)\n",
    "        logFile.writelines([logString, '\\n'])\n",
    "\n",
    "elif info['command'] == 'Soak':\n",
    "    if info['currentJob'] != 'Soak':\n",
    "        info = infocollection.find_one_and_update({},{'$set': {'currentJob': 'Soak'}})\n",
    "        logString = \"Start Soak at \" + datetime.now().strftime('%H:%M:%S')\n",
    "        print(logString)\n",
    "        logFile.writelines([logString, '\\n'])\n",
    "        \n",
    "else:\n",
    "    print('No Command')\n",
    "\n",
    "# Control Magnet\n",
    "job = info['currentJob']\n",
    "\n",
    "if job == 'Magup':\n",
    "    # Increase Magnet Voltage\n",
    "    print('magup')\n",
    "elif job == 'Magdown':\n",
    "    # Decrease Magnet Voltage\n",
    "    print('magdown')\n",
    "elif job == 'Soak':\n",
    "    # Soak\n",
    "    print('soak')\n",
    "else:\n",
    "    print('No Job')\n",
    "\n",
    "# Close Log File\n",
    "logFile.close()\n",
    "\n",
    "# Wait\n",
    "# time.sleep(5)"
   ]
  },
  {
   "cell_type": "code",
   "execution_count": 73,
   "metadata": {
    "collapsed": false
   },
   "outputs": [
    {
     "data": {
      "text/plain": [
       "True"
      ]
     },
     "execution_count": 73,
     "metadata": {},
     "output_type": "execute_result"
    }
   ],
   "source": [
    "'Magdown' == info['command']"
   ]
  },
  {
   "cell_type": "code",
   "execution_count": null,
   "metadata": {
    "collapsed": false
   },
   "outputs": [
    {
     "name": "stdout",
     "output_type": "stream",
     "text": [
      "magup\n",
      "magup\n",
      "magup"
     ]
    }
   ],
   "source": [
    "while True:\n",
    "    # Open Log File\n",
    "    logFile = open(logFileName, 'a')\n",
    "\n",
    "    # Read Data\n",
    "    try:\n",
    "        data = get_data(inst)\n",
    "\n",
    "    # Log errors if they occur and reconnect\n",
    "    except UnicodeDecodeError:\n",
    "        string = \"Read error at \" + datetime.now().strftime('%H:%M:%S') + '\\n'\n",
    "        print(string)\n",
    "        logFile.write(string)\n",
    "        inst = connectInstruments()\n",
    "\n",
    "    # Insert Data into Database\n",
    "    else:\n",
    "        if (data['sixtyKTemp'] <= 300):\n",
    "            try:\n",
    "                collection.insert(data)\n",
    "            except:\n",
    "                print(\"Database error at \" + datetime.now().strftime('%H:%M:%S'))\n",
    "\n",
    "\n",
    "    # Get information from Database\n",
    "\n",
    "    info = infocollection.find().next()\n",
    "    # print('Fridge Status:')\n",
    "    # pprint(info)\n",
    "\n",
    "    # Control\n",
    "\n",
    "    # Change Fridge Status\n",
    "\n",
    "    # Change Job\n",
    "#     print info['command']\n",
    "    if info['command'] == 'Magup':\n",
    "        if info['currentJob'] != 'Magup':\n",
    "            info = infocollection.find_one_and_update({},{'$set': {'currentJob': 'Magup'}})\n",
    "            logString = \"Start Magup at \" + datetime.now().strftime('%H:%M:%S')\n",
    "            print(logString)\n",
    "            logFile.writelines([logString, '\\n'])\n",
    "\n",
    "    elif info['command'] == 'Magdown':\n",
    "        if info['currentJob'] != 'Magdown':\n",
    "            info = infocollection.find_one_and_update({},{'$set': {'currentJob': 'Magdown'}})\n",
    "            logString = \"Start Magdown at \" + datetime.now().strftime('%H:%M:%S')\n",
    "            print(logString)\n",
    "            logFile.writelines([logString, '\\n'])\n",
    "\n",
    "    elif info['command'] == 'Soak':\n",
    "        if info['currentJob'] != 'Soak':\n",
    "            info = infocollection.find_one_and_update({},{'$set': {'currentJob': 'Soak'}})\n",
    "            logString = \"Start Soak at \" + datetime.now().strftime('%H:%M:%S')\n",
    "            print(logString)\n",
    "            logFile.writelines([logString, '\\n'])\n",
    "\n",
    "    else:\n",
    "        print('No Command')\n",
    "\n",
    "    # Control Magnet\n",
    "    job = info['currentJob']\n",
    "\n",
    "    if job == 'Magup':\n",
    "        # Increase Magnet Voltage\n",
    "        print('magup')\n",
    "    elif job == 'Magdown':\n",
    "        # Decrease Magnet Voltage\n",
    "        print('magdown')\n",
    "    elif job == 'Soak':\n",
    "        # Soak\n",
    "        print('soak')\n",
    "    else:\n",
    "        print('No Job')\n",
    "\n",
    "    # Close Log File\n",
    "    logFile.close()\n",
    "\n",
    "    # Wait\n",
    "    time.sleep(5)"
   ]
  },
  {
   "cell_type": "code",
   "execution_count": null,
   "metadata": {
    "collapsed": true
   },
   "outputs": [],
   "source": []
  }
 ],
 "metadata": {
  "kernelspec": {
   "display_name": "Python 2",
   "language": "python",
   "name": "python2"
  }
 },
 "nbformat": 4,
 "nbformat_minor": 0
}
