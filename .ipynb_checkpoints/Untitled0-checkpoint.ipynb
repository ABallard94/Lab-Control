{
 "metadata": {
  "name": "",
  "signature": "sha256:a88e7a63fb5df52e78e3474e8dca7a114f37a221b5b46825ce8b665b73f6f2fd"
 },
 "nbformat": 3,
 "nbformat_minor": 0,
 "worksheets": []
}